{
 "cells": [
  {
   "cell_type": "code",
   "execution_count": null,
   "metadata": {},
   "outputs": [],
   "source": [
    "from sttn.data.lehd import OriginDestinationEmploymentDataProvider\n",
    "\n",
    "provider = OriginDestinationEmploymentDataProvider()\n",
    "network = provider.get_data(state='ny', year=2018)"
   ]
  },
  {
   "cell_type": "code",
   "execution_count": null,
   "metadata": {
    "scrolled": false
   },
   "outputs": [],
   "source": [
    "residence_sum = network.agg_adjacent_edges(aggs={'S000':'sum'}, outgoing=False).rename(columns={'S000':'total_jobs'})\n",
    "with_residence = network.join_node_labels(residence_sum)\n",
    "with_residence.plot(figsize=(15,15), column='total_jobs', cmap=\"Reds\", scheme='quantiles', k=15, legend=True)"
   ]
  },
  {
   "cell_type": "code",
   "execution_count": null,
   "metadata": {},
   "outputs": [],
   "source": [
    "NYC = ['New York County, NY', 'Queens County, NY','Kings County, NY','Bronx County, NY','Richmond County, NY']\n",
    "# bay_area = ['San Francisco County, CA', 'San Mateo County, CA', 'Santa Clara County, CA', 'Alameda County, CA', 'Marin County, CA', 'Contra Costa County, CA']\n",
    "nyc_network = network.filter_nodes(network.node_labels.county.isin(NYC))\n",
    "nyc_residence_sum = nyc_network.agg_adjacent_edges(aggs={'S000':'sum'}, outgoing=False).rename(columns={'S000':'total_jobs'})\n",
    "nyc_with_residence = nyc_network.join_node_labels(nyc_residence_sum)\n",
    "nyc_with_residence.plot(figsize=(15,15), column='total_jobs', cmap=\"Reds\", scheme='quantiles', k=20, legend=True)"
   ]
  },
  {
   "cell_type": "code",
   "execution_count": null,
   "metadata": {
    "scrolled": false
   },
   "outputs": [],
   "source": [
    "nyc_county_network = nyc_network.group_nodes('county')\n",
    "nyc_county_network = nyc_county_network.agg_parallel_edges(column_aggs={'S000': 'sum'})\n",
    "nyc_fdf = nyc_county_network.to_flow_date_frame(flow='S000')\n",
    "nyc_fdf.plot_flows(flow_color='red')"
   ]
  },
  {
   "cell_type": "code",
   "execution_count": null,
   "metadata": {},
   "outputs": [],
   "source": [
    "# Gravity model\n",
    "from skmob.models import Gravity\n",
    "conty_residence = nyc_county_network.agg_adjacent_edges(aggs={'S000': 'sum'}, outgoing=True).rename(columns={'S000': 'residence'})\n",
    "county_outflow = nyc_county_network.agg_adjacent_edges(aggs={'S000': 'sum'}, outgoing=True, include_cycles=False).rename(columns={'S000': 'outflow'})\n",
    "nyc_with_residence = nyc_county_network.join_node_labels(conty_residence).join_node_labels(county_outflow)\n",
    "nyc_fdf = nyc_with_residence.to_flow_date_frame(flow='S000')\n",
    "\n",
    "gravity_singly_fitted = Gravity(gravity_type='singly constrained')\n",
    "gravity_singly_fitted.fit(nyc_fdf, relevance_column='residence')\n",
    "print(Gravity(gravity_type='singly constrained'))\n",
    "print(gravity_singly_fitted)"
   ]
  },
  {
   "cell_type": "code",
   "execution_count": null,
   "metadata": {},
   "outputs": [],
   "source": [
    "# generate synthetics flows\n",
    "import numpy as np\n",
    "np.random.seed(0)\n",
    "\n",
    "synth_fdf = gravity_singly_fitted.generate(nyc_with_residence.node_labels.reset_index(),\n",
    "                                            tile_id_column='id',\n",
    "                                            tot_outflows_column='outflow',\n",
    "                                            relevance_column= 'residence',\n",
    "                                            out_format='flows')\n",
    "synth_fdf"
   ]
  },
  {
   "cell_type": "code",
   "execution_count": null,
   "metadata": {},
   "outputs": [],
   "source": [
    "# Radiation model\n",
    "from skmob.models import Radiation\n",
    "radiation = Radiation()\n",
    "np.random.seed(0)\n",
    "rad_flows = radiation.generate(nyc_with_residence.node_labels.reset_index(), \n",
    "                                tile_id_column='id',  \n",
    "                                tot_outflows_column='outflow', \n",
    "                                relevance_column='residence', \n",
    "                                out_format='flows')\n",
    "rad_flows"
   ]
  }
 ],
 "metadata": {
  "kernelspec": {
   "display_name": "Python 3",
   "language": "python",
   "name": "python3"
  },
  "language_info": {
   "codemirror_mode": {
    "name": "ipython",
    "version": 3
   },
   "file_extension": ".py",
   "mimetype": "text/x-python",
   "name": "python",
   "nbconvert_exporter": "python",
   "pygments_lexer": "ipython3",
   "version": "3.8.6"
  }
 },
 "nbformat": 4,
 "nbformat_minor": 4
}
