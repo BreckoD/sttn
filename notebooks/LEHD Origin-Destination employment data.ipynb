{
 "cells": [
  {
   "cell_type": "code",
   "execution_count": null,
   "metadata": {},
   "outputs": [],
   "source": [
    "from sttn.data.lehd import OriginDestinationEmploymentDataProvider\n",
    "\n",
    "provider = OriginDestinationEmploymentDataProvider()\n",
    "state_network = provider.get_data(state='ny', year=2018)"
   ]
  },
  {
   "cell_type": "code",
   "execution_count": null,
   "metadata": {
    "scrolled": false
   },
   "outputs": [],
   "source": [
    "residence_sum = state_network.agg_adjacent_edges(aggs={'S000':'sum'}, outgoing=False).rename(columns={'S000':'total_jobs'})\n",
    "with_residence = state_network.join_node_labels(residence_sum)\n",
    "with_residence.plot(figsize=(15,15), column='total_jobs', cmap=\"Reds\", scheme='quantiles', k=15, legend=True)"
   ]
  },
  {
   "cell_type": "code",
   "execution_count": null,
   "metadata": {},
   "outputs": [],
   "source": [
    "NYC = ['New York County, NY', 'Queens County, NY','Kings County, NY','Bronx County, NY','Richmond County, NY']\n",
    "bay_area = ['San Francisco County, CA', 'San Mateo County, CA', 'Santa Clara County, CA', 'Alameda County, CA', 'Marin County, CA', 'Contra Costa County, CA']\n",
    "boston = ['Suffolk County, MA']\n",
    "phila=['Philadelphia County, PA']\n",
    "sj = ['Santa Clara County, CA']\n",
    "sf = ['San Francisco County, CA']\n",
    "seattle = ['King County, WA']\n",
    "atlanta = ['Fulton County, GA']\n",
    "la = ['Los Angeles County, CA']\n",
    "miami = ['Miami-Dade County, FL']\n",
    "austin = ['Travis County, TX']\n",
    "chicago = ['Cook County, IL']\n",
    "indianapolis = ['Marion County, IN']\n",
    "portland = ['Multnomah County, OR']\n",
    "salt_lake = ['Salt Lake County, UT']\n",
    "vegas = ['Clark County, NV']\n",
    "detroit = ['Wayne County, MI']\n",
    "minneapolis = ['Hennepin County, MN']\n",
    "milwaukee = ['Milwaukee County, WI']\n",
    "columbus=['Delaware County, OH','Fairfield County, OH', 'Franklin County, OH']\n",
    "census_network = state_network.filter_nodes(state_network.node_labels.county.isin(NYC))\n",
    "census_network_sum = census_network.agg_adjacent_edges(aggs={'S000':'sum'}, outgoing=False).rename(columns={'S000':'total_jobs'})\n",
    "census_network_with_residence = census_network.join_node_labels(census_network_sum)\n",
    "census_network_with_residence.plot(figsize=(15,15), column='total_jobs', cmap=\"Reds\", scheme='quantiles', k=20, legend=True)"
   ]
  },
  {
   "cell_type": "code",
   "execution_count": null,
   "metadata": {
    "scrolled": false
   },
   "outputs": [],
   "source": [
    "county_network = census_network.group_nodes('zip')\n",
    "county_network = county_network.agg_parallel_edges(column_aggs={'S000': 'sum', 'SA01': 'sum', 'SA02': 'sum', 'SA03': 'sum'})\n",
    "#fdf = county_network.to_flow_date_frame(flow='S000')\n",
    "#fdf.plot_flows(flow_color='red')"
   ]
  },
  {
   "cell_type": "code",
   "execution_count": null,
   "metadata": {},
   "outputs": [],
   "source": [
    "network_with_jobs = compute_jobs(county_network, 'S000')\n",
    "fdf = network_with_jobs.to_flow_date_frame(flow='S000')\n",
    "gravity_singly_fitted=fit_gravity_model(fdf, 'power_law')\n",
    "print(Gravity(gravity_type='singly constrained'))\n",
    "print(gravity_singly_fitted)\n",
    "gravity_fdf_fitted = gravity_singly_fitted.generate(network_with_jobs.node_labels.reset_index(),\n",
    "                                            tile_id_column='id',\n",
    "                                            tot_outflows_column='outflow',\n",
    "                                            relevance_column= 'jobs',\n",
    "                                            out_format='flows').rename(columns={'flow': 'gravity_flow_fitted'})"
   ]
  },
  {
   "cell_type": "code",
   "execution_count": null,
   "metadata": {},
   "outputs": [],
   "source": [
    "compare_performance(fdf, gravity_fdf_fitted)"
   ]
  },
  {
   "cell_type": "code",
   "execution_count": null,
   "metadata": {},
   "outputs": [],
   "source": [
    "extract_model_weights(county_network)"
   ]
  },
  {
   "cell_type": "code",
   "execution_count": null,
   "metadata": {},
   "outputs": [],
   "source": [
    "import matplotlib.pyplot as plt\n",
    "import pandas as pd\n",
    "\n",
    "# #, 'Columbus', -0.87, -0.79\n",
    "cities= [\n",
    "    'NYC','Phila','San Jose','Atlanta','LA','Miami','SF','Boston','Seattle','Indianapolis','Portland',\n",
    "    'Salt Lake', 'Las Vegas', 'Detroit', 'Minneapolis', 'Milwaukee' \n",
    "]\n",
    "low = [-1.043, -0.8, -0.87, -0.97, -1.32, -0.91, -0.49, -0.79, -1.15, -0.78, -0.82, -0.77, -0.65, -1.07, -1.06, -0.71]\n",
    "high = [-0.887, -0.645, -0.67, -0.82, -1.23, -0.75, -0.47, -0.79, -0.97, -0.69, -0.68, -0.54, -0.58, -0.8, -0.76, -0.54]\n",
    "density = [\n",
    "    27242.0, 1584064/134, 1927852/1290, 1063937/527, 9818605/4058, 2716940/1899, 805235/47, # SF\n",
    "    803907/58, 1931249/2116, 964582/396, 735334/431, 1160437/742, 2266715/7891, 1749343/612, # Detroit\n",
    "    1278869/594, 947735/241, \n",
    "]\n",
    "df = pd.DataFrame({'cities':cities, 'low':low, 'high':high, 'density':density})\n",
    "\n",
    "#plt.scatter(low, high)\n",
    "#plt.xlabel(\"low-income exp\")\n",
    "#plt.ylabel(\"high-income exp\")\n",
    "#plt.show()\n",
    "df['high_to_low'] = df.high / df.low\n",
    "df['high_minus_low'] = df.high - df.low\n",
    "#df.corr()\n",
    "df.sort_values('high_minus_low').plot.bar(x='cities', y='high_minus_low', rot=30)"
   ]
  },
  {
   "cell_type": "code",
   "execution_count": null,
   "metadata": {},
   "outputs": [],
   "source": [
    "from sttn.utils import add_distance\n",
    "\n",
    "dist = add_distance(census_network)\n",
    "dist_od = add_od_jobs(dist, 'S000')\n",
    "dist_od.edges_df['coef'] = 1.0* dist_od.edges_df['from_residents']*dist_od.edges_df['to_jobs']\n",
    "dist_od.edges_df['num'] = dist_od.edges_df['S000']*dist_od.edges_df['coef']\n",
    "dist_od.edges_df['denum'] = dist_od.edges_df['coef']*dist_od.edges_df['coef']"
   ]
  },
  {
   "cell_type": "code",
   "execution_count": null,
   "metadata": {},
   "outputs": [],
   "source": [
    "bins = list(range(0, 25, 1))\n",
    "grouped = dist_od.edges_df.groupby(pd.cut(dist_od.edges_df.distance, bins)).sum()[['num', 'denum']]\n",
    "grouped['fd'] = grouped['num']/grouped['denum']\n",
    "grouped['fd'].plot(loglog=True,ylabel='f(d)')"
   ]
  },
  {
   "cell_type": "code",
   "execution_count": null,
   "metadata": {},
   "outputs": [],
   "source": [
    "import numpy as np\n",
    "filtered = dist_od.edges_df[dist_od.edges_df.from_residents > 0].copy()\n",
    "filtered['ln_coef'] = np.log(filtered['S000']) - np.log(filtered['from_residents']) - np.log(filtered['to_jobs'])\n",
    "grouped_ln = filtered.groupby(pd.cut(filtered.distance, bins)).mean()[['ln_coef']]\n",
    "grouped_ln['ln_coef'].plot(ylabel='log(f(d))', logx=True)\n"
   ]
  },
  {
   "cell_type": "code",
   "execution_count": null,
   "metadata": {},
   "outputs": [],
   "source": [
    "# generate synthetics flows\n",
    "import numpy as np\n",
    "np.random.seed(0)\n",
    "\n",
    "gravity_fdf = Gravity(gravity_type='singly constrained').generate(network_with_jobs.node_labels.reset_index(),\n",
    "                                            tile_id_column='id',\n",
    "                                            tot_outflows_column='outflow',\n",
    "                                            relevance_column= 'jobs',\n",
    "                                            out_format='flows').rename(columns={'flow': 'gravity_flow'})\n",
    "\n",
    "gravity_fdf_fitted"
   ]
  },
  {
   "cell_type": "code",
   "execution_count": null,
   "metadata": {},
   "outputs": [],
   "source": [
    "from skmob.models.gravity import compute_distance_matrix\n",
    "import numpy\n",
    "import pandas as pd\n",
    "\n",
    "spatial_tessellation = county_network_with_jobs.node_labels.reset_index()\n",
    "n_locs = len(spatial_tessellation)\n",
    "origins = np.arange(n_locs)\n",
    "distance_matrix = compute_distance_matrix(spatial_tessellation, origins)\n",
    "spatial_tessellation[['id', 'outflow', 'jobs']].to_csv('~/data/node_descr.csv', index=False)\n",
    "pd.DataFrame(distance_matrix).to_csv('~/data/distance_matrix.csv', index=False)\n"
   ]
  },
  {
   "cell_type": "code",
   "execution_count": null,
   "metadata": {},
   "outputs": [],
   "source": [
    "# Radiation model\n",
    "from skmob.models import Radiation\n",
    "radiation = Radiation()\n",
    "np.random.seed(0)\n",
    "\n",
    "radiation_fdf = radiation.generate(county_network_with_jobs.node_labels.reset_index(), \n",
    "                                tile_id_column='id',  \n",
    "                                tot_outflows_column='outflow', \n",
    "                                relevance_column='jobs', \n",
    "                                out_format='flows').rename(columns={'flow': 'radiation_flow'})\n",
    "\n",
    "radiation_fdf"
   ]
  },
  {
   "cell_type": "code",
   "execution_count": null,
   "metadata": {},
   "outputs": [],
   "source": [
    "import math\n",
    "import pandas as pd\n",
    "from sttn.network import SpatioTemporalNetwork\n",
    "from sklearn.metrics import mean_squared_error\n",
    "from skmob.models import Gravity\n",
    "\n",
    "\n",
    "def fit_gravity_model(fdf, deterrence='power_law'):\n",
    "    gravity_singly_fitted = Gravity(gravity_type='singly constrained', deterrence_func_type=deterrence)\n",
    "    gravity_singly_fitted.fit(fdf, relevance_column='jobs')\n",
    "    return gravity_singly_fitted\n",
    "\n",
    "def compare_performance(expected_fdf, generated_fdf):\n",
    "    filtered = expected_fdf[expected_fdf.origin != expected_fdf.destination].rename(columns={'flow': 'flow_expected'})\n",
    "    merged = filtered.merge(generated_fdf, how='outer', on=['origin', 'destination']).fillna(0)\n",
    "    \n",
    "    print(math.sqrt(mean_squared_error(merged.flow_expected,merged.gravity_flow_fitted)))\n",
    "    print(merged.reset_index()[['flow_expected', 'gravity_flow_fitted']].corr())\n",
    "\n",
    "def add_od_jobs(network: SpatioTemporalNetwork, job_column: str) -> SpatioTemporalNetwork:\n",
    "    comp_aggs={job_column: 'sum'}\n",
    "    jobs = network.agg_adjacent_edges(aggs=comp_aggs, outgoing=False).rename(columns={job_column: 'jobs'})\n",
    "    residents = network.agg_adjacent_edges(aggs=comp_aggs, outgoing=True).rename(columns={job_column: 'residents'})\n",
    "    \n",
    "    mapped_from = network.edges_df.join(residents, on='from').rename(columns={'residents': 'from_residents'})\n",
    "    mapped_from['from_residents'] = mapped_from['from_residents'].fillna(0)\n",
    "    mapped_all = mapped_from.join(jobs, on='to').rename(columns={'jobs': 'to_jobs'})\n",
    "    return SpatioTemporalNetwork(mapped_all, network.node_labels)\n",
    "\n",
    "def compute_jobs(network, job_column):\n",
    "    comp_aggs={job_column: 'sum'}\n",
    "    jobs = network.agg_adjacent_edges(aggs=comp_aggs, outgoing=False).rename(columns={job_column: 'jobs'})\n",
    "    outflow = network.agg_adjacent_edges(aggs=comp_aggs, outgoing=True, include_cycles=False).rename(columns={job_column: 'outflow'})\n",
    "    with_jobs = network.join_node_labels(jobs).join_node_labels(outflow)\n",
    "    return with_jobs\n",
    "\n",
    "def extract_model_weights(network):\n",
    "    columns = ['SA01', 'SA02', 'SA03']\n",
    "    result = {}\n",
    "    for column in columns:\n",
    "        with_jobs = compute_jobs(network, column)\n",
    "        fdf = with_jobs.to_flow_date_frame(flow=column)\n",
    "        model = fit_gravity_model(fdf)\n",
    "        result[column] = model.deterrence_func_args[0]\n",
    "    \n",
    "    return result"
   ]
  },
  {
   "cell_type": "code",
   "execution_count": null,
   "metadata": {},
   "outputs": [],
   "source": [
    "merged_gravity_comp = nyc_filtered.merge(gravity_fdf_fitted_se01, how='outer', on=['origin', 'destination']).fillna(0)\n",
    "merged_gravity_comp = merged_gravity_comp.merge(gravity_fdf_fitted_se02, how='outer', on=['origin', 'destination']).fillna(0)\n",
    "comp = merged_gravity_comp.merge(gravity_fdf_fitted_se03, how='outer', on=['origin', 'destination']).fillna(0)\n",
    "comp['all'] = comp.gravity_flow_se01 + comp.gravity_flow_se02 + comp.gravity_flow_se03\n",
    "comp[['flow_expected', 'all']].corr()"
   ]
  },
  {
   "cell_type": "code",
   "execution_count": null,
   "metadata": {},
   "outputs": [],
   "source": [
    "NYC_area = 22.83 + 109 + 70.82 + 42 + 58.5\n",
    "NYC_population = 1628706 + 2230722 + 2504701 + 1418207 + 476143\n",
    "NYC_density = NYC_population / NYC_area\n",
    "NYC_density"
   ]
  },
  {
   "cell_type": "code",
   "execution_count": null,
   "metadata": {},
   "outputs": [],
   "source": [
    "# merged_all.sum()\n",
    "compression_opts = dict(method='zip',\n",
    "                        archive_name='nyc_census_tract_flows.csv')\n",
    "#merged_all.to_csv('~/data/flows_new.csv', index=False)\n",
    "dist_od.edges_df.sum()\n",
    "#dist_od.edges_df[['from', 'to', 'S000', 'distance', 'from_residents', 'to_jobs']].to_csv('~/data/nyc_census_tract_flows.zip', index=False, compression=compression_opts)"
   ]
  }
 ],
 "metadata": {
  "kernelspec": {
   "display_name": "Python 3",
   "language": "python",
   "name": "python3"
  },
  "language_info": {
   "codemirror_mode": {
    "name": "ipython",
    "version": 3
   },
   "file_extension": ".py",
   "mimetype": "text/x-python",
   "name": "python",
   "nbconvert_exporter": "python",
   "pygments_lexer": "ipython3",
   "version": "3.8.6"
  }
 },
 "nbformat": 4,
 "nbformat_minor": 4
}
