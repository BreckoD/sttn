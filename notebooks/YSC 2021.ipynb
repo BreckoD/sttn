{
 "cells": [
  {
   "cell_type": "code",
   "execution_count": null,
   "id": "amber-comment",
   "metadata": {},
   "outputs": [],
   "source": [
    "# data format: city, state usps code, list of counties\n",
    "cities = [\n",
    "    ('New York City', 'ny', ['New York County, NY', 'Queens County, NY','Kings County, NY','Bronx County, NY','Richmond County, NY']),\n",
    "    ('Los Angeles', 'ca', ['Los Angeles County, CA']),\n",
    "    ('Chicago', 'il', ['Cook County, IL']),\n",
    "    ('Houston', 'tx', ['Harris County, TX']),\n",
    "    ('Boston', 'ma', ['Suffolk County, MA', 'Middlesex County, MA']),\n",
    "    ('Phoenix', 'az', ['Maricopa County, AZ']),\n",
    "    ('Philadelphia', 'pa', ['Philadelphia County, PA']),\n",
    "    ('San Antonio', 'tx', ['Bexar County, TX']),\n",
    "    ('San Diego', 'ca', ['San Diego County, CA']),\n",
    "    ('Dallas', 'tx', ['Dallas County, TX']),\n",
    "    ('San Jose', 'ca', ['Santa Clara County, CA']),\n",
    "    ('Austin', 'tx', ['Travis County, TX']),\n",
    "    #('Jacksonville', 'fl', ['Duval County, FL']),\n",
    "    #('Fort Worth', 'tx', ['Tarrant County, TX']),\n",
    "]\n",
    "\n",
    "cities_test = [\n",
    "    ('Chicago', 'il', ['Cook County, IL']),\n",
    "]"
   ]
  },
  {
   "cell_type": "code",
   "execution_count": 1,
   "id": "coastal-generation",
   "metadata": {},
   "outputs": [],
   "source": [
    "import math\n",
    "import pandas as pd\n",
    "import statsmodels.api as sm\n",
    "from sttn.network import SpatioTemporalNetwork\n",
    "from sklearn.metrics import mean_squared_error\n",
    "from skmob.models import Gravity\n",
    "\n",
    "def fit_gravity_model(fdf, deterrence='power_law'):\n",
    "    gravity_singly_fitted = Gravity(gravity_type='singly constrained', deterrence_func_type=deterrence)\n",
    "    gravity_singly_fitted.fit(fdf, relevance_column='relevance')\n",
    "    return gravity_singly_fitted\n",
    "\n",
    "def compute_weights(network, job_column):\n",
    "    comp_aggs={job_column: 'sum'}\n",
    "    # outgoing=False corresponds to jobs, outgoing=True corresponds to population \n",
    "    jobs = network.agg_adjacent_edges(aggs=comp_aggs, outgoing=False).rename(columns={job_column: 'relevance'})\n",
    "    outflow = network.agg_adjacent_edges(aggs=comp_aggs, outgoing=True, include_cycles=False).rename(columns={job_column: 'outflow'})\n",
    "    with_jobs = network.join_node_labels(jobs).join_node_labels(outflow)\n",
    "    return with_jobs\n",
    "\n",
    "def explode_fdf(fdf):\n",
    "    ids = fdf.tessellation['tile_ID']\n",
    "    product = pd.MultiIndex.from_product((ids, ids))\n",
    "    product.rename(['origin', 'destination'], inplace=True)\n",
    "    product_df = product.to_frame()\n",
    "    indexed_fdf = fdf[['origin', 'destination', 'flow']].set_index(['origin', 'destination'])\n",
    "    result = indexed_fdf.join(product_df, how = 'outer', lsuffix='_left', rsuffix='_right').reset_index(drop=True)\n",
    "    result.tessellation = fdf.tessellation\n",
    "    return result.fillna(0)\n",
    "    \n",
    "\n",
    "def extract_model_exponents(network, deterrence='power_law'):\n",
    "    columns = ['SE01', 'SE02', 'SE03']\n",
    "    result = {}\n",
    "    for column in columns:\n",
    "        with_weights = compute_weights(network, column)\n",
    "        fdf = with_weights.to_flow_date_frame(flow=column)\n",
    "        exlploded_fdf = explode_fdf(fdf)\n",
    "        model = fit_gravity_model(exlploded_fdf, deterrence)\n",
    "        result[column] = model.deterrence_func_args[0]\n",
    "    \n",
    "    return result"
   ]
  },
  {
   "cell_type": "code",
   "execution_count": 4,
   "id": "miniature-classics",
   "metadata": {},
   "outputs": [
    {
     "name": "stdout",
     "output_type": "stream",
     "text": [
      "Processing Chicago\n"
     ]
    }
   ],
   "source": [
    "from sttn.data.lehd import OriginDestinationEmploymentDataProvider\n",
    "provider = OriginDestinationEmploymentDataProvider()\n",
    "\n",
    "model_weights = {}\n",
    "for city, state, conties in cities_test:\n",
    "    print('Processing {city}'.format(city=city))\n",
    "    state_network = provider.get_data(state=state, year=2018)\n",
    "    city_network = state_network.filter_nodes(state_network.nodes.county.isin(conties))\n",
    "    zip_city_network = city_network.group_nodes('zip')\n",
    "    city_network = zip_city_network.agg_parallel_edges(column_aggs={'S000': 'sum', 'SE01': 'sum', 'SE02': 'sum', 'SE03': 'sum'})\n",
    "    exponents = extract_model_exponents(city_network)\n",
    "    model_weights[city] = exponents"
   ]
  },
  {
   "cell_type": "code",
   "execution_count": 5,
   "id": "clear-gentleman",
   "metadata": {},
   "outputs": [],
   "source": [
    "state_network = provider.get_data(state='ca', year=2018)\n",
    "city_network = state_network.filter_nodes(state_network.nodes.county.isin(['Los Angeles County, CA']))\n",
    "zip_city_network = city_network.group_nodes('zip')\n",
    "city_network = zip_city_network.agg_parallel_edges(column_aggs={'S000': 'sum', 'SE01': 'sum', 'SE02': 'sum', 'SE03': 'sum'})\n",
    "with_weights = compute_weights(city_network, 'SE01')\n",
    "fdf = with_weights.to_flow_date_frame(flow='SE01')"
   ]
  },
  {
   "cell_type": "code",
   "execution_count": null,
   "id": "beginning-responsibility",
   "metadata": {},
   "outputs": [],
   "source": [
    "extract_model_exponents(city_network)"
   ]
  },
  {
   "cell_type": "code",
   "execution_count": null,
   "id": "cubic-study",
   "metadata": {},
   "outputs": [],
   "source": [
    "exlploded_fdf = explode_fdf(fdf)\n",
    "model = fit_gravity_model(exlploded_fdf)"
   ]
  },
  {
   "cell_type": "markdown",
   "id": "imposed-jefferson",
   "metadata": {},
   "source": [
    "## Power-law, jobs as weight"
   ]
  },
  {
   "cell_type": "code",
   "execution_count": 144,
   "id": "healthy-impossible",
   "metadata": {},
   "outputs": [
    {
     "data": {
      "text/html": [
       "<div>\n",
       "<style scoped>\n",
       "    .dataframe tbody tr th:only-of-type {\n",
       "        vertical-align: middle;\n",
       "    }\n",
       "\n",
       "    .dataframe tbody tr th {\n",
       "        vertical-align: top;\n",
       "    }\n",
       "\n",
       "    .dataframe thead th {\n",
       "        text-align: right;\n",
       "    }\n",
       "</style>\n",
       "<table border=\"1\" class=\"dataframe\">\n",
       "  <thead>\n",
       "    <tr style=\"text-align: right;\">\n",
       "      <th></th>\n",
       "      <th>city</th>\n",
       "      <th>SE01</th>\n",
       "      <th>SE02</th>\n",
       "      <th>SE03</th>\n",
       "    </tr>\n",
       "  </thead>\n",
       "  <tbody>\n",
       "    <tr>\n",
       "      <th>0</th>\n",
       "      <td>New York City</td>\n",
       "      <td>-1.045004</td>\n",
       "      <td>-1.013961</td>\n",
       "      <td>-0.890560</td>\n",
       "    </tr>\n",
       "    <tr>\n",
       "      <th>1</th>\n",
       "      <td>Los Angeles</td>\n",
       "      <td>-1.328642</td>\n",
       "      <td>-1.325702</td>\n",
       "      <td>-1.240705</td>\n",
       "    </tr>\n",
       "    <tr>\n",
       "      <th>2</th>\n",
       "      <td>Chicago</td>\n",
       "      <td>-1.215086</td>\n",
       "      <td>-1.184670</td>\n",
       "      <td>-1.029906</td>\n",
       "    </tr>\n",
       "    <tr>\n",
       "      <th>3</th>\n",
       "      <td>Houston</td>\n",
       "      <td>-1.127777</td>\n",
       "      <td>-1.165333</td>\n",
       "      <td>-1.063986</td>\n",
       "    </tr>\n",
       "    <tr>\n",
       "      <th>4</th>\n",
       "      <td>Boston</td>\n",
       "      <td>-1.236859</td>\n",
       "      <td>-1.215996</td>\n",
       "      <td>-1.051531</td>\n",
       "    </tr>\n",
       "    <tr>\n",
       "      <th>5</th>\n",
       "      <td>Phoenix</td>\n",
       "      <td>-1.010152</td>\n",
       "      <td>-0.972995</td>\n",
       "      <td>-0.986783</td>\n",
       "    </tr>\n",
       "    <tr>\n",
       "      <th>6</th>\n",
       "      <td>Philadelphia</td>\n",
       "      <td>-0.807845</td>\n",
       "      <td>-0.757486</td>\n",
       "      <td>-0.646055</td>\n",
       "    </tr>\n",
       "    <tr>\n",
       "      <th>7</th>\n",
       "      <td>San Antonio</td>\n",
       "      <td>-0.791390</td>\n",
       "      <td>-0.797374</td>\n",
       "      <td>-0.731361</td>\n",
       "    </tr>\n",
       "    <tr>\n",
       "      <th>8</th>\n",
       "      <td>San Diego</td>\n",
       "      <td>-1.142119</td>\n",
       "      <td>-1.087901</td>\n",
       "      <td>-1.039761</td>\n",
       "    </tr>\n",
       "    <tr>\n",
       "      <th>9</th>\n",
       "      <td>Dallas</td>\n",
       "      <td>-0.921473</td>\n",
       "      <td>-0.976293</td>\n",
       "      <td>-0.835420</td>\n",
       "    </tr>\n",
       "    <tr>\n",
       "      <th>10</th>\n",
       "      <td>San Jose</td>\n",
       "      <td>-0.876846</td>\n",
       "      <td>-0.742065</td>\n",
       "      <td>-0.674024</td>\n",
       "    </tr>\n",
       "    <tr>\n",
       "      <th>11</th>\n",
       "      <td>Austin</td>\n",
       "      <td>-0.874163</td>\n",
       "      <td>-0.825387</td>\n",
       "      <td>-0.775949</td>\n",
       "    </tr>\n",
       "  </tbody>\n",
       "</table>\n",
       "</div>"
      ],
      "text/plain": [
       "             city      SE01      SE02      SE03\n",
       "0   New York City -1.045004 -1.013961 -0.890560\n",
       "1     Los Angeles -1.328642 -1.325702 -1.240705\n",
       "2         Chicago -1.215086 -1.184670 -1.029906\n",
       "3         Houston -1.127777 -1.165333 -1.063986\n",
       "4          Boston -1.236859 -1.215996 -1.051531\n",
       "5         Phoenix -1.010152 -0.972995 -0.986783\n",
       "6    Philadelphia -0.807845 -0.757486 -0.646055\n",
       "7     San Antonio -0.791390 -0.797374 -0.731361\n",
       "8       San Diego -1.142119 -1.087901 -1.039761\n",
       "9          Dallas -0.921473 -0.976293 -0.835420\n",
       "10       San Jose -0.876846 -0.742065 -0.674024\n",
       "11         Austin -0.874163 -0.825387 -0.775949"
      ]
     },
     "execution_count": 144,
     "metadata": {},
     "output_type": "execute_result"
    }
   ],
   "source": [
    "df = pd.DataFrame(model_weights).transpose().reset_index().rename(columns={'index':'city'})\n",
    "df"
   ]
  },
  {
   "cell_type": "code",
   "execution_count": 145,
   "id": "filled-honey",
   "metadata": {},
   "outputs": [
    {
     "data": {
      "text/plain": [
       "<AxesSubplot:xlabel='city'>"
      ]
     },
     "execution_count": 145,
     "metadata": {},
     "output_type": "execute_result"
    },
    {
     "data": {
      "image/png": "[encoded data removed]",
      "text/plain": [
       "<Figure size 432x288 with 1 Axes>"
      ]
     },
     "metadata": {
      "needs_background": "light"
     },
     "output_type": "display_data"
    }
   ],
   "source": [
    "df['high_minus_low'] = df.SE03 - df.SE01\n",
    "df.sort_values('high_minus_low').plot.bar(x='city', y='high_minus_low', rot=30)"
   ]
  }
 ],
 "metadata": {
  "kernelspec": {
   "display_name": "Python 3",
   "language": "python",
   "name": "python3"
  },
  "language_info": {
   "codemirror_mode": {
    "name": "ipython",
    "version": 3
   },
   "file_extension": ".py",
   "mimetype": "text/x-python",
   "name": "python",
   "nbconvert_exporter": "python",
   "pygments_lexer": "ipython3",
   "version": "3.8.6"
  }
 },
 "nbformat": 4,
 "nbformat_minor": 5
}
