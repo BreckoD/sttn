{
 "cells": [
  {
   "cell_type": "code",
   "execution_count": 1,
   "id": "amber-comment",
   "metadata": {},
   "outputs": [],
   "source": [
    "# data format: city, state usps code, list of counties\n",
    "cities = [\n",
    "    ('New York City', 'ny', ['New York County, NY', 'Queens County, NY','Kings County, NY','Bronx County, NY','Richmond County, NY']),\n",
    "    ('Los Angeles', 'ca', ['Los Angeles County, CA']),\n",
    "    ('Chicago', 'il', ['Cook County, IL']),\n",
    "    ('Houston', 'tx', ['Harris County, TX']),\n",
    "    ('Boston', 'ma', ['Suffolk County, MA', 'Middlesex County, MA']),\n",
    "    ('Phoenix', 'az', ['Maricopa County, AZ']),\n",
    "    ('Philadelphia', 'pa', ['Philadelphia County, PA']),\n",
    "    ('San Antonio', 'tx', ['Bexar County, TX']),\n",
    "    ('San Diego', 'ca', ['San Diego County, CA']),\n",
    "    ('Dallas', 'tx', ['Dallas County, TX']),\n",
    "    ('San Jose', 'ca', ['Santa Clara County, CA']),\n",
    "    ('Austin', 'tx', ['Travis County, TX']),\n",
    "    #('Jacksonville', 'fl', ['Duval County, FL']),\n",
    "    #('Fort Worth', 'tx', ['Tarrant County, TX']),\n",
    "]\n",
    "\n",
    "cities_test = [\n",
    "    ('Chicago', 'il', ['Cook County, IL']),\n",
    "]"
   ]
  },
  {
   "cell_type": "code",
   "execution_count": 85,
   "id": "coastal-generation",
   "metadata": {},
   "outputs": [],
   "source": [
    "import math\n",
    "import pandas as pd\n",
    "import numpy as np\n",
    "import matplotlib.pyplot as plt\n",
    "import statsmodels.api as sm\n",
    "from sttn.network import SpatioTemporalNetwork\n",
    "from sttn.utils import add_distance\n",
    "from sklearn.metrics import mean_squared_error\n",
    "from skmob.models import Gravity\n",
    "import statsmodels.api as sm\n",
    "\n",
    "def compute_weights(network, job_column):\n",
    "    comp_aggs={job_column: 'sum'}\n",
    "    # outgoing=False corresponds to jobs, outgoing=True corresponds to population \n",
    "    jobs = network.agg_adjacent_edges(aggs=comp_aggs, outgoing=False).rename(columns={job_column: 'jobs'})\n",
    "    residence = network.agg_adjacent_edges(aggs=comp_aggs, outgoing=True).rename(columns={job_column: 'residence'})\n",
    "    edges = network.edges\n",
    "    \n",
    "    edges_with_weights = edges.join(residence, on='origin').join(jobs, on='destination')\n",
    "    return edges_with_weights\n",
    "    \n",
    "def fit_gravity_model(edges, job_column):\n",
    "    copy = edges.copy()\n",
    "    copy.loc[(copy['jobs'] == 0), 'jobs'] = 1 \n",
    "    copy.loc[(copy['residence'] == 0), 'residence'] = 1 \n",
    "    copy.loc[(copy['distance'] == 0), 'distance'] = 1 \n",
    "    \n",
    "    X = sm.add_constant(np.log(copy.distance))\n",
    "    y = np.log(copy[job_column]) - np.log(copy.jobs) - np.log(copy.distance)\n",
    "    \n",
    "    model = sm.OLS(y, X).fit()\n",
    "    \n",
    "    return model\n",
    "\n",
    "def extract_model_exponents(network):\n",
    "    columns = ['SE01', 'SE03']\n",
    "    with_distance = add_distance(network)\n",
    "    filtered_network = with_distance.filter_edges((with_distance.edges.SE01 > 0) & (with_distance.edges.SE03 > 0))\n",
    "                                             \n",
    "    result = {}\n",
    "    for column in columns:\n",
    "        with_weights = compute_weights(filtered_network, column)\n",
    "        model = fit_gravity_model(with_weights, column)\n",
    "        conf_interval = model.conf_int(alpha=0.05, cols=None).loc['distance']\n",
    "        result[column] = model.params[1]\n",
    "        result[column + '_error'] = model.params[1] - conf_interval[0]\n",
    "    \n",
    "    return result"
   ]
  },
  {
   "cell_type": "code",
   "execution_count": 84,
   "id": "miniature-classics",
   "metadata": {
    "scrolled": false
   },
   "outputs": [
    {
     "name": "stdout",
     "output_type": "stream",
     "text": [
      "Processing New York City\n"
     ]
    },
    {
     "name": "stderr",
     "output_type": "stream",
     "text": [
      "/Users/user/PycharmProjects/sttn/src/sttn/utils.py:10: UserWarning: Geometry is in a geographic CRS. Results from 'centroid' are likely incorrect. Use 'GeoSeries.to_crs()' to re-project geometries to a projected CRS before this operation.\n",
      "\n",
      "  centroid = network.nodes.centroid\n"
     ]
    },
    {
     "name": "stdout",
     "output_type": "stream",
     "text": [
      "Processing Los Angeles\n"
     ]
    },
    {
     "name": "stderr",
     "output_type": "stream",
     "text": [
      "/Users/user/PycharmProjects/sttn/src/sttn/utils.py:10: UserWarning: Geometry is in a geographic CRS. Results from 'centroid' are likely incorrect. Use 'GeoSeries.to_crs()' to re-project geometries to a projected CRS before this operation.\n",
      "\n",
      "  centroid = network.nodes.centroid\n"
     ]
    },
    {
     "name": "stdout",
     "output_type": "stream",
     "text": [
      "Processing Chicago\n"
     ]
    },
    {
     "name": "stderr",
     "output_type": "stream",
     "text": [
      "/Users/user/PycharmProjects/sttn/src/sttn/utils.py:10: UserWarning: Geometry is in a geographic CRS. Results from 'centroid' are likely incorrect. Use 'GeoSeries.to_crs()' to re-project geometries to a projected CRS before this operation.\n",
      "\n",
      "  centroid = network.nodes.centroid\n"
     ]
    },
    {
     "name": "stdout",
     "output_type": "stream",
     "text": [
      "Processing Houston\n"
     ]
    },
    {
     "name": "stderr",
     "output_type": "stream",
     "text": [
      "/Users/user/PycharmProjects/sttn/src/sttn/utils.py:10: UserWarning: Geometry is in a geographic CRS. Results from 'centroid' are likely incorrect. Use 'GeoSeries.to_crs()' to re-project geometries to a projected CRS before this operation.\n",
      "\n",
      "  centroid = network.nodes.centroid\n"
     ]
    },
    {
     "name": "stdout",
     "output_type": "stream",
     "text": [
      "Processing Boston\n"
     ]
    },
    {
     "name": "stderr",
     "output_type": "stream",
     "text": [
      "/Users/user/PycharmProjects/sttn/src/sttn/utils.py:10: UserWarning: Geometry is in a geographic CRS. Results from 'centroid' are likely incorrect. Use 'GeoSeries.to_crs()' to re-project geometries to a projected CRS before this operation.\n",
      "\n",
      "  centroid = network.nodes.centroid\n"
     ]
    },
    {
     "name": "stdout",
     "output_type": "stream",
     "text": [
      "Processing Phoenix\n"
     ]
    },
    {
     "name": "stderr",
     "output_type": "stream",
     "text": [
      "/Users/user/PycharmProjects/sttn/src/sttn/utils.py:10: UserWarning: Geometry is in a geographic CRS. Results from 'centroid' are likely incorrect. Use 'GeoSeries.to_crs()' to re-project geometries to a projected CRS before this operation.\n",
      "\n",
      "  centroid = network.nodes.centroid\n"
     ]
    },
    {
     "name": "stdout",
     "output_type": "stream",
     "text": [
      "Processing Philadelphia\n"
     ]
    },
    {
     "name": "stderr",
     "output_type": "stream",
     "text": [
      "/Users/user/PycharmProjects/sttn/src/sttn/utils.py:10: UserWarning: Geometry is in a geographic CRS. Results from 'centroid' are likely incorrect. Use 'GeoSeries.to_crs()' to re-project geometries to a projected CRS before this operation.\n",
      "\n",
      "  centroid = network.nodes.centroid\n"
     ]
    },
    {
     "name": "stdout",
     "output_type": "stream",
     "text": [
      "Processing San Antonio\n"
     ]
    },
    {
     "name": "stderr",
     "output_type": "stream",
     "text": [
      "/Users/user/PycharmProjects/sttn/src/sttn/utils.py:10: UserWarning: Geometry is in a geographic CRS. Results from 'centroid' are likely incorrect. Use 'GeoSeries.to_crs()' to re-project geometries to a projected CRS before this operation.\n",
      "\n",
      "  centroid = network.nodes.centroid\n"
     ]
    },
    {
     "name": "stdout",
     "output_type": "stream",
     "text": [
      "Processing San Diego\n"
     ]
    },
    {
     "name": "stderr",
     "output_type": "stream",
     "text": [
      "/Users/user/PycharmProjects/sttn/src/sttn/utils.py:10: UserWarning: Geometry is in a geographic CRS. Results from 'centroid' are likely incorrect. Use 'GeoSeries.to_crs()' to re-project geometries to a projected CRS before this operation.\n",
      "\n",
      "  centroid = network.nodes.centroid\n"
     ]
    },
    {
     "name": "stdout",
     "output_type": "stream",
     "text": [
      "Processing Dallas\n"
     ]
    },
    {
     "name": "stderr",
     "output_type": "stream",
     "text": [
      "/Users/user/PycharmProjects/sttn/src/sttn/utils.py:10: UserWarning: Geometry is in a geographic CRS. Results from 'centroid' are likely incorrect. Use 'GeoSeries.to_crs()' to re-project geometries to a projected CRS before this operation.\n",
      "\n",
      "  centroid = network.nodes.centroid\n"
     ]
    },
    {
     "name": "stdout",
     "output_type": "stream",
     "text": [
      "Processing San Jose\n"
     ]
    },
    {
     "name": "stderr",
     "output_type": "stream",
     "text": [
      "/Users/user/PycharmProjects/sttn/src/sttn/utils.py:10: UserWarning: Geometry is in a geographic CRS. Results from 'centroid' are likely incorrect. Use 'GeoSeries.to_crs()' to re-project geometries to a projected CRS before this operation.\n",
      "\n",
      "  centroid = network.nodes.centroid\n"
     ]
    },
    {
     "name": "stdout",
     "output_type": "stream",
     "text": [
      "Processing Austin\n"
     ]
    },
    {
     "name": "stderr",
     "output_type": "stream",
     "text": [
      "/Users/user/PycharmProjects/sttn/src/sttn/utils.py:10: UserWarning: Geometry is in a geographic CRS. Results from 'centroid' are likely incorrect. Use 'GeoSeries.to_crs()' to re-project geometries to a projected CRS before this operation.\n",
      "\n",
      "  centroid = network.nodes.centroid\n"
     ]
    }
   ],
   "source": [
    "from sttn.data.lehd import OriginDestinationEmploymentDataProvider\n",
    "provider = OriginDestinationEmploymentDataProvider()\n",
    "\n",
    "model_weights = {}\n",
    "for city, state, conties in cities:\n",
    "    print('Processing {city}'.format(city=city))\n",
    "    state_network = provider.get_data(state=state, year=2018)\n",
    "    city_network = state_network.filter_nodes(state_network.nodes.county.isin(conties))\n",
    "    zip_city_network = city_network.group_nodes('zip')\n",
    "    city_network = zip_city_network.agg_parallel_edges(column_aggs={'S000': 'sum', 'SE01': 'sum', 'SE02': 'sum', 'SE03': 'sum'})\n",
    "    exponents = extract_model_exponents(city_network)\n",
    "    model_weights[city] = exponents"
   ]
  },
  {
   "cell_type": "code",
   "execution_count": 48,
   "id": "clear-gentleman",
   "metadata": {},
   "outputs": [
    {
     "name": "stderr",
     "output_type": "stream",
     "text": [
      "/Users/user/PycharmProjects/sttn/src/sttn/utils.py:10: UserWarning: Geometry is in a geographic CRS. Results from 'centroid' are likely incorrect. Use 'GeoSeries.to_crs()' to re-project geometries to a projected CRS before this operation.\n",
      "\n",
      "  centroid = network.nodes.centroid\n"
     ]
    }
   ],
   "source": [
    "state_network = provider.get_data(state='tx', year=2018)\n",
    "column = 'SE01'\n",
    "city_network = state_network.filter_nodes(state_network.nodes.county.isin(['Dallas County, TX']))\n",
    "zip_city_network = city_network.group_nodes('zip')\n",
    "city_network = zip_city_network.agg_parallel_edges(column_aggs={'S000': 'sum', 'SE01': 'sum', 'SE02': 'sum', 'SE03': 'sum'})\n",
    "city_network = add_distance(city_network)\n",
    "filtered_network = city_network.filter_edges((city_network.edges.SE01 > 0) & (city_network.edges.SE03 > 0))\n",
    "with_weights = compute_weights(filtered_network, 'SE03')"
   ]
  },
  {
   "cell_type": "code",
   "execution_count": 78,
   "id": "beginning-responsibility",
   "metadata": {},
   "outputs": [
    {
     "data": {
      "text/plain": [
       "-1.7742585119235927"
      ]
     },
     "execution_count": 78,
     "metadata": {},
     "output_type": "execute_result"
    }
   ],
   "source": [
    "#extract_model_exponents(city_network)\n",
    "#with_weights\n",
    "model = fit_gravity_model(with_weights, column)\n",
    "model.conf_int(alpha=0.05, cols=None).loc['distance'][0]\n",
    "#model.summary()"
   ]
  },
  {
   "cell_type": "code",
   "execution_count": null,
   "id": "cubic-study",
   "metadata": {},
   "outputs": [],
   "source": [
    "exlploded_fdf = explode_fdf(fdf)\n",
    "model = fit_gravity_model(exlploded_fdf)"
   ]
  },
  {
   "cell_type": "markdown",
   "id": "imposed-jefferson",
   "metadata": {},
   "source": [
    "## Power-law, jobs as weight"
   ]
  },
  {
   "cell_type": "code",
   "execution_count": 14,
   "id": "healthy-impossible",
   "metadata": {},
   "outputs": [
    {
     "data": {
      "text/html": [
       "<div>\n",
       "<style scoped>\n",
       "    .dataframe tbody tr th:only-of-type {\n",
       "        vertical-align: middle;\n",
       "    }\n",
       "\n",
       "    .dataframe tbody tr th {\n",
       "        vertical-align: top;\n",
       "    }\n",
       "\n",
       "    .dataframe thead th {\n",
       "        text-align: right;\n",
       "    }\n",
       "</style>\n",
       "<table border=\"1\" class=\"dataframe\">\n",
       "  <thead>\n",
       "    <tr style=\"text-align: right;\">\n",
       "      <th></th>\n",
       "      <th>city</th>\n",
       "      <th>SE01</th>\n",
       "      <th>SE03</th>\n",
       "    </tr>\n",
       "  </thead>\n",
       "  <tbody>\n",
       "    <tr>\n",
       "      <th>0</th>\n",
       "      <td>New York City</td>\n",
       "      <td>-1.878858</td>\n",
       "      <td>-1.773786</td>\n",
       "    </tr>\n",
       "    <tr>\n",
       "      <th>1</th>\n",
       "      <td>Los Angeles</td>\n",
       "      <td>-2.050261</td>\n",
       "      <td>-2.020891</td>\n",
       "    </tr>\n",
       "    <tr>\n",
       "      <th>2</th>\n",
       "      <td>Chicago</td>\n",
       "      <td>-2.070712</td>\n",
       "      <td>-2.027254</td>\n",
       "    </tr>\n",
       "    <tr>\n",
       "      <th>3</th>\n",
       "      <td>Houston</td>\n",
       "      <td>-1.902414</td>\n",
       "      <td>-1.798384</td>\n",
       "    </tr>\n",
       "    <tr>\n",
       "      <th>4</th>\n",
       "      <td>Boston</td>\n",
       "      <td>-1.961690</td>\n",
       "      <td>-1.833310</td>\n",
       "    </tr>\n",
       "    <tr>\n",
       "      <th>5</th>\n",
       "      <td>Phoenix</td>\n",
       "      <td>-1.911247</td>\n",
       "      <td>-1.815732</td>\n",
       "    </tr>\n",
       "    <tr>\n",
       "      <th>6</th>\n",
       "      <td>Philadelphia</td>\n",
       "      <td>-1.744920</td>\n",
       "      <td>-1.541868</td>\n",
       "    </tr>\n",
       "    <tr>\n",
       "      <th>7</th>\n",
       "      <td>San Antonio</td>\n",
       "      <td>-1.777723</td>\n",
       "      <td>-1.510868</td>\n",
       "    </tr>\n",
       "    <tr>\n",
       "      <th>8</th>\n",
       "      <td>San Diego</td>\n",
       "      <td>-2.108906</td>\n",
       "      <td>-2.058885</td>\n",
       "    </tr>\n",
       "    <tr>\n",
       "      <th>9</th>\n",
       "      <td>Dallas</td>\n",
       "      <td>-1.763940</td>\n",
       "      <td>-1.780189</td>\n",
       "    </tr>\n",
       "    <tr>\n",
       "      <th>10</th>\n",
       "      <td>San Jose</td>\n",
       "      <td>-1.897448</td>\n",
       "      <td>-1.691593</td>\n",
       "    </tr>\n",
       "    <tr>\n",
       "      <th>11</th>\n",
       "      <td>Austin</td>\n",
       "      <td>-1.724330</td>\n",
       "      <td>-1.605925</td>\n",
       "    </tr>\n",
       "  </tbody>\n",
       "</table>\n",
       "</div>"
      ],
      "text/plain": [
       "             city      SE01      SE03\n",
       "0   New York City -1.878858 -1.773786\n",
       "1     Los Angeles -2.050261 -2.020891\n",
       "2         Chicago -2.070712 -2.027254\n",
       "3         Houston -1.902414 -1.798384\n",
       "4          Boston -1.961690 -1.833310\n",
       "5         Phoenix -1.911247 -1.815732\n",
       "6    Philadelphia -1.744920 -1.541868\n",
       "7     San Antonio -1.777723 -1.510868\n",
       "8       San Diego -2.108906 -2.058885\n",
       "9          Dallas -1.763940 -1.780189\n",
       "10       San Jose -1.897448 -1.691593\n",
       "11         Austin -1.724330 -1.605925"
      ]
     },
     "execution_count": 14,
     "metadata": {},
     "output_type": "execute_result"
    }
   ],
   "source": [
    "df = pd.DataFrame(model_weights).transpose().reset_index().rename(columns={'index':'city'})\n",
    "df"
   ]
  },
  {
   "cell_type": "code",
   "execution_count": 15,
   "id": "filled-honey",
   "metadata": {},
   "outputs": [
    {
     "data": {
      "text/plain": [
       "<AxesSubplot:xlabel='city'>"
      ]
     },
     "execution_count": 15,
     "metadata": {},
     "output_type": "execute_result"
    },
    {
     "data": {
      "image/png": "[encoded data removed]",
      "text/plain": [
       "<Figure size 432x288 with 1 Axes>"
      ]
     },
     "metadata": {
      "needs_background": "light"
     },
     "output_type": "display_data"
    }
   ],
   "source": [
    "df['high_minus_low'] = df.SE03 - df.SE01\n",
    "df.sort_values('high_minus_low').plot.bar(x='city', y='high_minus_low', rot=30)"
   ]
  },
  {
   "cell_type": "code",
   "execution_count": 110,
   "id": "2a7b4880",
   "metadata": {},
   "outputs": [
    {
     "data": {
      "text/html": [
       "<div>\n",
       "<style scoped>\n",
       "    .dataframe tbody tr th:only-of-type {\n",
       "        vertical-align: middle;\n",
       "    }\n",
       "\n",
       "    .dataframe tbody tr th {\n",
       "        vertical-align: top;\n",
       "    }\n",
       "\n",
       "    .dataframe thead th {\n",
       "        text-align: right;\n",
       "    }\n",
       "</style>\n",
       "<table border=\"1\" class=\"dataframe\">\n",
       "  <thead>\n",
       "    <tr style=\"text-align: right;\">\n",
       "      <th></th>\n",
       "      <th>SE01</th>\n",
       "      <th>SE01_error</th>\n",
       "      <th>SE03</th>\n",
       "      <th>SE03_error</th>\n",
       "    </tr>\n",
       "  </thead>\n",
       "  <tbody>\n",
       "    <tr>\n",
       "      <th>New York City</th>\n",
       "      <td>-1.878858</td>\n",
       "      <td>0.016774</td>\n",
       "      <td>-1.773786</td>\n",
       "      <td>0.015125</td>\n",
       "    </tr>\n",
       "    <tr>\n",
       "      <th>Los Angeles</th>\n",
       "      <td>-2.050261</td>\n",
       "      <td>0.010298</td>\n",
       "      <td>-2.020891</td>\n",
       "      <td>0.010102</td>\n",
       "    </tr>\n",
       "    <tr>\n",
       "      <th>Chicago</th>\n",
       "      <td>-2.070712</td>\n",
       "      <td>0.017936</td>\n",
       "      <td>-2.027254</td>\n",
       "      <td>0.017436</td>\n",
       "    </tr>\n",
       "    <tr>\n",
       "      <th>Houston</th>\n",
       "      <td>-1.902414</td>\n",
       "      <td>0.019744</td>\n",
       "      <td>-1.798384</td>\n",
       "      <td>0.021456</td>\n",
       "    </tr>\n",
       "    <tr>\n",
       "      <th>Boston</th>\n",
       "      <td>-1.961690</td>\n",
       "      <td>0.024980</td>\n",
       "      <td>-1.833310</td>\n",
       "      <td>0.024068</td>\n",
       "    </tr>\n",
       "    <tr>\n",
       "      <th>Phoenix</th>\n",
       "      <td>-1.911247</td>\n",
       "      <td>0.020201</td>\n",
       "      <td>-1.815732</td>\n",
       "      <td>0.021686</td>\n",
       "    </tr>\n",
       "    <tr>\n",
       "      <th>Philadelphia</th>\n",
       "      <td>-1.744920</td>\n",
       "      <td>0.056775</td>\n",
       "      <td>-1.541868</td>\n",
       "      <td>0.046859</td>\n",
       "    </tr>\n",
       "    <tr>\n",
       "      <th>San Antonio</th>\n",
       "      <td>-1.777723</td>\n",
       "      <td>0.046895</td>\n",
       "      <td>-1.510868</td>\n",
       "      <td>0.051671</td>\n",
       "    </tr>\n",
       "    <tr>\n",
       "      <th>San Diego</th>\n",
       "      <td>-2.108906</td>\n",
       "      <td>0.029142</td>\n",
       "      <td>-2.058885</td>\n",
       "      <td>0.028219</td>\n",
       "    </tr>\n",
       "    <tr>\n",
       "      <th>Dallas</th>\n",
       "      <td>-1.763940</td>\n",
       "      <td>0.035479</td>\n",
       "      <td>-1.780189</td>\n",
       "      <td>0.034634</td>\n",
       "    </tr>\n",
       "    <tr>\n",
       "      <th>San Jose</th>\n",
       "      <td>-1.897448</td>\n",
       "      <td>0.048581</td>\n",
       "      <td>-1.691593</td>\n",
       "      <td>0.045051</td>\n",
       "    </tr>\n",
       "    <tr>\n",
       "      <th>Austin</th>\n",
       "      <td>-1.724330</td>\n",
       "      <td>0.059831</td>\n",
       "      <td>-1.605925</td>\n",
       "      <td>0.057260</td>\n",
       "    </tr>\n",
       "  </tbody>\n",
       "</table>\n",
       "</div>"
      ],
      "text/plain": [
       "                   SE01  SE01_error      SE03  SE03_error\n",
       "New York City -1.878858    0.016774 -1.773786    0.015125\n",
       "Los Angeles   -2.050261    0.010298 -2.020891    0.010102\n",
       "Chicago       -2.070712    0.017936 -2.027254    0.017436\n",
       "Houston       -1.902414    0.019744 -1.798384    0.021456\n",
       "Boston        -1.961690    0.024980 -1.833310    0.024068\n",
       "Phoenix       -1.911247    0.020201 -1.815732    0.021686\n",
       "Philadelphia  -1.744920    0.056775 -1.541868    0.046859\n",
       "San Antonio   -1.777723    0.046895 -1.510868    0.051671\n",
       "San Diego     -2.108906    0.029142 -2.058885    0.028219\n",
       "Dallas        -1.763940    0.035479 -1.780189    0.034634\n",
       "San Jose      -1.897448    0.048581 -1.691593    0.045051\n",
       "Austin        -1.724330    0.059831 -1.605925    0.057260"
      ]
     },
     "execution_count": 110,
     "metadata": {},
     "output_type": "execute_result"
    }
   ],
   "source": [
    "df = pd.DataFrame(model_weights).transpose().rename(columns={'index':'city'})\n",
    "means = df[['SE01', 'SE03']].copy()\n",
    "means.SE01 = -means.SE01\n",
    "means.SE03 = -means.SE03\n",
    "errors = df[['SE01_error', 'SE03_error']].rename(columns={'SE01_error':'SE01', 'SE03_error':'SE03'})\n",
    "df"
   ]
  },
  {
   "cell_type": "code",
   "execution_count": 109,
   "id": "6ce76429",
   "metadata": {},
   "outputs": [
    {
     "data": {
      "image/png": "[encoded data removed]",
      "text/plain": [
       "<Figure size 1152x576 with 1 Axes>"
      ]
     },
     "metadata": {
      "needs_background": "light"
     },
     "output_type": "display_data"
    }
   ],
   "source": [
    "fig, ax = plt.subplots(figsize=(16,8))\n",
    "means.plot.bar(yerr=errors, ax=ax, capsize=4, rot=0);\n",
    "plt.show()"
   ]
  }
 ],
 "metadata": {
  "kernelspec": {
   "display_name": "Python 3",
   "language": "python",
   "name": "python3"
  },
  "language_info": {
   "codemirror_mode": {
    "name": "ipython",
    "version": 3
   },
   "file_extension": ".py",
   "mimetype": "text/x-python",
   "name": "python",
   "nbconvert_exporter": "python",
   "pygments_lexer": "ipython3",
   "version": "3.8.6"
  }
 },
 "nbformat": 4,
 "nbformat_minor": 5
}
