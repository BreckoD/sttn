{
 "cells": [
  {
   "cell_type": "code",
   "execution_count": 3,
   "metadata": {},
   "outputs": [],
   "source": [
    "import warnings\n",
    "warnings.filterwarnings('ignore')\n",
    "\n",
    "import pandas as pd\n",
    "import statsmodels.api as sm\n",
    "import numpy as np\n",
    "import geopandas as gpd\n",
    "from matplotlib import pyplot as plt\n",
    "import matplotlib.ticker\n",
    "from haversine import haversine_vector, Unit\n",
    "pd.options.mode.chained_assignment = None  # default='warn'\n",
    "from sttn.data.lehd import OriginDestinationEmploymentDataProvider\n",
    "from sklearn.metrics import mean_squared_error\n",
    "from sklearn.preprocessing import MinMaxScaler\n",
    "from sklearn.model_selection import train_test_split\n",
    "provider = OriginDestinationEmploymentDataProvider()\n",
    "from sklearn.model_selection import StratifiedKFold\n",
    "from sklearn.model_selection import StratifiedShuffleSplit\n",
    "from sklearn.model_selection import KFold\n",
    "from sklearn.model_selection import train_test_split\n",
    "import scipy.optimize as optimize\n",
    "import seaborn as sns\n",
    "\n",
    "import math\n",
    "from sttn.network import SpatioTemporalNetwork\n",
    "from sttn.utils import add_distance\n",
    "import os\n",
    "%matplotlib inline"
   ]
  },
  {
   "cell_type": "code",
   "execution_count": 4,
   "metadata": {},
   "outputs": [
    {
     "data": {
      "text/plain": [
       "['Philadelphia', 'Los Angeles']"
      ]
     },
     "execution_count": 4,
     "metadata": {},
     "output_type": "execute_result"
    }
   ],
   "source": [
    "cities = os.listdir('processedOD/')\n",
    "cities = [i.split('.')[0] for i in cities if '.csv' in i]\n",
    "cities"
   ]
  },
  {
   "cell_type": "markdown",
   "metadata": {},
   "source": [
    "# baseline"
   ]
  },
  {
   "cell_type": "markdown",
   "metadata": {},
   "source": [
    "### unconstrain model, power law"
   ]
  },
  {
   "cell_type": "code",
   "execution_count": 5,
   "metadata": {},
   "outputs": [],
   "source": [
    "def power_law(x,k,a):\n",
    "    return k*((x[:,0]**a)*x[:,1]*x[:,2])\n",
    "def baseline_fit(df,target):\n",
    "    X = ['distance',target+'jobs',target+'residence']\n",
    "    y = target+'flow'\n",
    "    pars, cov = optimize.curve_fit(f=power_law, xdata=df[X].values, ydata=df[y].values, bounds=(-np.inf, np.inf))\n",
    "    return pars\n",
    "def baseline_predict(test,target,pars):\n",
    "    test[target+'k'] = pars[0]\n",
    "    test[target+'a'] = pars[1]\n",
    "    test[target+'pred'] = test[target+'k']*(test['distance']**test[target+'a'])*test[target+'jobs']*test[target+'residence']\n",
    "    return test"
   ]
  },
  {
   "cell_type": "markdown",
   "metadata": {},
   "source": [
    "## f(d)"
   ]
  },
  {
   "cell_type": "code",
   "execution_count": 6,
   "metadata": {},
   "outputs": [],
   "source": [
    "def unconstrained_bucked_constant_kfit(data, target):\n",
    "    binf = {}\n",
    "    X = data[target+'jobs'].values*data[target+'residence'].values\n",
    "    y = data[target+'flow'].values\n",
    "    model = sm.OLS(y,X)\n",
    "    results = model.fit()\n",
    "    k = results.params[0]\n",
    "    data[target+'k'] = k\n",
    "    # estimate F for each bin\n",
    "    for b in data['bin'].unique():\n",
    "        subData = data[data['bin'] == b]\n",
    "        X = subData[target+'k']*subData[target+'jobs'].values*subData[target+'residence'].values\n",
    "        y = subData[target+'flow'].values\n",
    "        model = sm.OLS(y,X)\n",
    "        results = model.fit()\n",
    "        subData[target+'f'] = results.params[0]\n",
    "        binf[b] = results.params[0]\n",
    "    return (binf,k)\n",
    "def unconstrained_bucked_constant_kpredict(test,target,k,binf):\n",
    "    test[target+'k'] = k\n",
    "    test[target+'f'] = test['bin'].apply(lambda x:binf[x])\n",
    "    test[target+'pred'] = test[target+'k']*test[target+'f']*test[target+'jobs']*test[target+'residence']\n",
    "    return test"
   ]
  },
  {
   "cell_type": "markdown",
   "metadata": {},
   "source": [
    "## Normalize bin"
   ]
  },
  {
   "cell_type": "code",
   "execution_count": 7,
   "metadata": {},
   "outputs": [
    {
     "name": "stdout",
     "output_type": "stream",
     "text": [
      "-4.644473021420379 5.768922542427453\n"
     ]
    }
   ],
   "source": [
    "minValue = []\n",
    "maxValue = []\n",
    "for city in cities:\n",
    "    df = pd.read_csv(f'processedOD/{city}.csv')\n",
    "    df['distance'] = df['distance']/1.6\n",
    "    minValue += [np.min(np.log(df.distance))]\n",
    "    maxValue += [np.max(np.log(df.distance))]\n",
    "#     df = pd.to_csv(f'income/{city}.csv',index=)\n",
    "minValue = np.min(minValue)\n",
    "maxValue = np.max(maxValue)\n",
    "print(minValue,maxValue)"
   ]
  },
  {
   "cell_type": "code",
   "execution_count": 8,
   "metadata": {},
   "outputs": [],
   "source": [
    "def locBin(x,distBin):\n",
    "    if x >= distBin[0] and x <= distBin[-1]:\n",
    "        for i,num in enumerate(distBin):\n",
    "            if x >= distBin[i] and x<= distBin[i+1]:\n",
    "                return i\n",
    "    else:\n",
    "        raise Exception(f'Can not find bin for {x}')"
   ]
  },
  {
   "cell_type": "markdown",
   "metadata": {},
   "source": [
    "## find optimal bin"
   ]
  },
  {
   "cell_type": "markdown",
   "metadata": {},
   "source": [
    "#### determined to use 40 bins from the figure above"
   ]
  },
  {
   "cell_type": "code",
   "execution_count": 9,
   "metadata": {},
   "outputs": [],
   "source": [
    "# expand bin to include the nearest datapoints\n",
    "def mergeBin(df,rate,number):\n",
    "    df = df.sort_values(by=['distance']).reset_index(drop=True)\n",
    "    pad = pd.DataFrame()\n",
    "#     thre = max(int(0.0007*len(df)),1500)\n",
    "#     thre = max(int(0.002*len(df)),2000)\n",
    "    thre = max(int(rate*len(df)),number)\n",
    "\n",
    "    for binNo in df.bin.unique():\n",
    "        if len(df.loc[df['bin']==binNo]) < thre and len(df.loc[df['bin']==binNo]) > int(0.001*len(df)):\n",
    "            indexes = df.loc[df['bin']==binNo].index.values.astype(int)\n",
    "\n",
    "            addedVolume = thre - len(df.loc[df['bin']==binNo])\n",
    "#             print(addedVolume)\n",
    "\n",
    "            if indexes[0] > int(addedVolume/2):\n",
    "                padTemp = df.iloc[indexes[0] - int(addedVolume/2): indexes[0]]\n",
    "                padTemp = pd.concat([padTemp,df.iloc[indexes[-1]:indexes[-1] + int(addedVolume/2)]])\n",
    "                padTemp['bin'] = binNo\n",
    "#                 print(indexes[0] - int(addedVolume/2), indexes[0],indexes[-1],indexes[-1] + int(addedVolume/2), binNo)\n",
    "            else:\n",
    "                padTemp = df.iloc[:indexes[0]]\n",
    "                padTemp = pd.concat([padTemp,df.iloc[indexes[-1]: addedVolume-indexes[0]+indexes[-1]]])\n",
    "                padTemp['bin'] = binNo\n",
    "#                 print(indexes[0],indexes[-1], addedVolume-indexes[0]+indexes[-1],binNo)\n",
    "            pad = pd.concat([pad,padTemp])\n",
    "        else:\n",
    "            next\n",
    "    df = pd.concat([df,pad])\n",
    "    return df"
   ]
  },
  {
   "cell_type": "code",
   "execution_count": 11,
   "metadata": {},
   "outputs": [
    {
     "name": "stdout",
     "output_type": "stream",
     "text": [
      "Los Angeles\n",
      "SE01\n",
      "SE03\n",
      "S000\n"
     ]
    }
   ],
   "source": [
    "\n",
    "# one iteration, no cross-validation to get data to plot\n",
    "\n",
    "resultsfd40is = {}\n",
    "resultsfd40os = {}\n",
    "bindffDict = {}\n",
    "resultsBaselineis = {}\n",
    "resultsBaselineos = {}\n",
    "fdworsecount = []\n",
    "number = 5000\n",
    "fdworsecounttemp = 0\n",
    "# rate = np.arange(0.0007,0.01,0.0001)[40]\n",
    "rate = 0.05\n",
    "for city in cities[1:2]:\n",
    "    print(city)\n",
    "    df = pd.read_csv(f'processedOD/{city}.csv')\n",
    "    df['distance'] = df['distance']/1.6\n",
    "    df = df.loc[(df['distance']>0.5)&(df['distance']<50)]\n",
    "    df['logDist'] = np.log(df['distance'])\n",
    "    distBin = np.linspace(np.log(0.5),np.log(50),30+1)\n",
    "    df['bin'] = df.logDist.apply(lambda x: locBin(x,distBin))\n",
    "#     distBin = np.linspace(0.5,50,30+1)\n",
    "#     df['bin'] = df.distance.apply(lambda x: locBin(x,distBin))\n",
    "    df = mergeBin(df,rate,number)\n",
    "\n",
    "    binfdf = pd.DataFrame()\n",
    "\n",
    "    # fd\n",
    "    for target in ['SE01','SE03','S000']:\n",
    "#         traindf, testdf = train_test_split(df, test_size=0.2)\n",
    "        binf,k = unconstrained_bucked_constant_kfit(df, target)\n",
    "        print(target)\n",
    "        df_fdis = unconstrained_bucked_constant_kpredict(df,target,k,binf)\n",
    "#         df_fdos = unconstrained_bucked_constant_kpredict(testdf,target,k,binf)\n",
    "        binfOrigin = df_fdis[['bin',target+'f']].drop_duplicates()\n",
    "        bindDict = dict(zip(binfOrigin['bin'],binfOrigin[target+'f']))\n",
    "        bindffDict[city] = bindffDict.get(city,[]) + [bindDict]\n",
    "#         resultsfd40is[city] = resultsfd40is.get(city,[])+ \\\n",
    "#                 [mean_squared_error(df_fdis[target+'flow'],df_fdis[target+'pred'])]\n",
    "#         resultsfd40os[city] = resultsfd40os.get(city,[])+ \\\n",
    "#                 [mean_squared_error(df_fdos[target+'flow'],df_fdos[target+'pred'])]\n",
    "\n"
   ]
  },
  {
   "cell_type": "code",
   "execution_count": 12,
   "metadata": {},
   "outputs": [],
   "source": [
    "# convert bins back to distance median\n",
    "Distfd1 = {}\n",
    "Distfd3 = {}\n",
    "Distfd0 = {}\n",
    "for city in bindffDict.keys():\n",
    "    income1 = bindffDict[city][0]\n",
    "    income3 = bindffDict[city][1]\n",
    "    income0 = bindffDict[city][2]\n",
    "    distList = []\n",
    "    fdList = []\n",
    "    for bins in income1.keys():\n",
    "        distList += [(np.e**distBin[bins]+np.e**distBin[bins+1])/2]\n",
    "        fdList += [income1[bins]]\n",
    "        fdDict = dict(zip(distList,fdList))\n",
    "        Distfd1[city] = dict(sorted(fdDict.items()))\n",
    "    distList = []\n",
    "    fdList = []\n",
    "    for bins in income3.keys():\n",
    "        distList += [(np.e**distBin[bins]+np.e**distBin[bins+1])/2]\n",
    "        fdList += [income3[bins]]\n",
    "        fdDict = dict(zip(distList,fdList))\n",
    "        Distfd3[city] = dict(sorted(fdDict.items()))\n",
    "    for bins in income0.keys():\n",
    "        distList += [(np.e**distBin[bins]+np.e**distBin[bins+1])/2]\n",
    "        fdList += [income0[bins]]\n",
    "        fdDict = dict(zip(distList,fdList))\n",
    "        Distfd0[city] = dict(sorted(fdDict.items()))"
   ]
  },
  {
   "cell_type": "code",
   "execution_count": 13,
   "metadata": {},
   "outputs": [
    {
     "data": {
      "image/png": "[encoded data removed]",
      "text/plain": [
       "<Figure size 1080x1080 with 9 Axes>"
      ]
     },
     "metadata": {
      "needs_background": "light"
     },
     "output_type": "display_data"
    }
   ],
   "source": [
    "\n",
    "\n",
    "fig,ax = plt.subplots(3,3,figsize=(15,15))\n",
    "i= 0\n",
    "for city in cities[1:2]:\n",
    "\n",
    "    df = pd.DataFrame({'bin':Distfd1[city].keys(),'fd':Distfd1[city].values()})\n",
    "    df = df.sort_values(by='bin')\n",
    "    df['bin+1'] = df['bin'].shift(1)\n",
    "    df['bin+1'].fillna(df['bin'][0],inplace=True)\n",
    "    df['fd+1'] = df['fd'].shift(1)\n",
    "    df['fd+1'].fillna(df['fd'][0],inplace=True)\n",
    "    df['fdsmooth'] = (df['fd']+df['fd+1'])/2\n",
    "    df['binsmooth'] = (df['bin']+df['bin+1'])/2\n",
    "    ax[i//3,i%3].plot(df['binsmooth'],df['fdsmooth'],label='SE01')\n",
    "\n",
    "    df = pd.DataFrame({'bin':Distfd3[city].keys(),'fd':Distfd3[city].values()})\n",
    "    df['bin+1'] = df['bin'].shift(1)\n",
    "    df['bin+1'].fillna(df['bin'][0],inplace=True)\n",
    "    df['fd+1'] = df['fd'].shift(1)\n",
    "    df['fd+1'].fillna(df['fd'][0],inplace=True)\n",
    "    df['fdsmooth'] = (df['fd']+df['fd+1'])/2\n",
    "    df['binsmooth'] = (df['bin']+df['bin+1'])/2\n",
    "    df = df.sort_values(by='bin')\n",
    "    ax[i//3,i%3].plot(df['binsmooth'],df['fdsmooth'],label='SE03')\n",
    "\n",
    "    ax[i//3,i%3].set_title(city)\n",
    "    ax[i//3,i%3].legend()\n",
    "    ax[i//3,i%3].set_yscale('log')\n",
    "    ax[i//3,i%3].set_xscale('log')\n",
    "    ax[i//3,i%3].set_yticks([0.5, 1, 1.5, 3, 5, 10])\n",
    "    ax[i//3,i%3].set_xticks([1, 2, 3, 5, 10, 20, 30, 50])\n",
    "    ax[i//3,i%3].get_xaxis().set_major_formatter(matplotlib.ticker.ScalarFormatter())\n",
    "    ax[i//3,i%3].get_yaxis().set_major_formatter(matplotlib.ticker.ScalarFormatter())\n",
    "    ax[i//3,i%3].set_ylabel('f(d)')\n",
    "    ax[i//3,i%3].set_xlabel('mi')\n",
    "    i += 1\n",
    "\n",
    "# plt.savefig('curve.png')"
   ]
  },
  {
   "cell_type": "code",
   "execution_count": null,
   "metadata": {},
   "outputs": [],
   "source": []
  }
 ],
 "metadata": {
  "kernelspec": {
   "display_name": "geo37",
   "language": "python",
   "name": "geo37"
  },
  "language_info": {
   "codemirror_mode": {
    "name": "ipython",
    "version": 3
   },
   "file_extension": ".py",
   "mimetype": "text/x-python",
   "name": "python",
   "nbconvert_exporter": "python",
   "pygments_lexer": "ipython3",
   "version": "3.7.11"
  }
 },
 "nbformat": 4,
 "nbformat_minor": 2
}
