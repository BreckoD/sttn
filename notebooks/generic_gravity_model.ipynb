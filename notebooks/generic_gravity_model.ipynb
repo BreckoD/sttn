{
 "cells": [
  {
   "cell_type": "code",
   "execution_count": 1,
   "metadata": {},
   "outputs": [],
   "source": [
    "import warnings\n",
    "warnings.simplefilter(action='ignore', category=FutureWarning)\n",
    "\n",
    "import pandas as pd\n",
    "import statsmodels.api as sm\n",
    "import numpy as np\n",
    "import geopandas as gpd\n",
    "from ipfn import ipfn\n",
    "from matplotlib import pyplot as plt\n",
    "pd.options.mode.chained_assignment = None  # default='warn'\n",
    "from sttn.data.lehd import OriginDestinationEmploymentDataProvider\n",
    "provider = OriginDestinationEmploymentDataProvider()\n",
    "\n",
    "import math\n",
    "from sttn.network import SpatioTemporalNetwork\n",
    "from sttn.utils import add_distance\n",
    "\n",
    "%matplotlib inline"
   ]
  },
  {
   "cell_type": "code",
   "execution_count": 2,
   "metadata": {},
   "outputs": [],
   "source": [
    "cities = [('New York City', 'ny', ['New York County, NY', 'Queens County, NY','Kings County, NY','Bronx County, NY','Richmond County, NY']), \n",
    "          ('Los Angeles', 'ca', ['Los Angeles County, CA']),\n",
    "    ('Chicago', 'il', ['Cook County, IL']),]"
   ]
  },
  {
   "cell_type": "code",
   "execution_count": 3,
   "metadata": {},
   "outputs": [
    {
     "name": "stderr",
     "output_type": "stream",
     "text": [
      "/Users/user/opt/anaconda3/envs/generic-gravity-model/lib/python3.8/site-packages/sttn/utils.py:10: UserWarning: Geometry is in a geographic CRS. Results from 'centroid' are likely incorrect. Use 'GeoSeries.to_crs()' to re-project geometries to a projected CRS before this operation.\n",
      "\n",
      "  centroid = network.nodes.centroid\n"
     ]
    }
   ],
   "source": [
    "# get data for above cities - census tract level\n",
    "\n",
    "allCity_dfs = []\n",
    "job_column = 'S000'\n",
    "comp_aggs={job_column: 'sum'}\n",
    "for city, state, conties in cities:\n",
    "    state_network = provider.get_data(state=state, year=2018)\n",
    "    city_network = state_network.filter_nodes(state_network.nodes.county.isin(conties))\n",
    "    \n",
    "    with_distance = add_distance(city_network).edges\n",
    "#     with_weights = compute_weights(city_network, column)\n",
    "    \n",
    "    city_jobs = city_network.agg_adjacent_edges(aggs=comp_aggs, outgoing=False).rename(columns={job_column: 'jobs'}).reset_index()\n",
    "    city_pop = city_network.agg_adjacent_edges(aggs=comp_aggs, outgoing=True).rename(columns={job_column: 'residence'}).reset_index()\n",
    "    \n",
    "    city_dist = with_distance.merge(city_jobs, on='destination')\n",
    "    city_cum = city_dist.merge(city_pop, on='origin')\n",
    "    allCity_dfs.append(city_cum)"
   ]
  },
  {
   "cell_type": "code",
   "execution_count": 4,
   "metadata": {},
   "outputs": [],
   "source": [
    "ny, la, ch = allCity_dfs[0], allCity_dfs[1], allCity_dfs[2]\n",
    "\n",
    "# update distance same o-d pair points with 0.2 miles\n",
    "ny.loc[ny.distance == 0, 'distance'] = 0.2\n",
    "la.loc[la.distance == 0, 'distance'] = 0.2\n",
    "ch.loc[ch.distance == 0, 'distance'] = 0.2"
   ]
  },
  {
   "cell_type": "code",
   "execution_count": 5,
   "metadata": {},
   "outputs": [],
   "source": [
    "cities = [ny, la, ch]\n",
    "\n",
    "\n",
    "# function for bins\n",
    "def getbins(df, nbins=20):\n",
    "    \n",
    "    df['bin'] = pd.qcut(df['distance'], q=20)\n",
    "    df.sort_values(by='bin', inplace=True)\n",
    "    \n",
    "    return df\n",
    "\n",
    "# doubly constrained model\n",
    "def constrained_model(data, separate_income=False):\n",
    "    \n",
    "    y_target = ['S000']  # target = total commute if no income segregation\n",
    "    \n",
    "    if separate_income == True:\n",
    "        \n",
    "        y_target = ['SE01', 'SE02', 'SE03'] # target = individual income commute if income segregation\n",
    "    \n",
    "    dataF = []\n",
    "    dataUV = []\n",
    "    \n",
    "    for target in y_target:\n",
    "        allF = {}\n",
    "\n",
    "        # estimate F for each bin\n",
    "        for b in data['bin'].unique():\n",
    "\n",
    "            subData = data[data['bin'] == b]\n",
    "\n",
    "            X = sm.add_constant(np.log(subData['residence']) + np.log(subData['jobs']))\n",
    "            y = subData[target]\n",
    "\n",
    "            model = sm.OLS(y,X).fit()\n",
    "\n",
    "            allF[b] = model.params[0]\n",
    "\n",
    "        binF = pd.DataFrame.from_dict(allF, orient='index', columns={'F'}).reset_index()\n",
    "        binF.rename(columns={'index':'bin'}, inplace=True)\n",
    "        \n",
    "        dataF.append(binF)\n",
    "        \n",
    "        allU = {}\n",
    "        allU_arr = []\n",
    "\n",
    "        # temporary dataframe with F\n",
    "        dataStep1 = data.merge(binF, on='bin', how='left') \n",
    "\n",
    "        # estimate V(o) for each origin\n",
    "        for o in data['origin'].unique():\n",
    "\n",
    "            subData = dataStep1[dataStep1['origin'] == o]\n",
    "\n",
    "            X = np.log(subData['residence']*subData['F'])\n",
    "            y = np.log(subData[target]) - np.log(subData['jobs'])\n",
    "\n",
    "            X = sm.add_constant(X)\n",
    "            model = sm.OLS(y,X).fit()\n",
    "\n",
    "            allU[o] = model.params[0]\n",
    "            allU_arr.append([model.params[0]]*len(subData))\n",
    "\n",
    "        binU = pd.DataFrame.from_dict(allU, orient='index', columns={'V'}).reset_index()\n",
    "        binU.rename(columns={'index':'origin'}, inplace=True)\n",
    "\n",
    "        # temporary dataframe with U\n",
    "        dataStep2 = dataStep1.merge(binU, on='origin', how='left') \n",
    "        # temp = dataStep2[['from_residents', 'V']].drop_duplicates()\n",
    "        dataStep2.loc[dataStep2.V < 0, 'V'] = 0.0001\n",
    "\n",
    "        # proportional fitting for V(o) for constraint sum(V) = sum(population)\n",
    "        Ptotal = [np.array(dataStep2.drop_duplicates(subset='origin')['residence'].rename('total'))]\n",
    "        dimensions1 = [[0]]\n",
    "        pad = len(max(allU_arr, key=len))\n",
    "        vs = np.array([i + [0]*(pad-len(i)) for i in allU_arr])\n",
    "        IPF_1 = ipfn.ipfn(vs, Ptotal, dimensions1)\n",
    "        m = IPF_1.iteration()\n",
    "        temp1 = dataStep2.drop_duplicates(subset='origin')\n",
    "        temp1['m'] = m[:,0]\n",
    "        dataStep2 = dataStep2.merge(temp1[['origin', 'm']], on='origin', how='left')\n",
    "        dataStep2.loc[dataStep2.m == 0, 'm'] = 0.0001\n",
    "\n",
    "        allV = {}\n",
    "        allV_arr = []\n",
    "\n",
    "        # estimate U(d) for each destination\n",
    "        for d in data['destination'].unique():\n",
    "\n",
    "            subData = dataStep2[dataStep2['destination'] == d]\n",
    "\n",
    "            X = np.log(subData['m']*subData['jobs']*subData['F'])\n",
    "            y = np.log(subData[target])\n",
    "\n",
    "            X = sm.add_constant(X)\n",
    "            model = sm.OLS(y,X).fit()\n",
    "\n",
    "            allV[d] = model.params[0]\n",
    "            allV_arr.append([model.params[0]]*len(subData))\n",
    "\n",
    "        binV = pd.DataFrame.from_dict(allV, orient='index', columns={'U'}).reset_index()\n",
    "        binV.rename(columns={'index':'destination'}, inplace=True)\n",
    "\n",
    "        # temporary dataframe with U\n",
    "        dataStep3 = dataStep2.merge(binV, on='destination', how='left') \n",
    "\n",
    "        # proportional fitting for U(d) for constraint sum(U) = sum(jobs)\n",
    "        Wtotal = [np.array(dataStep3.drop_duplicates(subset='destination')['jobs'].rename('total'))]\n",
    "        dimensions1 = [[0]]\n",
    "        pad = len(max(allV_arr, key=len))\n",
    "        us = np.array([i + [0]*(pad-len(i)) for i in allV_arr])\n",
    "        IPF_1 = ipfn.ipfn(us, Wtotal, dimensions1)\n",
    "        n = IPF_1.iteration()\n",
    "        \n",
    "        ## final dataframe with F, U, V\n",
    "        temp2 = dataStep3.drop_duplicates(subset='destination')\n",
    "        temp2['n'] = n[:,0]\n",
    "        dataStep3 = dataStep3.merge(temp2[['destination', 'n']], on='destination', how='left')\n",
    "        dataStep3.loc[dataStep3.n == 0, 'n'] = 0.0001\n",
    "        \n",
    "        dataUV.append(dataStep3)\n",
    "    \n",
    "    if separate_income == False:\n",
    "        return dataF[0], dataUV[0]\n",
    "    else:\n",
    "        return dataF, dataUV"
   ]
  },
  {
   "cell_type": "code",
   "execution_count": 6,
   "metadata": {},
   "outputs": [
    {
     "name": "stdout",
     "output_type": "stream",
     "text": [
      "ipfn converged: convergence_rate not updating or below rate_tolerance\n"
     ]
    }
   ],
   "source": [
    "F, uv = constrained_model(getbins(la))"
   ]
  },
  {
   "cell_type": "code",
   "execution_count": 9,
   "metadata": {},
   "outputs": [
    {
     "data": {
      "text/plain": [
       "Text(0, 0.5, 'F')"
      ]
     },
     "execution_count": 9,
     "metadata": {},
     "output_type": "execute_result"
    },
    {
     "data": {
      "image/png": "[encoded data removed]",
      "text/plain": [
       "<Figure size 432x288 with 1 Axes>"
      ]
     },
     "metadata": {
      "needs_background": "light"
     },
     "output_type": "display_data"
    }
   ],
   "source": [
    "plt.plot(F['F'])\n",
    "plt.ylabel('F', fontsize=14)"
   ]
  },
  {
   "cell_type": "code",
   "execution_count": 8,
   "metadata": {},
   "outputs": [
    {
     "data": {
      "text/plain": [
       "Text(0, 0.5, 'log V(o)')"
      ]
     },
     "execution_count": 8,
     "metadata": {},
     "output_type": "execute_result"
    },
    {
     "data": {
      "image/png": "[encoded data removed]",
      "text/plain": [
       "<Figure size 504x504 with 1 Axes>"
      ]
     },
     "metadata": {
      "needs_background": "light"
     },
     "output_type": "display_data"
    }
   ],
   "source": [
    "plt.figure(figsize=(7,7))\n",
    "plt.plot(uv.drop_duplicates(subset=['origin'])['residence'], \n",
    "        uv.drop_duplicates(subset=['origin'])['m'], '.')\n",
    "plt.xscale('log')\n",
    "plt.yscale('log')\n",
    "plt.xlabel('log population', fontsize=14)\n",
    "plt.ylabel('log V(o)', fontsize=14)"
   ]
  },
  {
   "cell_type": "code",
   "execution_count": null,
   "metadata": {},
   "outputs": [],
   "source": []
  }
 ],
 "metadata": {
  "kernelspec": {
   "display_name": "Python 3",
   "language": "python",
   "name": "python3"
  },
  "language_info": {
   "codemirror_mode": {
    "name": "ipython",
    "version": 3
   },
   "file_extension": ".py",
   "mimetype": "text/x-python",
   "name": "python",
   "nbconvert_exporter": "python",
   "pygments_lexer": "ipython3",
   "version": "3.8.11"
  }
 },
 "nbformat": 4,
 "nbformat_minor": 2
}
