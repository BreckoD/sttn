{
 "cells": [
  {
   "cell_type": "code",
   "execution_count": 158,
   "metadata": {},
   "outputs": [],
   "source": [
    "import warnings\n",
    "warnings.simplefilter(action='ignore', category=FutureWarning)\n",
    "\n",
    "import pandas as pd\n",
    "import statsmodels.api as sm\n",
    "import numpy as np\n",
    "import geopandas as gpd\n",
    "from ipfn import ipfn\n",
    "from matplotlib import pyplot as plt\n",
    "from haversine import haversine_vector, Unit\n",
    "pd.options.mode.chained_assignment = None  # default='warn'\n",
    "from sttn.data.lehd import OriginDestinationEmploymentDataProvider\n",
    "from sklearn.metrics import mean_squared_error\n",
    "\n",
    "provider = OriginDestinationEmploymentDataProvider()\n",
    "\n",
    "import math\n",
    "from sttn.network import SpatioTemporalNetwork\n",
    "from sttn.utils import add_distance\n",
    "\n",
    "%matplotlib inline"
   ]
  },
  {
   "cell_type": "code",
   "execution_count": 26,
   "metadata": {},
   "outputs": [],
   "source": [
    "cities = [\n",
    "    ('New York City', 'ny', ['New York County, NY', 'Queens County, NY','Kings County, NY','Bronx County, NY','Richmond County, NY']),\n",
    "    ('Los Angeles', 'ca', ['Los Angeles County, CA']),\n",
    "    ('Chicago', 'il', ['Cook County, IL']),\n",
    "    ('Houston', 'tx', ['Harris County, TX']),\n",
    "    ('Boston', 'ma', ['Suffolk County, MA', 'Middlesex County, MA']),\n",
    "    ('Phoenix', 'az', ['Maricopa County, AZ']),\n",
    "    ('Philadelphia', 'pa', ['Philadelphia County, PA']),\n",
    "    ('San Antonio', 'tx', ['Bexar County, TX']),\n",
    "    ('San Diego', 'ca', ['San Diego County, CA']),\n",
    "    ('Dallas', 'tx', ['Dallas County, TX']),\n",
    "    ('San Jose', 'ca', ['Santa Clara County, CA']),\n",
    "    ('Austin', 'tx', ['Travis County, TX']),\n",
    "]"
   ]
  },
  {
   "cell_type": "markdown",
   "metadata": {},
   "source": [
    "## Example: unconstrained log-MSE gravity model"
   ]
  },
  {
   "cell_type": "code",
   "execution_count": 61,
   "metadata": {},
   "outputs": [],
   "source": [
    "def predict_unconstrained_log_mse(edges):\n",
    "    '''\n",
    "    Input: Pandas dataframe with origin, destination, distance, jobs, residence and flow columns\n",
    "    Output; dataframe with with model predictions in 'predicted_flow' column\n",
    "    '''\n",
    "    copy = edges.copy()\n",
    "    # replace zero values with 1\n",
    "    copy.loc[(copy['jobs'] == 0), 'jobs'] = 1 \n",
    "    copy.loc[(copy['residence'] == 0), 'residence'] = 1\n",
    "    \n",
    "    X = sm.add_constant(np.log(copy.distance))\n",
    "    y = np.log(edges['flow']) - np.log(copy.jobs) - np.log(copy.residence)\n",
    "    \n",
    "    model = sm.OLS(y, X).fit()\n",
    "    prediction = model.predict(X)\n",
    "    copy['predicted_flow'] = np.exp(prediction + np.log(copy.jobs) + np.log(copy.residence))\n",
    "    \n",
    "    return copy[['origin', 'destination', 'flow', 'predicted_flow']]"
   ]
  },
  {
   "cell_type": "markdown",
   "metadata": {},
   "source": [
    "## Mingyi and Devashish, please add your models below:"
   ]
  },
  {
   "cell_type": "code",
   "execution_count": 72,
   "metadata": {},
   "outputs": [],
   "source": [
    "# prediction functions that take a Pandas dataframe with origin, destination, distance, jobs, residence and flow columns\n",
    "# and return a dataframe with 'origin', 'destination', 'flow', 'predicted_flow' columns\n",
    "state_network = provider.get_data(state='ny', year=2018)\n",
    "city_network = state_network.filter_nodes(state_network.nodes.county.isin(['New York County, NY', 'Queens County, NY','Kings County, NY','Bronx County, NY','Richmond County, NY']))\n"
   ]
  },
  {
   "cell_type": "code",
   "execution_count": 149,
   "metadata": {},
   "outputs": [],
   "source": [
    "def build_training_set(network, target_column):\n",
    "    # explode the dataset to include all node pairs\n",
    "    node_ids = network.nodes.index.values\n",
    "    origins = pd.DataFrame(node_ids, columns = ['origin'])\n",
    "    destinations = pd.DataFrame(node_ids, columns = ['destination'])\n",
    "    cartesian_product = origins.merge(destinations, how='cross')\n",
    "    \n",
    "    # compute distnace between all pairs\n",
    "    centroid = network.nodes.centroid\n",
    "    centroid_long = centroid.x\n",
    "    centroid_long.name = 'long'\n",
    "    centroid_lat = centroid.y\n",
    "    centroid_lat.name = 'lat'\n",
    "    centroids = pd.concat([centroid_long, centroid_lat], axis=1)\n",
    "    centroid_from = cartesian_product.join(centroids, on=network._origin).rename(columns={'long': 'long_from', 'lat': 'lat_from'})\n",
    "    centroid_all = centroid_from.join(centroids, on=network._destination).rename(columns={'long': 'long_to', 'lat': 'lat_to'})\n",
    "    from_points = list(zip(centroid_all.lat_from, centroid_all.long_from))\n",
    "    to_points = list(zip(centroid_all.lat_to, centroid_all.long_to))\n",
    "    centroid_all['distance'] = haversine_vector(from_points, to_points, Unit.KILOMETERS)\n",
    "    centroid_all.drop(['long_from', 'lat_from', 'long_to', 'lat_to'], axis=1, inplace=True)\n",
    "    centroid_all.loc[centroid_all.distance == 0, 'distance'] = 0.2\n",
    "    \n",
    "    # compute jobs and residence\n",
    "    comp_aggs={target_column: 'sum'}\n",
    "    jobs = city_network.agg_adjacent_edges(aggs=comp_aggs, outgoing=False).rename(columns={target_column: 'jobs'})\n",
    "    residence = city_network.agg_adjacent_edges(aggs=comp_aggs, outgoing=True).rename(columns={target_column: 'residence'})\n",
    "    features = centroid_all.join(residence, on='origin').join(jobs, on='destination')\n",
    "    \n",
    "    # merge flow data\n",
    "    flow = network.edges.rename(columns={target_column: 'flow'})[['origin', 'destination', 'flow']]\n",
    "    combined = features.merge(flow, how='left', on=['origin', 'destination']).fillna(0)\n",
    "    \n",
    "    return combined"
   ]
  },
  {
   "cell_type": "code",
   "execution_count": 160,
   "metadata": {},
   "outputs": [
    {
     "name": "stderr",
     "output_type": "stream",
     "text": [
      "<ipython-input-149-fe05c9531592>:9: UserWarning: Geometry is in a geographic CRS. Results from 'centroid' are likely incorrect. Use 'GeoSeries.to_crs()' to re-project geometries to a projected CRS before this operation.\n",
      "\n",
      "  centroid = network.nodes.centroid\n"
     ]
    },
    {
     "name": "stdout",
     "output_type": "stream",
     "text": [
      "Processing New York City, MSE: 4.572668445420518\n"
     ]
    },
    {
     "name": "stderr",
     "output_type": "stream",
     "text": [
      "<ipython-input-149-fe05c9531592>:9: UserWarning: Geometry is in a geographic CRS. Results from 'centroid' are likely incorrect. Use 'GeoSeries.to_crs()' to re-project geometries to a projected CRS before this operation.\n",
      "\n",
      "  centroid = network.nodes.centroid\n"
     ]
    },
    {
     "name": "stdout",
     "output_type": "stream",
     "text": [
      "Processing Los Angeles, MSE: 6.457875692158243\n"
     ]
    },
    {
     "name": "stderr",
     "output_type": "stream",
     "text": [
      "<ipython-input-149-fe05c9531592>:9: UserWarning: Geometry is in a geographic CRS. Results from 'centroid' are likely incorrect. Use 'GeoSeries.to_crs()' to re-project geometries to a projected CRS before this operation.\n",
      "\n",
      "  centroid = network.nodes.centroid\n"
     ]
    },
    {
     "name": "stdout",
     "output_type": "stream",
     "text": [
      "Processing Chicago, MSE: 37.06998549902116\n"
     ]
    },
    {
     "name": "stderr",
     "output_type": "stream",
     "text": [
      "<ipython-input-149-fe05c9531592>:9: UserWarning: Geometry is in a geographic CRS. Results from 'centroid' are likely incorrect. Use 'GeoSeries.to_crs()' to re-project geometries to a projected CRS before this operation.\n",
      "\n",
      "  centroid = network.nodes.centroid\n"
     ]
    },
    {
     "name": "stdout",
     "output_type": "stream",
     "text": [
      "Processing Houston, MSE: 67.02499056220124\n"
     ]
    },
    {
     "name": "stderr",
     "output_type": "stream",
     "text": [
      "<ipython-input-149-fe05c9531592>:9: UserWarning: Geometry is in a geographic CRS. Results from 'centroid' are likely incorrect. Use 'GeoSeries.to_crs()' to re-project geometries to a projected CRS before this operation.\n",
      "\n",
      "  centroid = network.nodes.centroid\n"
     ]
    },
    {
     "name": "stdout",
     "output_type": "stream",
     "text": [
      "Processing Boston, MSE: 65.40991451823773\n"
     ]
    },
    {
     "name": "stderr",
     "output_type": "stream",
     "text": [
      "<ipython-input-149-fe05c9531592>:9: UserWarning: Geometry is in a geographic CRS. Results from 'centroid' are likely incorrect. Use 'GeoSeries.to_crs()' to re-project geometries to a projected CRS before this operation.\n",
      "\n",
      "  centroid = network.nodes.centroid\n"
     ]
    },
    {
     "name": "stdout",
     "output_type": "stream",
     "text": [
      "Processing Phoenix, MSE: 19.796144315015418\n"
     ]
    },
    {
     "name": "stderr",
     "output_type": "stream",
     "text": [
      "<ipython-input-149-fe05c9531592>:9: UserWarning: Geometry is in a geographic CRS. Results from 'centroid' are likely incorrect. Use 'GeoSeries.to_crs()' to re-project geometries to a projected CRS before this operation.\n",
      "\n",
      "  centroid = network.nodes.centroid\n"
     ]
    },
    {
     "name": "stdout",
     "output_type": "stream",
     "text": [
      "Processing Philadelphia, MSE: 28.61008998619205\n"
     ]
    },
    {
     "name": "stderr",
     "output_type": "stream",
     "text": [
      "<ipython-input-149-fe05c9531592>:9: UserWarning: Geometry is in a geographic CRS. Results from 'centroid' are likely incorrect. Use 'GeoSeries.to_crs()' to re-project geometries to a projected CRS before this operation.\n",
      "\n",
      "  centroid = network.nodes.centroid\n"
     ]
    },
    {
     "name": "stdout",
     "output_type": "stream",
     "text": [
      "Processing San Antonio, MSE: 63.62583176336124\n"
     ]
    },
    {
     "name": "stderr",
     "output_type": "stream",
     "text": [
      "<ipython-input-149-fe05c9531592>:9: UserWarning: Geometry is in a geographic CRS. Results from 'centroid' are likely incorrect. Use 'GeoSeries.to_crs()' to re-project geometries to a projected CRS before this operation.\n",
      "\n",
      "  centroid = network.nodes.centroid\n"
     ]
    },
    {
     "name": "stdout",
     "output_type": "stream",
     "text": [
      "Processing San Diego, MSE: 141.64590942452898\n"
     ]
    },
    {
     "name": "stderr",
     "output_type": "stream",
     "text": [
      "<ipython-input-149-fe05c9531592>:9: UserWarning: Geometry is in a geographic CRS. Results from 'centroid' are likely incorrect. Use 'GeoSeries.to_crs()' to re-project geometries to a projected CRS before this operation.\n",
      "\n",
      "  centroid = network.nodes.centroid\n"
     ]
    },
    {
     "name": "stdout",
     "output_type": "stream",
     "text": [
      "Processing Dallas, MSE: 55.38068979821111\n"
     ]
    },
    {
     "name": "stderr",
     "output_type": "stream",
     "text": [
      "<ipython-input-149-fe05c9531592>:9: UserWarning: Geometry is in a geographic CRS. Results from 'centroid' are likely incorrect. Use 'GeoSeries.to_crs()' to re-project geometries to a projected CRS before this operation.\n",
      "\n",
      "  centroid = network.nodes.centroid\n"
     ]
    },
    {
     "name": "stdout",
     "output_type": "stream",
     "text": [
      "Processing San Jose, MSE: 115.03088066119258\n",
      "Processing Austin, MSE: 282.93737900345224\n"
     ]
    },
    {
     "name": "stderr",
     "output_type": "stream",
     "text": [
      "<ipython-input-149-fe05c9531592>:9: UserWarning: Geometry is in a geographic CRS. Results from 'centroid' are likely incorrect. Use 'GeoSeries.to_crs()' to re-project geometries to a projected CRS before this operation.\n",
      "\n",
      "  centroid = network.nodes.centroid\n"
     ]
    }
   ],
   "source": [
    "prediction = {}\n",
    "target_columns = ['S000'] #['SE01', 'SE02', 'SE03']\n",
    "\n",
    "for city, state, conties in cities:\n",
    "    state_network = provider.get_data(state=state, year=2018)\n",
    "    city_network = state_network.filter_nodes(state_network.nodes.county.isin(conties))\n",
    "    \n",
    "    \n",
    "    for target_column in target_columns:\n",
    "        training_set = build_training_set(city_network, target_column)\n",
    "        # remove for liner MSE models\n",
    "        training_set.loc[training_set['flow'] == 0, 'flow'] = 0.1\n",
    "\n",
    "        predicted = predict_unconstrained_log_mse(training_set)\n",
    "        assert training_set.shape[0] == predicted.shape[0], f'Size does not match'\n",
    "        mse = mean_squared_error(predicted.flow, predicted.predicted_flow)\n",
    "        print(f\"Processing {city}, MSE: {mse}\")\n",
    "        \n",
    "        prediction[(city, target_column)] = predicted"
   ]
  },
  {
   "cell_type": "code",
   "execution_count": 164,
   "metadata": {},
   "outputs": [
    {
     "data": {
      "text/html": [
       "<div>\n",
       "<style scoped>\n",
       "    .dataframe tbody tr th:only-of-type {\n",
       "        vertical-align: middle;\n",
       "    }\n",
       "\n",
       "    .dataframe tbody tr th {\n",
       "        vertical-align: top;\n",
       "    }\n",
       "\n",
       "    .dataframe thead th {\n",
       "        text-align: right;\n",
       "    }\n",
       "</style>\n",
       "<table border=\"1\" class=\"dataframe\">\n",
       "  <thead>\n",
       "    <tr style=\"text-align: right;\">\n",
       "      <th></th>\n",
       "      <th>origin</th>\n",
       "      <th>destination</th>\n",
       "      <th>flow</th>\n",
       "      <th>predicted_flow</th>\n",
       "    </tr>\n",
       "  </thead>\n",
       "  <tbody>\n",
       "    <tr>\n",
       "      <th>0</th>\n",
       "      <td>36081046200</td>\n",
       "      <td>36081046200</td>\n",
       "      <td>36.0</td>\n",
       "      <td>2.098990</td>\n",
       "    </tr>\n",
       "    <tr>\n",
       "      <th>1</th>\n",
       "      <td>36081046200</td>\n",
       "      <td>36081045000</td>\n",
       "      <td>9.0</td>\n",
       "      <td>0.175147</td>\n",
       "    </tr>\n",
       "    <tr>\n",
       "      <th>2</th>\n",
       "      <td>36081046200</td>\n",
       "      <td>36081045400</td>\n",
       "      <td>11.0</td>\n",
       "      <td>1.401250</td>\n",
       "    </tr>\n",
       "    <tr>\n",
       "      <th>3</th>\n",
       "      <td>36081046200</td>\n",
       "      <td>36081045500</td>\n",
       "      <td>1.0</td>\n",
       "      <td>2.987907</td>\n",
       "    </tr>\n",
       "    <tr>\n",
       "      <th>4</th>\n",
       "      <td>36081046200</td>\n",
       "      <td>36081045600</td>\n",
       "      <td>1.0</td>\n",
       "      <td>0.322323</td>\n",
       "    </tr>\n",
       "    <tr>\n",
       "      <th>...</th>\n",
       "      <td>...</td>\n",
       "      <td>...</td>\n",
       "      <td>...</td>\n",
       "      <td>...</td>\n",
       "    </tr>\n",
       "    <tr>\n",
       "      <th>4652644</th>\n",
       "      <td>36061016900</td>\n",
       "      <td>36081108500</td>\n",
       "      <td>0.1</td>\n",
       "      <td>0.202966</td>\n",
       "    </tr>\n",
       "    <tr>\n",
       "      <th>4652645</th>\n",
       "      <td>36061016900</td>\n",
       "      <td>36081109300</td>\n",
       "      <td>0.1</td>\n",
       "      <td>0.617380</td>\n",
       "    </tr>\n",
       "    <tr>\n",
       "      <th>4652646</th>\n",
       "      <td>36061016900</td>\n",
       "      <td>36081141700</td>\n",
       "      <td>0.1</td>\n",
       "      <td>0.915412</td>\n",
       "    </tr>\n",
       "    <tr>\n",
       "      <th>4652647</th>\n",
       "      <td>36061016900</td>\n",
       "      <td>36081006202</td>\n",
       "      <td>0.1</td>\n",
       "      <td>0.495803</td>\n",
       "    </tr>\n",
       "    <tr>\n",
       "      <th>4652648</th>\n",
       "      <td>36061016900</td>\n",
       "      <td>36061016900</td>\n",
       "      <td>90.0</td>\n",
       "      <td>13.118317</td>\n",
       "    </tr>\n",
       "  </tbody>\n",
       "</table>\n",
       "<p>4652649 rows × 4 columns</p>\n",
       "</div>"
      ],
      "text/plain": [
       "              origin  destination  flow  predicted_flow\n",
       "0        36081046200  36081046200  36.0        2.098990\n",
       "1        36081046200  36081045000   9.0        0.175147\n",
       "2        36081046200  36081045400  11.0        1.401250\n",
       "3        36081046200  36081045500   1.0        2.987907\n",
       "4        36081046200  36081045600   1.0        0.322323\n",
       "...              ...          ...   ...             ...\n",
       "4652644  36061016900  36081108500   0.1        0.202966\n",
       "4652645  36061016900  36081109300   0.1        0.617380\n",
       "4652646  36061016900  36081141700   0.1        0.915412\n",
       "4652647  36061016900  36081006202   0.1        0.495803\n",
       "4652648  36061016900  36061016900  90.0       13.118317\n",
       "\n",
       "[4652649 rows x 4 columns]"
      ]
     },
     "execution_count": 164,
     "metadata": {},
     "output_type": "execute_result"
    }
   ],
   "source": [
    "predicted = prediction[('New York City','S000')]\n",
    "predicted"
   ]
  }
 ],
 "metadata": {
  "kernelspec": {
   "display_name": "Python 3",
   "language": "python",
   "name": "python3"
  },
  "language_info": {
   "codemirror_mode": {
    "name": "ipython",
    "version": 3
   },
   "file_extension": ".py",
   "mimetype": "text/x-python",
   "name": "python",
   "nbconvert_exporter": "python",
   "pygments_lexer": "ipython3",
   "version": "3.8.11"
  }
 },
 "nbformat": 4,
 "nbformat_minor": 2
}
