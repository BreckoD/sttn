{
 "cells": [
  {
   "cell_type": "code",
   "execution_count": 1,
   "metadata": {},
   "outputs": [],
   "source": [
    "import warnings\n",
    "warnings.simplefilter(action='ignore', category=FutureWarning)\n",
    "\n",
    "import pandas as pd\n",
    "import statsmodels.api as sm\n",
    "import numpy as np\n",
    "import geopandas as gpd\n",
    "from ipfn import ipfn\n",
    "from matplotlib import pyplot as plt\n",
    "from haversine import haversine_vector, Unit\n",
    "pd.options.mode.chained_assignment = None  # default='warn'\n",
    "from sttn.data.lehd import OriginDestinationEmploymentDataProvider\n",
    "from sklearn.metrics import mean_squared_error\n",
    "\n",
    "provider = OriginDestinationEmploymentDataProvider()\n",
    "\n",
    "import math\n",
    "from sttn.network import SpatioTemporalNetwork\n",
    "from sttn.utils import add_distance\n",
    "\n",
    "%matplotlib inline"
   ]
  },
  {
   "cell_type": "code",
   "execution_count": 2,
   "metadata": {},
   "outputs": [],
   "source": [
    "cities = [\n",
    "    ('New York City', 'ny', ['New York County, NY', 'Queens County, NY','Kings County, NY','Bronx County, NY','Richmond County, NY']),\n",
    "    ('Los Angeles', 'ca', ['Los Angeles County, CA']),\n",
    "    ('Chicago', 'il', ['Cook County, IL']),\n",
    "    ('Houston', 'tx', ['Harris County, TX']),\n",
    "    ('Boston', 'ma', ['Suffolk County, MA', 'Middlesex County, MA']),\n",
    "    ('Phoenix', 'az', ['Maricopa County, AZ']),\n",
    "    ('Philadelphia', 'pa', ['Philadelphia County, PA']),\n",
    "    ('San Antonio', 'tx', ['Bexar County, TX']),\n",
    "    ('San Diego', 'ca', ['San Diego County, CA']),\n",
    "    ('Dallas', 'tx', ['Dallas County, TX']),\n",
    "    ('San Jose', 'ca', ['Santa Clara County, CA']),\n",
    "    ('Austin', 'tx', ['Travis County, TX']),\n",
    "]"
   ]
  },
  {
   "cell_type": "code",
   "execution_count": 3,
   "metadata": {},
   "outputs": [],
   "source": [
    "def build_training_set(network, target_column):\n",
    "    # explode the dataset to include all node pairs\n",
    "    node_ids = network.nodes.index.values\n",
    "    origins = pd.DataFrame(node_ids, columns = ['origin'])\n",
    "    destinations = pd.DataFrame(node_ids, columns = ['destination'])\n",
    "    cartesian_product = origins.merge(destinations, how='cross')\n",
    "    \n",
    "    # compute distnace between all pairs\n",
    "    centroid = network.nodes.centroid\n",
    "    centroid_long = centroid.x\n",
    "    centroid_long.name = 'long'\n",
    "    centroid_lat = centroid.y\n",
    "    centroid_lat.name = 'lat'\n",
    "    centroids = pd.concat([centroid_long, centroid_lat], axis=1)\n",
    "    centroid_from = cartesian_product.join(centroids, on=network._origin).rename(columns={'long': 'long_from', 'lat': 'lat_from'})\n",
    "    centroid_all = centroid_from.join(centroids, on=network._destination).rename(columns={'long': 'long_to', 'lat': 'lat_to'})\n",
    "    from_points = list(zip(centroid_all.lat_from, centroid_all.long_from))\n",
    "    to_points = list(zip(centroid_all.lat_to, centroid_all.long_to))\n",
    "    centroid_all['distance'] = haversine_vector(from_points, to_points, Unit.KILOMETERS)\n",
    "    centroid_all.drop(['long_from', 'lat_from', 'long_to', 'lat_to'], axis=1, inplace=True)\n",
    "    centroid_all.loc[centroid_all.distance == 0, 'distance'] = 0.2\n",
    "    \n",
    "    # compute jobs and residence\n",
    "    comp_aggs={target_column: 'sum'}\n",
    "    jobs = city_network.agg_adjacent_edges(aggs=comp_aggs, outgoing=False).rename(columns={target_column: 'jobs'})\n",
    "    residence = city_network.agg_adjacent_edges(aggs=comp_aggs, outgoing=True).rename(columns={target_column: 'residence'})\n",
    "    features = centroid_all.join(residence, on='origin').join(jobs, on='destination')\n",
    "    \n",
    "    # merge flow data\n",
    "    flow = network.edges.rename(columns={target_column: 'flow'})[['origin', 'destination', 'flow']]\n",
    "    combined = features.merge(flow, how='left', on=['origin', 'destination']).fillna(0)\n",
    "    \n",
    "    return combined"
   ]
  },
  {
   "cell_type": "code",
   "execution_count": 6,
   "metadata": {},
   "outputs": [
    {
     "data": {
      "text/html": [
       "<div>\n",
       "<style scoped>\n",
       "    .dataframe tbody tr th:only-of-type {\n",
       "        vertical-align: middle;\n",
       "    }\n",
       "\n",
       "    .dataframe tbody tr th {\n",
       "        vertical-align: top;\n",
       "    }\n",
       "\n",
       "    .dataframe thead th {\n",
       "        text-align: right;\n",
       "    }\n",
       "</style>\n",
       "<table border=\"1\" class=\"dataframe\">\n",
       "  <thead>\n",
       "    <tr style=\"text-align: right;\">\n",
       "      <th></th>\n",
       "      <th>origin</th>\n",
       "      <th>destination</th>\n",
       "      <th>distance</th>\n",
       "      <th>residence</th>\n",
       "      <th>jobs</th>\n",
       "      <th>flow</th>\n",
       "    </tr>\n",
       "  </thead>\n",
       "  <tbody>\n",
       "    <tr>\n",
       "      <th>0</th>\n",
       "      <td>36081046200</td>\n",
       "      <td>36081046200</td>\n",
       "      <td>0.200000</td>\n",
       "      <td>2465</td>\n",
       "      <td>626.0</td>\n",
       "      <td>36.0</td>\n",
       "    </tr>\n",
       "    <tr>\n",
       "      <th>1</th>\n",
       "      <td>36081046200</td>\n",
       "      <td>36081045000</td>\n",
       "      <td>1.495202</td>\n",
       "      <td>2465</td>\n",
       "      <td>108.0</td>\n",
       "      <td>9.0</td>\n",
       "    </tr>\n",
       "    <tr>\n",
       "      <th>2</th>\n",
       "      <td>36081046200</td>\n",
       "      <td>36081045400</td>\n",
       "      <td>0.745343</td>\n",
       "      <td>2465</td>\n",
       "      <td>672.0</td>\n",
       "      <td>11.0</td>\n",
       "    </tr>\n",
       "    <tr>\n",
       "      <th>3</th>\n",
       "      <td>36081046200</td>\n",
       "      <td>36081045500</td>\n",
       "      <td>6.921982</td>\n",
       "      <td>2465</td>\n",
       "      <td>3204.0</td>\n",
       "      <td>1.0</td>\n",
       "    </tr>\n",
       "    <tr>\n",
       "      <th>4</th>\n",
       "      <td>36081046200</td>\n",
       "      <td>36081045600</td>\n",
       "      <td>0.908050</td>\n",
       "      <td>2465</td>\n",
       "      <td>166.0</td>\n",
       "      <td>1.0</td>\n",
       "    </tr>\n",
       "    <tr>\n",
       "      <th>...</th>\n",
       "      <td>...</td>\n",
       "      <td>...</td>\n",
       "      <td>...</td>\n",
       "      <td>...</td>\n",
       "      <td>...</td>\n",
       "      <td>...</td>\n",
       "    </tr>\n",
       "    <tr>\n",
       "      <th>4652644</th>\n",
       "      <td>36061016900</td>\n",
       "      <td>36081108500</td>\n",
       "      <td>15.561711</td>\n",
       "      <td>3612</td>\n",
       "      <td>199.0</td>\n",
       "      <td>0.0</td>\n",
       "    </tr>\n",
       "    <tr>\n",
       "      <th>4652645</th>\n",
       "      <td>36061016900</td>\n",
       "      <td>36081109300</td>\n",
       "      <td>17.079384</td>\n",
       "      <td>3612</td>\n",
       "      <td>626.0</td>\n",
       "      <td>0.0</td>\n",
       "    </tr>\n",
       "    <tr>\n",
       "      <th>4652646</th>\n",
       "      <td>36061016900</td>\n",
       "      <td>36081141700</td>\n",
       "      <td>15.923367</td>\n",
       "      <td>3612</td>\n",
       "      <td>905.0</td>\n",
       "      <td>0.0</td>\n",
       "    </tr>\n",
       "    <tr>\n",
       "      <th>4652647</th>\n",
       "      <td>36061016900</td>\n",
       "      <td>36081006202</td>\n",
       "      <td>16.638421</td>\n",
       "      <td>3612</td>\n",
       "      <td>498.0</td>\n",
       "      <td>0.0</td>\n",
       "    </tr>\n",
       "    <tr>\n",
       "      <th>4652648</th>\n",
       "      <td>36061016900</td>\n",
       "      <td>36061016900</td>\n",
       "      <td>0.200000</td>\n",
       "      <td>3612</td>\n",
       "      <td>2670.0</td>\n",
       "      <td>90.0</td>\n",
       "    </tr>\n",
       "  </tbody>\n",
       "</table>\n",
       "<p>4652649 rows × 6 columns</p>\n",
       "</div>"
      ],
      "text/plain": [
       "              origin  destination   distance  residence    jobs  flow\n",
       "0        36081046200  36081046200   0.200000       2465   626.0  36.0\n",
       "1        36081046200  36081045000   1.495202       2465   108.0   9.0\n",
       "2        36081046200  36081045400   0.745343       2465   672.0  11.0\n",
       "3        36081046200  36081045500   6.921982       2465  3204.0   1.0\n",
       "4        36081046200  36081045600   0.908050       2465   166.0   1.0\n",
       "...              ...          ...        ...        ...     ...   ...\n",
       "4652644  36061016900  36081108500  15.561711       3612   199.0   0.0\n",
       "4652645  36061016900  36081109300  17.079384       3612   626.0   0.0\n",
       "4652646  36061016900  36081141700  15.923367       3612   905.0   0.0\n",
       "4652647  36061016900  36081006202  16.638421       3612   498.0   0.0\n",
       "4652648  36061016900  36061016900   0.200000       3612  2670.0  90.0\n",
       "\n",
       "[4652649 rows x 6 columns]"
      ]
     },
     "execution_count": 6,
     "metadata": {},
     "output_type": "execute_result"
    }
   ],
   "source": [
    "city_network"
   ]
  },
  {
   "cell_type": "code",
   "execution_count": 7,
   "metadata": {},
   "outputs": [
    {
     "name": "stdout",
     "output_type": "stream",
     "text": [
      "New York City\n"
     ]
    },
    {
     "name": "stderr",
     "output_type": "stream",
     "text": [
      "<ipython-input-3-fe05c9531592>:9: UserWarning: Geometry is in a geographic CRS. Results from 'centroid' are likely incorrect. Use 'GeoSeries.to_crs()' to re-project geometries to a projected CRS before this operation.\n",
      "\n",
      "  centroid = network.nodes.centroid\n"
     ]
    },
    {
     "ename": "AttributeError",
     "evalue": "'DataFrame' object has no attribute 'nodes'",
     "output_type": "error",
     "traceback": [
      "\u001b[0;31m---------------------------------------------------------------------------\u001b[0m",
      "\u001b[0;31mAttributeError\u001b[0m                            Traceback (most recent call last)",
      "\u001b[0;32m<ipython-input-7-18fe7cb267ad>\u001b[0m in \u001b[0;36m<module>\u001b[0;34m\u001b[0m\n\u001b[1;32m      7\u001b[0m     \u001b[0mcity_network\u001b[0m \u001b[0;34m=\u001b[0m \u001b[0mstate_network\u001b[0m\u001b[0;34m.\u001b[0m\u001b[0mfilter_nodes\u001b[0m\u001b[0;34m(\u001b[0m\u001b[0mstate_network\u001b[0m\u001b[0;34m.\u001b[0m\u001b[0mnodes\u001b[0m\u001b[0;34m.\u001b[0m\u001b[0mcounty\u001b[0m\u001b[0;34m.\u001b[0m\u001b[0misin\u001b[0m\u001b[0;34m(\u001b[0m\u001b[0mconties\u001b[0m\u001b[0;34m)\u001b[0m\u001b[0;34m)\u001b[0m\u001b[0;34m\u001b[0m\u001b[0;34m\u001b[0m\u001b[0m\n\u001b[1;32m      8\u001b[0m     \u001b[0mcity_network\u001b[0m \u001b[0;34m=\u001b[0m \u001b[0mbuild_training_set\u001b[0m\u001b[0;34m(\u001b[0m\u001b[0mcity_network\u001b[0m\u001b[0;34m,\u001b[0m\u001b[0;34m'S000'\u001b[0m\u001b[0;34m)\u001b[0m\u001b[0;34m\u001b[0m\u001b[0;34m\u001b[0m\u001b[0m\n\u001b[0;32m----> 9\u001b[0;31m     \u001b[0mwith_distance\u001b[0m \u001b[0;34m=\u001b[0m \u001b[0madd_distance\u001b[0m\u001b[0;34m(\u001b[0m\u001b[0mcity_network\u001b[0m\u001b[0;34m)\u001b[0m\u001b[0;34m\u001b[0m\u001b[0;34m\u001b[0m\u001b[0m\n\u001b[0m\u001b[1;32m     10\u001b[0m \u001b[0;34m\u001b[0m\u001b[0m\n\u001b[1;32m     11\u001b[0m     \u001b[0mcity_jobs\u001b[0m \u001b[0;34m=\u001b[0m \u001b[0mcity_network\u001b[0m\u001b[0;34m.\u001b[0m\u001b[0magg_adjacent_edges\u001b[0m\u001b[0;34m(\u001b[0m\u001b[0maggs\u001b[0m\u001b[0;34m=\u001b[0m\u001b[0mcomp_aggs\u001b[0m\u001b[0;34m,\u001b[0m \u001b[0moutgoing\u001b[0m\u001b[0;34m=\u001b[0m\u001b[0;32mFalse\u001b[0m\u001b[0;34m)\u001b[0m\u001b[0;34m.\u001b[0m\u001b[0mrename\u001b[0m\u001b[0;34m(\u001b[0m\u001b[0mcolumns\u001b[0m\u001b[0;34m=\u001b[0m\u001b[0;34m{\u001b[0m\u001b[0mjob_column\u001b[0m\u001b[0;34m:\u001b[0m \u001b[0;34m'jobs'\u001b[0m\u001b[0;34m}\u001b[0m\u001b[0;34m)\u001b[0m\u001b[0;34m.\u001b[0m\u001b[0mreset_index\u001b[0m\u001b[0;34m(\u001b[0m\u001b[0;34m)\u001b[0m\u001b[0;34m\u001b[0m\u001b[0;34m\u001b[0m\u001b[0m\n",
      "\u001b[0;32m~/anaconda3/envs/py38/lib/python3.8/site-packages/sttn/utils.py\u001b[0m in \u001b[0;36madd_distance\u001b[0;34m(network)\u001b[0m\n\u001b[1;32m      8\u001b[0m \u001b[0;32mdef\u001b[0m \u001b[0madd_distance\u001b[0m\u001b[0;34m(\u001b[0m\u001b[0mnetwork\u001b[0m\u001b[0;34m:\u001b[0m \u001b[0mSpatioTemporalNetwork\u001b[0m\u001b[0;34m)\u001b[0m \u001b[0;34m->\u001b[0m \u001b[0mSpatioTemporalNetwork\u001b[0m\u001b[0;34m:\u001b[0m\u001b[0;34m\u001b[0m\u001b[0;34m\u001b[0m\u001b[0m\n\u001b[1;32m      9\u001b[0m     \u001b[0;34m\"\"\"Add distance in km between area centroids.\"\"\"\u001b[0m\u001b[0;34m\u001b[0m\u001b[0;34m\u001b[0m\u001b[0m\n\u001b[0;32m---> 10\u001b[0;31m     \u001b[0mcentroid\u001b[0m \u001b[0;34m=\u001b[0m \u001b[0mnetwork\u001b[0m\u001b[0;34m.\u001b[0m\u001b[0mnodes\u001b[0m\u001b[0;34m.\u001b[0m\u001b[0mcentroid\u001b[0m\u001b[0;34m\u001b[0m\u001b[0;34m\u001b[0m\u001b[0m\n\u001b[0m\u001b[1;32m     11\u001b[0m     \u001b[0mcentroid_long\u001b[0m \u001b[0;34m=\u001b[0m \u001b[0mcentroid\u001b[0m\u001b[0;34m.\u001b[0m\u001b[0mx\u001b[0m\u001b[0;34m\u001b[0m\u001b[0;34m\u001b[0m\u001b[0m\n\u001b[1;32m     12\u001b[0m     \u001b[0mcentroid_long\u001b[0m\u001b[0;34m.\u001b[0m\u001b[0mname\u001b[0m \u001b[0;34m=\u001b[0m \u001b[0;34m'long'\u001b[0m\u001b[0;34m\u001b[0m\u001b[0;34m\u001b[0m\u001b[0m\n",
      "\u001b[0;32m~/anaconda3/envs/py38/lib/python3.8/site-packages/pandas/core/generic.py\u001b[0m in \u001b[0;36m__getattr__\u001b[0;34m(self, name)\u001b[0m\n\u001b[1;32m   5463\u001b[0m             \u001b[0;32mif\u001b[0m \u001b[0mself\u001b[0m\u001b[0;34m.\u001b[0m\u001b[0m_info_axis\u001b[0m\u001b[0;34m.\u001b[0m\u001b[0m_can_hold_identifiers_and_holds_name\u001b[0m\u001b[0;34m(\u001b[0m\u001b[0mname\u001b[0m\u001b[0;34m)\u001b[0m\u001b[0;34m:\u001b[0m\u001b[0;34m\u001b[0m\u001b[0;34m\u001b[0m\u001b[0m\n\u001b[1;32m   5464\u001b[0m                 \u001b[0;32mreturn\u001b[0m \u001b[0mself\u001b[0m\u001b[0;34m[\u001b[0m\u001b[0mname\u001b[0m\u001b[0;34m]\u001b[0m\u001b[0;34m\u001b[0m\u001b[0;34m\u001b[0m\u001b[0m\n\u001b[0;32m-> 5465\u001b[0;31m             \u001b[0;32mreturn\u001b[0m \u001b[0mobject\u001b[0m\u001b[0;34m.\u001b[0m\u001b[0m__getattribute__\u001b[0m\u001b[0;34m(\u001b[0m\u001b[0mself\u001b[0m\u001b[0;34m,\u001b[0m \u001b[0mname\u001b[0m\u001b[0;34m)\u001b[0m\u001b[0;34m\u001b[0m\u001b[0;34m\u001b[0m\u001b[0m\n\u001b[0m\u001b[1;32m   5466\u001b[0m \u001b[0;34m\u001b[0m\u001b[0m\n\u001b[1;32m   5467\u001b[0m     \u001b[0;32mdef\u001b[0m \u001b[0m__setattr__\u001b[0m\u001b[0;34m(\u001b[0m\u001b[0mself\u001b[0m\u001b[0;34m,\u001b[0m \u001b[0mname\u001b[0m\u001b[0;34m:\u001b[0m \u001b[0mstr\u001b[0m\u001b[0;34m,\u001b[0m \u001b[0mvalue\u001b[0m\u001b[0;34m)\u001b[0m \u001b[0;34m->\u001b[0m \u001b[0;32mNone\u001b[0m\u001b[0;34m:\u001b[0m\u001b[0;34m\u001b[0m\u001b[0;34m\u001b[0m\u001b[0m\n",
      "\u001b[0;31mAttributeError\u001b[0m: 'DataFrame' object has no attribute 'nodes'"
     ]
    }
   ],
   "source": [
    "allCity_dfs = []\n",
    "job_column = 'S000'\n",
    "comp_aggs={job_column: 'sum'}\n",
    "for city, state, conties in cities:\n",
    "    print(city)\n",
    "    state_network = provider.get_data(state=state, year=2018)\n",
    "    city_network = state_network.filter_nodes(state_network.nodes.county.isin(conties))\n",
    "    city_network = build_training_set(city_network,'S000')\n",
    "    with_distance = add_distance(city_network).edges\n",
    "    \n",
    "    city_jobs = city_network.agg_adjacent_edges(aggs=comp_aggs, outgoing=False).rename(columns={job_column: 'jobs'}).reset_index()\n",
    "    city_pop = city_network.agg_adjacent_edges(aggs=comp_aggs, outgoing=True).rename(columns={job_column: 'residence'}).reset_index()\n",
    "    \n",
    "    city_dist = with_distance.merge(city_jobs, on='destination')\n",
    "    city_cum = city_dist.merge(city_pop, on='origin')\n",
    "    \n",
    "    allCity_dfs.append(city_cum)"
   ]
  },
  {
   "cell_type": "code",
   "execution_count": 72,
   "metadata": {},
   "outputs": [],
   "source": [
    "# prediction functions that take a Pandas dataframe with origin, destination, distance, jobs, residence and flow columns\n",
    "# and return a dataframe with 'origin', 'destination', 'flow', 'predicted_flow' columns\n",
    "state_network = provider.get_data(state='ny', year=2018)\n",
    "city_network = state_network.filter_nodes(state_network.nodes.county.isin(['New York County, NY', 'Queens County, NY','Kings County, NY','Bronx County, NY','Richmond County, NY']))\n"
   ]
  },
  {
   "cell_type": "code",
   "execution_count": 160,
   "metadata": {},
   "outputs": [
    {
     "name": "stderr",
     "output_type": "stream",
     "text": [
      "<ipython-input-149-fe05c9531592>:9: UserWarning: Geometry is in a geographic CRS. Results from 'centroid' are likely incorrect. Use 'GeoSeries.to_crs()' to re-project geometries to a projected CRS before this operation.\n",
      "\n",
      "  centroid = network.nodes.centroid\n"
     ]
    },
    {
     "name": "stdout",
     "output_type": "stream",
     "text": [
      "Processing New York City, MSE: 4.572668445420518\n"
     ]
    },
    {
     "name": "stderr",
     "output_type": "stream",
     "text": [
      "<ipython-input-149-fe05c9531592>:9: UserWarning: Geometry is in a geographic CRS. Results from 'centroid' are likely incorrect. Use 'GeoSeries.to_crs()' to re-project geometries to a projected CRS before this operation.\n",
      "\n",
      "  centroid = network.nodes.centroid\n"
     ]
    },
    {
     "name": "stdout",
     "output_type": "stream",
     "text": [
      "Processing Los Angeles, MSE: 6.457875692158243\n"
     ]
    },
    {
     "name": "stderr",
     "output_type": "stream",
     "text": [
      "<ipython-input-149-fe05c9531592>:9: UserWarning: Geometry is in a geographic CRS. Results from 'centroid' are likely incorrect. Use 'GeoSeries.to_crs()' to re-project geometries to a projected CRS before this operation.\n",
      "\n",
      "  centroid = network.nodes.centroid\n"
     ]
    },
    {
     "name": "stdout",
     "output_type": "stream",
     "text": [
      "Processing Chicago, MSE: 37.06998549902116\n"
     ]
    },
    {
     "name": "stderr",
     "output_type": "stream",
     "text": [
      "<ipython-input-149-fe05c9531592>:9: UserWarning: Geometry is in a geographic CRS. Results from 'centroid' are likely incorrect. Use 'GeoSeries.to_crs()' to re-project geometries to a projected CRS before this operation.\n",
      "\n",
      "  centroid = network.nodes.centroid\n"
     ]
    },
    {
     "name": "stdout",
     "output_type": "stream",
     "text": [
      "Processing Houston, MSE: 67.02499056220124\n"
     ]
    },
    {
     "name": "stderr",
     "output_type": "stream",
     "text": [
      "<ipython-input-149-fe05c9531592>:9: UserWarning: Geometry is in a geographic CRS. Results from 'centroid' are likely incorrect. Use 'GeoSeries.to_crs()' to re-project geometries to a projected CRS before this operation.\n",
      "\n",
      "  centroid = network.nodes.centroid\n"
     ]
    },
    {
     "name": "stdout",
     "output_type": "stream",
     "text": [
      "Processing Boston, MSE: 65.40991451823773\n"
     ]
    },
    {
     "name": "stderr",
     "output_type": "stream",
     "text": [
      "<ipython-input-149-fe05c9531592>:9: UserWarning: Geometry is in a geographic CRS. Results from 'centroid' are likely incorrect. Use 'GeoSeries.to_crs()' to re-project geometries to a projected CRS before this operation.\n",
      "\n",
      "  centroid = network.nodes.centroid\n"
     ]
    },
    {
     "name": "stdout",
     "output_type": "stream",
     "text": [
      "Processing Phoenix, MSE: 19.796144315015418\n"
     ]
    },
    {
     "name": "stderr",
     "output_type": "stream",
     "text": [
      "<ipython-input-149-fe05c9531592>:9: UserWarning: Geometry is in a geographic CRS. Results from 'centroid' are likely incorrect. Use 'GeoSeries.to_crs()' to re-project geometries to a projected CRS before this operation.\n",
      "\n",
      "  centroid = network.nodes.centroid\n"
     ]
    },
    {
     "name": "stdout",
     "output_type": "stream",
     "text": [
      "Processing Philadelphia, MSE: 28.61008998619205\n"
     ]
    },
    {
     "name": "stderr",
     "output_type": "stream",
     "text": [
      "<ipython-input-149-fe05c9531592>:9: UserWarning: Geometry is in a geographic CRS. Results from 'centroid' are likely incorrect. Use 'GeoSeries.to_crs()' to re-project geometries to a projected CRS before this operation.\n",
      "\n",
      "  centroid = network.nodes.centroid\n"
     ]
    },
    {
     "name": "stdout",
     "output_type": "stream",
     "text": [
      "Processing San Antonio, MSE: 63.62583176336124\n"
     ]
    },
    {
     "name": "stderr",
     "output_type": "stream",
     "text": [
      "<ipython-input-149-fe05c9531592>:9: UserWarning: Geometry is in a geographic CRS. Results from 'centroid' are likely incorrect. Use 'GeoSeries.to_crs()' to re-project geometries to a projected CRS before this operation.\n",
      "\n",
      "  centroid = network.nodes.centroid\n"
     ]
    },
    {
     "name": "stdout",
     "output_type": "stream",
     "text": [
      "Processing San Diego, MSE: 141.64590942452898\n"
     ]
    },
    {
     "name": "stderr",
     "output_type": "stream",
     "text": [
      "<ipython-input-149-fe05c9531592>:9: UserWarning: Geometry is in a geographic CRS. Results from 'centroid' are likely incorrect. Use 'GeoSeries.to_crs()' to re-project geometries to a projected CRS before this operation.\n",
      "\n",
      "  centroid = network.nodes.centroid\n"
     ]
    },
    {
     "name": "stdout",
     "output_type": "stream",
     "text": [
      "Processing Dallas, MSE: 55.38068979821111\n"
     ]
    },
    {
     "name": "stderr",
     "output_type": "stream",
     "text": [
      "<ipython-input-149-fe05c9531592>:9: UserWarning: Geometry is in a geographic CRS. Results from 'centroid' are likely incorrect. Use 'GeoSeries.to_crs()' to re-project geometries to a projected CRS before this operation.\n",
      "\n",
      "  centroid = network.nodes.centroid\n"
     ]
    },
    {
     "name": "stdout",
     "output_type": "stream",
     "text": [
      "Processing San Jose, MSE: 115.03088066119258\n",
      "Processing Austin, MSE: 282.93737900345224\n"
     ]
    },
    {
     "name": "stderr",
     "output_type": "stream",
     "text": [
      "<ipython-input-149-fe05c9531592>:9: UserWarning: Geometry is in a geographic CRS. Results from 'centroid' are likely incorrect. Use 'GeoSeries.to_crs()' to re-project geometries to a projected CRS before this operation.\n",
      "\n",
      "  centroid = network.nodes.centroid\n"
     ]
    }
   ],
   "source": [
    "prediction = {}\n",
    "target_columns = ['S000'] #['SE01', 'SE02', 'SE03']\n",
    "\n",
    "for city, state, conties in cities:\n",
    "    state_network = provider.get_data(state=state, year=2018)\n",
    "    city_network = state_network.filter_nodes(state_network.nodes.county.isin(conties))\n",
    "    \n",
    "    \n",
    "    for target_column in target_columns:\n",
    "        training_set = build_training_set(city_network, target_column)\n",
    "        # remove for liner MSE models\n",
    "        training_set.loc[training_set['flow'] == 0, 'flow'] = 0.1\n",
    "\n",
    "        predicted = predict_unconstrained_log_mse(training_set)\n",
    "        assert training_set.shape[0] == predicted.shape[0], f'Size does not match'\n",
    "        mse = mean_squared_error(predicted.flow, predicted.predicted_flow)\n",
    "        print(f\"Processing {city}, MSE: {mse}\")\n",
    "        \n",
    "        prediction[(city, target_column)] = predicted"
   ]
  },
  {
   "cell_type": "code",
   "execution_count": 164,
   "metadata": {},
   "outputs": [
    {
     "data": {
      "text/html": [
       "<div>\n",
       "<style scoped>\n",
       "    .dataframe tbody tr th:only-of-type {\n",
       "        vertical-align: middle;\n",
       "    }\n",
       "\n",
       "    .dataframe tbody tr th {\n",
       "        vertical-align: top;\n",
       "    }\n",
       "\n",
       "    .dataframe thead th {\n",
       "        text-align: right;\n",
       "    }\n",
       "</style>\n",
       "<table border=\"1\" class=\"dataframe\">\n",
       "  <thead>\n",
       "    <tr style=\"text-align: right;\">\n",
       "      <th></th>\n",
       "      <th>origin</th>\n",
       "      <th>destination</th>\n",
       "      <th>flow</th>\n",
       "      <th>predicted_flow</th>\n",
       "    </tr>\n",
       "  </thead>\n",
       "  <tbody>\n",
       "    <tr>\n",
       "      <th>0</th>\n",
       "      <td>36081046200</td>\n",
       "      <td>36081046200</td>\n",
       "      <td>36.0</td>\n",
       "      <td>2.098990</td>\n",
       "    </tr>\n",
       "    <tr>\n",
       "      <th>1</th>\n",
       "      <td>36081046200</td>\n",
       "      <td>36081045000</td>\n",
       "      <td>9.0</td>\n",
       "      <td>0.175147</td>\n",
       "    </tr>\n",
       "    <tr>\n",
       "      <th>2</th>\n",
       "      <td>36081046200</td>\n",
       "      <td>36081045400</td>\n",
       "      <td>11.0</td>\n",
       "      <td>1.401250</td>\n",
       "    </tr>\n",
       "    <tr>\n",
       "      <th>3</th>\n",
       "      <td>36081046200</td>\n",
       "      <td>36081045500</td>\n",
       "      <td>1.0</td>\n",
       "      <td>2.987907</td>\n",
       "    </tr>\n",
       "    <tr>\n",
       "      <th>4</th>\n",
       "      <td>36081046200</td>\n",
       "      <td>36081045600</td>\n",
       "      <td>1.0</td>\n",
       "      <td>0.322323</td>\n",
       "    </tr>\n",
       "    <tr>\n",
       "      <th>...</th>\n",
       "      <td>...</td>\n",
       "      <td>...</td>\n",
       "      <td>...</td>\n",
       "      <td>...</td>\n",
       "    </tr>\n",
       "    <tr>\n",
       "      <th>4652644</th>\n",
       "      <td>36061016900</td>\n",
       "      <td>36081108500</td>\n",
       "      <td>0.1</td>\n",
       "      <td>0.202966</td>\n",
       "    </tr>\n",
       "    <tr>\n",
       "      <th>4652645</th>\n",
       "      <td>36061016900</td>\n",
       "      <td>36081109300</td>\n",
       "      <td>0.1</td>\n",
       "      <td>0.617380</td>\n",
       "    </tr>\n",
       "    <tr>\n",
       "      <th>4652646</th>\n",
       "      <td>36061016900</td>\n",
       "      <td>36081141700</td>\n",
       "      <td>0.1</td>\n",
       "      <td>0.915412</td>\n",
       "    </tr>\n",
       "    <tr>\n",
       "      <th>4652647</th>\n",
       "      <td>36061016900</td>\n",
       "      <td>36081006202</td>\n",
       "      <td>0.1</td>\n",
       "      <td>0.495803</td>\n",
       "    </tr>\n",
       "    <tr>\n",
       "      <th>4652648</th>\n",
       "      <td>36061016900</td>\n",
       "      <td>36061016900</td>\n",
       "      <td>90.0</td>\n",
       "      <td>13.118317</td>\n",
       "    </tr>\n",
       "  </tbody>\n",
       "</table>\n",
       "<p>4652649 rows × 4 columns</p>\n",
       "</div>"
      ],
      "text/plain": [
       "              origin  destination  flow  predicted_flow\n",
       "0        36081046200  36081046200  36.0        2.098990\n",
       "1        36081046200  36081045000   9.0        0.175147\n",
       "2        36081046200  36081045400  11.0        1.401250\n",
       "3        36081046200  36081045500   1.0        2.987907\n",
       "4        36081046200  36081045600   1.0        0.322323\n",
       "...              ...          ...   ...             ...\n",
       "4652644  36061016900  36081108500   0.1        0.202966\n",
       "4652645  36061016900  36081109300   0.1        0.617380\n",
       "4652646  36061016900  36081141700   0.1        0.915412\n",
       "4652647  36061016900  36081006202   0.1        0.495803\n",
       "4652648  36061016900  36061016900  90.0       13.118317\n",
       "\n",
       "[4652649 rows x 4 columns]"
      ]
     },
     "execution_count": 164,
     "metadata": {},
     "output_type": "execute_result"
    }
   ],
   "source": [
    "predicted = prediction[('New York City','S000')]\n",
    "predicted"
   ]
  }
 ],
 "metadata": {
  "kernelspec": {
   "display_name": "py38",
   "language": "python",
   "name": "py38"
  },
  "language_info": {
   "codemirror_mode": {
    "name": "ipython",
    "version": 3
   },
   "file_extension": ".py",
   "mimetype": "text/x-python",
   "name": "python",
   "nbconvert_exporter": "python",
   "pygments_lexer": "ipython3",
   "version": "3.8.10"
  }
 },
 "nbformat": 4,
 "nbformat_minor": 2
}
