{
 "cells": [
  {
   "cell_type": "code",
   "execution_count": 2,
   "metadata": {},
   "outputs": [],
   "source": [
    "import warnings\n",
    "warnings.filterwarnings('ignore')\n",
    "\n",
    "import pandas as pd\n",
    "import statsmodels.api as sm\n",
    "import numpy as np\n",
    "import geopandas as gpd\n",
    "from matplotlib import pyplot as plt\n",
    "from haversine import haversine_vector, Unit\n",
    "pd.options.mode.chained_assignment = None  # default='warn'\n",
    "from sttn.data.lehd import OriginDestinationEmploymentDataProvider\n",
    "from sklearn.metrics import mean_squared_error\n",
    "\n",
    "provider = OriginDestinationEmploymentDataProvider()\n",
    "\n",
    "import math\n",
    "from sttn.network import SpatioTemporalNetwork\n",
    "from sttn.utils import add_distance\n",
    "import os\n",
    "%matplotlib inline"
   ]
  },
  {
   "cell_type": "code",
   "execution_count": null,
   "metadata": {},
   "outputs": [],
   "source": [
    "cities = [\n",
    "    ('New York City', 'ny', ['New York County, NY', 'Queens County, NY','Kings County, NY','Bronx County, NY','Richmond County, NY']),\n",
    "    ('Los Angeles', 'ca', ['Los Angeles County, CA']),\n",
    "    ('Chicago', 'il', ['Cook County, IL']),\n",
    "    ('Houston', 'tx', ['Harris County, TX']),\n",
    "    ('Boston', 'ma', ['Suffolk County, MA', 'Middlesex County, MA']),\n",
    "    ('Phoenix', 'az', ['Maricopa County, AZ']),\n",
    "    ('Philadelphia', 'pa', ['Philadelphia County, PA']),\n",
    "    ('San Antonio', 'tx', ['Bexar County, TX']),\n",
    "    ('San Diego', 'ca', ['San Diego County, CA']),\n",
    "    ('Dallas', 'tx', ['Dallas County, TX']),\n",
    "    ('San Jose', 'ca', ['Santa Clara County, CA']),\n",
    "    ('Austin', 'tx', ['Travis County, TX']),\n",
    "]"
   ]
  },
  {
   "cell_type": "code",
   "execution_count": 4,
   "metadata": {},
   "outputs": [],
   "source": [
    "def build_training_set(network, target_column):\n",
    "    # explode the dataset to include all node pairs\n",
    "    node_ids = network.nodes.index.values\n",
    "    origins = pd.DataFrame(node_ids, columns = ['origin'])\n",
    "    destinations = pd.DataFrame(node_ids, columns = ['destination'])\n",
    "    cartesian_product = origins.merge(destinations, how='cross')\n",
    "    \n",
    "    # compute distnace between all pairs\n",
    "    centroid = network.nodes.centroid\n",
    "    centroid_long = centroid.x\n",
    "    centroid_long.name = 'long'\n",
    "    centroid_lat = centroid.y\n",
    "    centroid_lat.name = 'lat'\n",
    "    centroids = pd.concat([centroid_long, centroid_lat], axis=1)\n",
    "    centroid_from = cartesian_product.join(centroids, on=network._origin).rename(columns={'long': 'long_from', 'lat': 'lat_from'})\n",
    "    centroid_all = centroid_from.join(centroids, on=network._destination).rename(columns={'long': 'long_to', 'lat': 'lat_to'})\n",
    "    from_points = list(zip(centroid_all.lat_from, centroid_all.long_from))\n",
    "    to_points = list(zip(centroid_all.lat_to, centroid_all.long_to))\n",
    "    centroid_all['distance'] = haversine_vector(from_points, to_points, Unit.KILOMETERS)\n",
    "    centroid_all.drop(['long_from', 'lat_from', 'long_to', 'lat_to'], axis=1, inplace=True)\n",
    "    centroid_all.loc[centroid_all.distance == 0, 'distance'] = 0.2\n",
    "    \n",
    "    # compute jobs and residence\n",
    "    comp_aggs={target_column: 'sum'}\n",
    "    jobs = city_network.agg_adjacent_edges(aggs=comp_aggs, outgoing=False).rename(columns={target_column: 'jobs'})\n",
    "    residence = city_network.agg_adjacent_edges(aggs=comp_aggs, outgoing=True).rename(columns={target_column: 'residence'})\n",
    "    features = centroid_all.join(residence, on='origin').join(jobs, on='destination')\n",
    "    \n",
    "    # merge flow data\n",
    "    flow = network.edges.rename(columns={target_column: 'flow'})[['origin', 'destination', 'flow']]\n",
    "    combined = features.merge(flow, how='left', on=['origin', 'destination']).fillna(0)\n",
    "    \n",
    "    return combined"
   ]
  },
  {
   "cell_type": "code",
   "execution_count": 5,
   "metadata": {},
   "outputs": [
    {
     "name": "stdout",
     "output_type": "stream",
     "text": [
      "New York City\n"
     ]
    }
   ],
   "source": [
    "target_columns = ['S000']\n",
    "for city, state, conties in cities:\n",
    "    print(city)\n",
    "    state_network = provider.get_data(state=state, year=2018)\n",
    "    city_network = state_network.filter_nodes(state_network.nodes.county.isin(conties))\n",
    "    for target_column in target_columns:\n",
    "        training_set = build_training_set(city_network, target_column)\n",
    "    training_set.to_csv('cities/%s.csv'%city,index=False)"
   ]
  },
  {
   "cell_type": "markdown",
   "metadata": {},
   "source": [
    "### doubly constrained, fit u,v together in iterations"
   ]
  },
  {
   "cell_type": "code",
   "execution_count": 69,
   "metadata": {},
   "outputs": [],
   "source": [
    "def getbins(df, nbins=20):     \n",
    "    df['bin'] = pd.qcut(df['distance'], q=20)\n",
    "    df.sort_values(by='bin', inplace=True)\n",
    "    df.rename(columns={'jobs':'S000jobs', 'residence':'S000residence','flow':'S000flow'}, inplace=True)\n",
    "    \n",
    "    return df\n",
    "def balancing(test,target,iterationNum,iteration = 20):\n",
    "#     print(target,'iteration', iterationNum)\n",
    "    if target+'B' not in test.columns:\n",
    "        test[target+'B'] = 1\n",
    "    test[target+'BDF'] = test[target+'jobs']*test[target+'f(d)']*test[target+'B']\n",
    "    if target+'A' in test.columns:\n",
    "        del test[target+'A']\n",
    "    del test[target+'B']\n",
    "    test = test.groupby(['origin']).agg({target+'BDF':sum}).\\\n",
    "    rename(columns={target+'BDF':target+'A'}).reset_index().\\\n",
    "    merge(test,on=['origin'],how='right')\n",
    "    test[target+'A'] = 1/test[target+'A']\n",
    "    test[target+'AOF'] = test[target+'residence']*test[target+'f(d)']*test[target+'A']\n",
    "    test = test.groupby(['destination']).agg({target+'AOF':sum}).\\\n",
    "    rename(columns={target+'AOF':target+'B'}).reset_index().\\\n",
    "    merge(test,on=['destination'],how='right')\n",
    "    test[target+'B'] = 1/test[target+'B']\n",
    "    test[target+'pred'] = test[target+'residence']*test[target+'jobs']*test[target+'f(d)']*\\\n",
    "                        test[target+'A']*test[target+'B']\n",
    "    \n",
    "    resultO = test[['origin',target+'residence']].drop_duplicates().\\\n",
    "    merge(test.groupby(['origin'])[[target+'pred']].sum().reset_index(),on=['origin'],how='left')\n",
    "    resultO['percentage'] = np.abs(resultO[target+'residence'] - resultO[target+'pred'])/resultO[target+'residence']\n",
    "    resultO = resultO['percentage'].mean()\n",
    "\n",
    "    resultD = test[['destination',target+'jobs']].drop_duplicates().\\\n",
    "    merge(test.groupby(['destination'])[[target+'pred']].sum().reset_index(),on=['destination'],how='left')\n",
    "    resultD['percentage'] = np.abs(resultD[target+'jobs'] - resultD[target+'pred'])/resultD[target+'jobs']\n",
    "    resultD = resultD['percentage'].mean()\n",
    "#     print(resultO,resultD)\n",
    "    if resultO < 0.02 and resultD < 0.02:\n",
    "        return test\n",
    "    else:\n",
    "        if iterationNum < iteration:\n",
    "            return balancing(test,target,iterationNum = iterationNum+1,iteration = 20)\n",
    "        else:\n",
    "            return test\n",
    "        \n",
    "def doubly_constrained_model_AB(data,target):\n",
    "    \n",
    "\n",
    "    binoutput = pd.DataFrame()\n",
    "    # estimate F for each bin\n",
    "    for b in data['bin'].unique():\n",
    "        subData = data[data['bin'] == b]\n",
    "        X = subData[target+'residence'] * subData[target+'jobs']\n",
    "\n",
    "        y = subData[target+'flow']\n",
    "\n",
    "        model = sm.OLS(y,X).fit()\n",
    "\n",
    "        subData[target+'f(d)'] = model.params[0]       \n",
    "        binoutput = pd.concat([binoutput,subData])\n",
    "    binoutput = balancing(binoutput,target,iterationNum=1,iteration = 20)\n",
    "    binoutput = binoutput[['origin','destination',target+'flow',target+'pred',target+'f(d)','bin']]\n",
    "\n",
    "#         binoutput = binoutput[['origin','destination',target+'flow',target+'A',target+'B',target+'f(d)','bin',target+'flowPred']]\n",
    "       \n",
    "\n",
    "    return binoutput"
   ]
  },
  {
   "cell_type": "code",
   "execution_count": 71,
   "metadata": {},
   "outputs": [
    {
     "name": "stdout",
     "output_type": "stream",
     "text": [
      "mkdir: cannot create directory ‘constrainCTdistbinsAB’: File exists\r\n"
     ]
    }
   ],
   "source": [
    "!mkdir constrainCTdistbinsAB\n",
    "fdf = []\n",
    "outputDir = 'constrainCTdistbinsAB/'\n",
    "cities = os.listdir('cities/')\n",
    "separate_income = False\n",
    "target = 'S000'\n",
    "for city in cities:\n",
    "    if '.csv' in city:\n",
    "        df = pd.read_csv('cities/'+city)\n",
    "        dataUV = doubly_constrained_model_AB(getbins(df),target)\n",
    "        dataUV[['origin','destination',target+'flow',target+'pred']].to_csv(outputDir+city,index=False)\n",
    "        grouped_bfpl = dataUV.groupby('bin').agg({target+'f(d)': 'min'})\n",
    "        grouped_bfpl = grouped_bfpl.reset_index()\n",
    "        fdf += [grouped_bfpl]"
   ]
  },
  {
   "cell_type": "code",
   "execution_count": 73,
   "metadata": {},
   "outputs": [
    {
     "data": {
      "image/png": "[encoded data removed]",
      "text/plain": [
       "<Figure size 432x288 with 1 Axes>"
      ]
     },
     "metadata": {
      "needs_background": "light"
     },
     "output_type": "display_data"
    }
   ],
   "source": [
    "for grouped_bfpl in fdf:\n",
    "    plt.plot(grouped_bfpl[target+'f(d)'])\n",
    "#     break"
   ]
  },
  {
   "cell_type": "markdown",
   "metadata": {},
   "source": [
    "# baseline"
   ]
  },
  {
   "cell_type": "markdown",
   "metadata": {},
   "source": [
    "### unconstrain model, power law"
   ]
  },
  {
   "cell_type": "code",
   "execution_count": 7,
   "metadata": {},
   "outputs": [],
   "source": [
    "import scipy.optimize as optimize\n",
    "def power_law(x,k,a):\n",
    "    return k*((x[:,0]**a)*x[:,1]*x[:,2])\n",
    "def unconstrained_powerlaw(data,target):\n",
    "\n",
    "    X = data[['distance',target+'jobs',target+'residence']].values\n",
    "    y = data[target+'flow'].values\n",
    "    pars, cov = optimize.curve_fit(f=power_law, xdata=X, ydata=y, bounds=(-np.inf, np.inf))\n",
    "#         print(pars)\n",
    "    data[target+'k'] = pars[0]\n",
    "    data[target+'a'] = pars[1]\n",
    "    data[target+'pred'] = data[target+'k']*(data['distance']**data[target+'a'])*data[target+'jobs']*data[target+'residence']\n",
    "    #data = data[['origin', 'destination', target+'flow', target+'pred']]\n",
    "    return data"
   ]
  },
  {
   "cell_type": "code",
   "execution_count": 10,
   "metadata": {},
   "outputs": [
    {
     "data": {
      "text/plain": [
       "4.475362699925268"
      ]
     },
     "execution_count": 10,
     "metadata": {},
     "output_type": "execute_result"
    }
   ],
   "source": [
    "training_set.rename(columns={'jobs':'S000jobs', 'residence':'S000residence','flow':'S000flow'}, inplace=True)\n",
    "predicted_pl = unconstrained_powerlaw(training_set, 'S000')\n",
    "mean_squared_error(predicted_pl.S000flow, predicted_pl.S000pred)"
   ]
  },
  {
   "cell_type": "code",
   "execution_count": null,
   "metadata": {},
   "outputs": [],
   "source": [
    "!mkdir unconstrainCTPowerlaw/\n",
    "cities = os.listdir('cities/')\n",
    "citiesDir = 'cities/'\n",
    "\n",
    "outputDir = 'unconstrainCTPowerlaw/'\n",
    "\n",
    "for city in cities:\n",
    "    if '.csv' in city:\n",
    "        df = pd.read_csv(citiesDir+city)\n",
    "        df.rename(columns={'jobs':'S000jobs', 'residence':'S000residence','flow':'S000flow'}, inplace=True)\n",
    "        dataUV = unconstrained_powerlaw(df,target='S000')\n",
    "        dataUV.to_csv(outputDir+city,index=False)\n"
   ]
  },
  {
   "cell_type": "markdown",
   "metadata": {},
   "source": [
    "### unconstrain model, full power law"
   ]
  },
  {
   "cell_type": "code",
   "execution_count": 14,
   "metadata": {},
   "outputs": [],
   "source": [
    "\n",
    "def power_law(x,k,a,b,c):\n",
    "    return k*(x[:,0]**a)*(x[:,1]**b)*(x[:,2]**c)\n",
    "def unconstrained_fullpowerlaw(data, target):\n",
    "    X = data[['distance',target+'jobs',target+'residence']].values\n",
    "    y = data[target+'flow'].values\n",
    "    pars, cov = optimize.curve_fit(f=power_law, xdata=X, ydata=y, bounds=(-np.inf, np.inf))\n",
    "#         print(pars)\n",
    "    data[target+'k'] = pars[0]\n",
    "    data[target+'a'] = pars[1]\n",
    "    data[target+'b'] = pars[2]\n",
    "    data[target+'c'] = pars[3]\n",
    "    data[target+'pred'] = data[target+'k']*(data['distance']**data[target+'a'])*\\\n",
    "                    (data[target+'jobs']**data[target+'b'])*(data[target+'residence']**data[target+'c'])\n",
    "    #data = data[['origin', 'destination', target+'flow', target+'pred']]\n",
    "    return data\n",
    "\n",
    "        "
   ]
  },
  {
   "cell_type": "code",
   "execution_count": 15,
   "metadata": {},
   "outputs": [
    {
     "data": {
      "text/plain": [
       "4.449022161344106"
      ]
     },
     "execution_count": 15,
     "metadata": {},
     "output_type": "execute_result"
    }
   ],
   "source": [
    "training_set.rename(columns={'jobs':'S000jobs', 'residence':'S000residence','flow':'S000flow'}, inplace=True)\n",
    "predicted_pl = unconstrained_fullpowerlaw(training_set, 'S000')\n",
    "mean_squared_error(predicted_pl.S000flow, predicted_pl.S000pred)"
   ]
  },
  {
   "cell_type": "code",
   "execution_count": null,
   "metadata": {},
   "outputs": [],
   "source": [
    "!mkdir unconstrainCTFullPowerlaw/\n",
    "cities = os.listdir('cities/')\n",
    "citiesDir = 'cities/'\n",
    "\n",
    "outputDir = 'unconstrainCTFullPowerlaw/'\n",
    "\n",
    "for city in cities:\n",
    "    if '.csv' in city:\n",
    "        df = pd.read_csv(citiesDir+city)\n",
    "        df.rename(columns={'jobs':'S000jobs', 'residence':'S000residence','flow':'S000flow'}, inplace=True)\n",
    "        dataUV = unconstrained_fullpowerlaw(df,target='S000')\n",
    "        dataUV.to_csv(outputDir+city,index=False)\n"
   ]
  },
  {
   "cell_type": "markdown",
   "metadata": {},
   "source": [
    "# Bucketed unconstrained power law"
   ]
  },
  {
   "cell_type": "code",
   "execution_count": 4,
   "metadata": {},
   "outputs": [],
   "source": [
    "def bucketed_power_law(data, bins = 20):\n",
    "    target = 'S000'\n",
    "    data['bin'] = pd.qcut(data['distance'], q=bins)\n",
    "    predictions_all = pd.DataFrame()\n",
    "    # estimate F for each bin\n",
    "    for b in data['bin'].unique():\n",
    "        subData = data[data['bin'] == b]\n",
    "        prediction = unconstrained_powerlaw(subData, target)\n",
    "        predictions_all = pd.concat([predictions_all, prediction])\n",
    "    \n",
    "    return predictions_all"
   ]
  },
  {
   "cell_type": "code",
   "execution_count": 125,
   "metadata": {},
   "outputs": [
    {
     "data": {
      "text/plain": [
       "4.451453953880384"
      ]
     },
     "execution_count": 125,
     "metadata": {},
     "output_type": "execute_result"
    }
   ],
   "source": [
    "training_set.rename(columns={'jobs':'S000jobs', 'residence':'S000residence','flow':'S000flow'}, inplace=True)\n",
    "predicted_bfpl = bucketed_power_law(training_set, bins=20)\n",
    "grouped_bfpl = predicted_bfpl.groupby('bin').agg({'S000k': 'min', 'S000a': 'min'})\n",
    "grouped_bfpl = grouped_bfpl.reset_index()\n",
    "mean_squared_error(predicted_bfpl.S000flow, predicted_bfpl.S000pred)"
   ]
  },
  {
   "cell_type": "code",
   "execution_count": 129,
   "metadata": {},
   "outputs": [
    {
     "data": {
      "text/plain": [
       "[<matplotlib.lines.Line2D at 0x7ff655284a90>]"
      ]
     },
     "execution_count": 129,
     "metadata": {},
     "output_type": "execute_result"
    },
    {
     "data": {
      "image/png": "[encoded data removed]",
      "text/plain": [
       "<Figure size 432x288 with 1 Axes>"
      ]
     },
     "metadata": {
      "needs_background": "light"
     },
     "output_type": "display_data"
    }
   ],
   "source": [
    "def f(d, boundaries):\n",
    "    for index, row in boundaries.iterrows():\n",
    "        if d in row['bin']:\n",
    "            return row['S000k']*(d**row['S000a'])\n",
    "\n",
    "x=list(range(1, 50))\n",
    "y = []\n",
    "for i in x:\n",
    "  y.append(f(i, grouped_bfpl)) \n",
    "\n",
    "plt.plot(x, y)"
   ]
  },
  {
   "cell_type": "markdown",
   "metadata": {},
   "source": [
    "# Bucketed unconstrained power law without distance"
   ]
  },
  {
   "cell_type": "code",
   "execution_count": 41,
   "metadata": {},
   "outputs": [],
   "source": [
    "def power_law(x,k,a,b,c):\n",
    "    return k*(x[:,0]**a)*(x[:,1]**b)*(x[:,2]**c)\n",
    "def bucked_power_law(x,f):\n",
    "    return f*(x[:,0]**x[:,1])*(x[:,2]**x[:,3])*x[:,4]\n",
    "def unconstrained_bucked_fullpowerlaw(data, target,bins):\n",
    "    X = data[['distance',target+'jobs',target+'residence']].values\n",
    "    y = data[target+'flow'].values\n",
    "    pars, cov = optimize.curve_fit(f=power_law, xdata=X, ydata=y, bounds=(-np.inf, np.inf))\n",
    "#         print(pars)\n",
    "    data[target+'k'] = pars[0]\n",
    "    data[target+'a'] = pars[1]\n",
    "    data[target+'b'] = pars[2]\n",
    "    data[target+'c'] = pars[3]\n",
    "    data[target+'pred'] = data[target+'k']*(data['distance']**data[target+'a'])*\\\n",
    "                    (data[target+'jobs']**data[target+'b'])*(data[target+'residence']**data[target+'c'])\n",
    "    data['bin'] = pd.qcut(data['distance'], q=bins)\n",
    "    predictions_all = pd.DataFrame()\n",
    "    # estimate F for each bin\n",
    "    for b in data['bin'].unique():\n",
    "        subData = data[data['bin'] == b]\n",
    "        X = subData[[target+'jobs',target+'b',target+'residence',target+'c',target+'k']].values\n",
    "        y = subData[target+'flow'].values\n",
    "        pars, cov = optimize.curve_fit(f=bucked_power_law, xdata=X, ydata=y, bounds=(-np.inf, np.inf))\n",
    "        subData[target+'f'] = pars[0]\n",
    "        subData[target+'pred'] = subData[target+'f']*subData[target+'k']*\\\n",
    "                (subData[target+'jobs']**subData[target+'b'])*(subData[target+'residence']**subData[target+'c'])\n",
    "        predictions_all = pd.concat([predictions_all, subData])\n",
    "        \n",
    "    return predictions_all\n",
    "\n",
    "        "
   ]
  },
  {
   "cell_type": "code",
   "execution_count": 43,
   "metadata": {},
   "outputs": [
    {
     "name": "stdout",
     "output_type": "stream",
     "text": [
      "mkdir: cannot create directory ‘unconstrainCTBuckedFullPowerlaw/’: File exists\n",
      "Chicago.csv\n",
      "Phoenix.csv\n",
      "New York City.csv\n",
      "San Diego.csv\n",
      "San Jose.csv\n",
      "Austin.csv\n",
      "San Antonio.csv\n",
      "Philadelphia.csv\n",
      "Dallas.csv\n",
      "Houston.csv\n",
      "Boston.csv\n",
      "Los Angeles.csv\n"
     ]
    }
   ],
   "source": [
    "\n",
    "!mkdir unconstrainCTBuckedFullPowerlaw/\n",
    "cities = os.listdir('cities/')\n",
    "citiesDir = 'cities/'\n",
    "\n",
    "outputDir = 'unconstrainCTBuckedFullPowerlaw/'\n",
    "fdf = []\n",
    "for city in cities:\n",
    "    if '.csv' in city:\n",
    "        print(city)\n",
    "        df = pd.read_csv(citiesDir+city)\n",
    "        df.rename(columns={'jobs':'S000jobs', 'residence':'S000residence','flow':'S000flow'}, inplace=True)\n",
    "        predicted_bfpl = unconstrained_bucked_fullpowerlaw(df, 'S000',bins=20)\n",
    "        predicted_bfpl[['origin', 'destination','S000flow','S000pred']].to_csv(outputDir+city,index=False)\n",
    "        \n",
    "        grouped_bfpl = predicted_bfpl.groupby('bin').agg({'S000f': 'min'})\n",
    "        grouped_bfpl = grouped_bfpl.reset_index()\n",
    "        fdf += [grouped_bfpl]\n"
   ]
  },
  {
   "cell_type": "code",
   "execution_count": 35,
   "metadata": {},
   "outputs": [
    {
     "data": {
      "image/png": "[encoded data removed]",
      "text/plain": [
       "<Figure size 432x288 with 1 Axes>"
      ]
     },
     "metadata": {
      "needs_background": "light"
     },
     "output_type": "display_data"
    }
   ],
   "source": [
    "for grouped_bfpl in fdf:\n",
    "    plt.plot(grouped_bfpl['S000f'])"
   ]
  },
  {
   "cell_type": "code",
   "execution_count": 52,
   "metadata": {},
   "outputs": [],
   "source": [
    "def power_law(x,k,a):\n",
    "    return k*((x[:,0]**a)*x[:,1]*x[:,2])\n",
    "def bucked_power_law(x,f):\n",
    "    return f*(x[:,0]*x[:,1]*x[:,2])\n",
    "def unconstrained_bucked_powerlaw(data, target,bins):\n",
    "    X = data[['distance',target+'jobs',target+'residence']].values\n",
    "    y = data[target+'flow'].values\n",
    "    pars, cov = optimize.curve_fit(f=power_law, xdata=X, ydata=y, bounds=(-np.inf, np.inf))\n",
    "#         print(pars)\n",
    "    data[target+'k'] = pars[0]\n",
    "    data[target+'a'] = pars[1]\n",
    "    data['bin'] = pd.qcut(data['distance'], q=bins)\n",
    "    predictions_all = pd.DataFrame()\n",
    "    # estimate F for each bin\n",
    "    for b in data['bin'].unique():\n",
    "        subData = data[data['bin'] == b]\n",
    "        X = subData[[target+'jobs',target+'residence',target+'k']].values\n",
    "        y = subData[target+'flow'].values\n",
    "        pars, cov = optimize.curve_fit(f=bucked_power_law, xdata=X, ydata=y, bounds=(-np.inf, np.inf))\n",
    "        subData[target+'f'] = pars[0]\n",
    "        subData[target+'pred'] = subData[target+'f']*subData[target+'k']*\\\n",
    "                subData[target+'jobs']*subData[target+'residence']\n",
    "        predictions_all = pd.concat([predictions_all, subData])\n",
    "        \n",
    "    return predictions_all\n",
    "\n",
    "        "
   ]
  },
  {
   "cell_type": "code",
   "execution_count": 51,
   "metadata": {},
   "outputs": [
    {
     "data": {
      "text/html": [
       "<div>\n",
       "<style scoped>\n",
       "    .dataframe tbody tr th:only-of-type {\n",
       "        vertical-align: middle;\n",
       "    }\n",
       "\n",
       "    .dataframe tbody tr th {\n",
       "        vertical-align: top;\n",
       "    }\n",
       "\n",
       "    .dataframe thead th {\n",
       "        text-align: right;\n",
       "    }\n",
       "</style>\n",
       "<table border=\"1\" class=\"dataframe\">\n",
       "  <thead>\n",
       "    <tr style=\"text-align: right;\">\n",
       "      <th></th>\n",
       "      <th>Unnamed: 0</th>\n",
       "      <th>origin</th>\n",
       "      <th>destination</th>\n",
       "      <th>distance</th>\n",
       "      <th>S000residence</th>\n",
       "      <th>S000jobs</th>\n",
       "      <th>S000flow</th>\n",
       "      <th>bin</th>\n",
       "      <th>S000k</th>\n",
       "      <th>S000a</th>\n",
       "      <th>S000pred</th>\n",
       "    </tr>\n",
       "  </thead>\n",
       "  <tbody>\n",
       "    <tr>\n",
       "      <th>0</th>\n",
       "      <td>0</td>\n",
       "      <td>17031630200</td>\n",
       "      <td>17031630200</td>\n",
       "      <td>0.200000</td>\n",
       "      <td>567</td>\n",
       "      <td>909.0</td>\n",
       "      <td>18.0</td>\n",
       "      <td>(0.119, 5.269]</td>\n",
       "      <td>0.000001</td>\n",
       "      <td>-0.245490</td>\n",
       "      <td>1.011884</td>\n",
       "    </tr>\n",
       "    <tr>\n",
       "      <th>6</th>\n",
       "      <td>6</td>\n",
       "      <td>17031630200</td>\n",
       "      <td>17031610300</td>\n",
       "      <td>2.167024</td>\n",
       "      <td>567</td>\n",
       "      <td>1420.0</td>\n",
       "      <td>4.0</td>\n",
       "      <td>(0.119, 5.269]</td>\n",
       "      <td>0.000001</td>\n",
       "      <td>-0.245490</td>\n",
       "      <td>0.880672</td>\n",
       "    </tr>\n",
       "    <tr>\n",
       "      <th>7</th>\n",
       "      <td>7</td>\n",
       "      <td>17031630200</td>\n",
       "      <td>17031681000</td>\n",
       "      <td>4.735792</td>\n",
       "      <td>567</td>\n",
       "      <td>151.0</td>\n",
       "      <td>0.0</td>\n",
       "      <td>(0.119, 5.269]</td>\n",
       "      <td>0.000001</td>\n",
       "      <td>-0.245490</td>\n",
       "      <td>0.077295</td>\n",
       "    </tr>\n",
       "    <tr>\n",
       "      <th>9</th>\n",
       "      <td>9</td>\n",
       "      <td>17031630200</td>\n",
       "      <td>17031680500</td>\n",
       "      <td>3.712173</td>\n",
       "      <td>567</td>\n",
       "      <td>2.0</td>\n",
       "      <td>0.0</td>\n",
       "      <td>(0.119, 5.269]</td>\n",
       "      <td>0.000001</td>\n",
       "      <td>-0.245490</td>\n",
       "      <td>0.001087</td>\n",
       "    </tr>\n",
       "    <tr>\n",
       "      <th>54</th>\n",
       "      <td>54</td>\n",
       "      <td>17031630200</td>\n",
       "      <td>17031610800</td>\n",
       "      <td>4.742563</td>\n",
       "      <td>567</td>\n",
       "      <td>46.0</td>\n",
       "      <td>0.0</td>\n",
       "      <td>(0.119, 5.269]</td>\n",
       "      <td>0.000001</td>\n",
       "      <td>-0.245490</td>\n",
       "      <td>0.023539</td>\n",
       "    </tr>\n",
       "    <tr>\n",
       "      <th>...</th>\n",
       "      <td>...</td>\n",
       "      <td>...</td>\n",
       "      <td>...</td>\n",
       "      <td>...</td>\n",
       "      <td>...</td>\n",
       "      <td>...</td>\n",
       "      <td>...</td>\n",
       "      <td>...</td>\n",
       "      <td>...</td>\n",
       "      <td>...</td>\n",
       "      <td>...</td>\n",
       "    </tr>\n",
       "    <tr>\n",
       "      <th>1737049</th>\n",
       "      <td>1737049</td>\n",
       "      <td>17031825600</td>\n",
       "      <td>17031840100</td>\n",
       "      <td>28.094119</td>\n",
       "      <td>1618</td>\n",
       "      <td>145.0</td>\n",
       "      <td>0.0</td>\n",
       "      <td>(27.144, 30.73]</td>\n",
       "      <td>0.000003</td>\n",
       "      <td>-0.631164</td>\n",
       "      <td>0.079140</td>\n",
       "    </tr>\n",
       "    <tr>\n",
       "      <th>1737050</th>\n",
       "      <td>1737050</td>\n",
       "      <td>17031825600</td>\n",
       "      <td>17031839200</td>\n",
       "      <td>28.395493</td>\n",
       "      <td>1618</td>\n",
       "      <td>1734.0</td>\n",
       "      <td>0.0</td>\n",
       "      <td>(27.144, 30.73]</td>\n",
       "      <td>0.000003</td>\n",
       "      <td>-0.631164</td>\n",
       "      <td>0.940059</td>\n",
       "    </tr>\n",
       "    <tr>\n",
       "      <th>1737085</th>\n",
       "      <td>1737085</td>\n",
       "      <td>17031825600</td>\n",
       "      <td>17031813500</td>\n",
       "      <td>30.183708</td>\n",
       "      <td>1618</td>\n",
       "      <td>240.0</td>\n",
       "      <td>1.0</td>\n",
       "      <td>(27.144, 30.73]</td>\n",
       "      <td>0.000003</td>\n",
       "      <td>-0.631164</td>\n",
       "      <td>0.125192</td>\n",
       "    </tr>\n",
       "    <tr>\n",
       "      <th>1737086</th>\n",
       "      <td>1737086</td>\n",
       "      <td>17031825600</td>\n",
       "      <td>17031813600</td>\n",
       "      <td>29.554523</td>\n",
       "      <td>1618</td>\n",
       "      <td>1737.0</td>\n",
       "      <td>1.0</td>\n",
       "      <td>(27.144, 30.73]</td>\n",
       "      <td>0.000003</td>\n",
       "      <td>-0.631164</td>\n",
       "      <td>0.918205</td>\n",
       "    </tr>\n",
       "    <tr>\n",
       "      <th>1737096</th>\n",
       "      <td>1737096</td>\n",
       "      <td>17031825600</td>\n",
       "      <td>17031340400</td>\n",
       "      <td>28.209378</td>\n",
       "      <td>1618</td>\n",
       "      <td>332.0</td>\n",
       "      <td>1.0</td>\n",
       "      <td>(27.144, 30.73]</td>\n",
       "      <td>0.000003</td>\n",
       "      <td>-0.631164</td>\n",
       "      <td>0.180737</td>\n",
       "    </tr>\n",
       "  </tbody>\n",
       "</table>\n",
       "<p>1737124 rows × 11 columns</p>\n",
       "</div>"
      ],
      "text/plain": [
       "         Unnamed: 0       origin  destination   distance  S000residence  \\\n",
       "0                 0  17031630200  17031630200   0.200000            567   \n",
       "6                 6  17031630200  17031610300   2.167024            567   \n",
       "7                 7  17031630200  17031681000   4.735792            567   \n",
       "9                 9  17031630200  17031680500   3.712173            567   \n",
       "54               54  17031630200  17031610800   4.742563            567   \n",
       "...             ...          ...          ...        ...            ...   \n",
       "1737049     1737049  17031825600  17031840100  28.094119           1618   \n",
       "1737050     1737050  17031825600  17031839200  28.395493           1618   \n",
       "1737085     1737085  17031825600  17031813500  30.183708           1618   \n",
       "1737086     1737086  17031825600  17031813600  29.554523           1618   \n",
       "1737096     1737096  17031825600  17031340400  28.209378           1618   \n",
       "\n",
       "         S000jobs  S000flow              bin     S000k     S000a  S000pred  \n",
       "0           909.0      18.0   (0.119, 5.269]  0.000001 -0.245490  1.011884  \n",
       "6          1420.0       4.0   (0.119, 5.269]  0.000001 -0.245490  0.880672  \n",
       "7           151.0       0.0   (0.119, 5.269]  0.000001 -0.245490  0.077295  \n",
       "9             2.0       0.0   (0.119, 5.269]  0.000001 -0.245490  0.001087  \n",
       "54           46.0       0.0   (0.119, 5.269]  0.000001 -0.245490  0.023539  \n",
       "...           ...       ...              ...       ...       ...       ...  \n",
       "1737049     145.0       0.0  (27.144, 30.73]  0.000003 -0.631164  0.079140  \n",
       "1737050    1734.0       0.0  (27.144, 30.73]  0.000003 -0.631164  0.940059  \n",
       "1737085     240.0       1.0  (27.144, 30.73]  0.000003 -0.631164  0.125192  \n",
       "1737086    1737.0       1.0  (27.144, 30.73]  0.000003 -0.631164  0.918205  \n",
       "1737096     332.0       1.0  (27.144, 30.73]  0.000003 -0.631164  0.180737  \n",
       "\n",
       "[1737124 rows x 11 columns]"
      ]
     },
     "execution_count": 51,
     "metadata": {},
     "output_type": "execute_result"
    }
   ],
   "source": [
    "predicted_bfpl"
   ]
  },
  {
   "cell_type": "code",
   "execution_count": 54,
   "metadata": {},
   "outputs": [
    {
     "name": "stdout",
     "output_type": "stream",
     "text": [
      "mkdir: cannot create directory ‘unconstrainCTBuckedPowerlaw/’: File exists\n",
      "Chicago.csv\n",
      "Phoenix.csv\n",
      "New York City.csv\n",
      "San Diego.csv\n",
      "San Jose.csv\n",
      "Austin.csv\n",
      "San Antonio.csv\n",
      "Philadelphia.csv\n",
      "Dallas.csv\n",
      "Houston.csv\n",
      "Boston.csv\n",
      "Los Angeles.csv\n"
     ]
    }
   ],
   "source": [
    "\n",
    "!mkdir unconstrainCTBuckedPowerlaw/\n",
    "cities = os.listdir('cities/')\n",
    "citiesDir = 'cities/'\n",
    "fdf = []\n",
    "outputDir = 'unconstrainCTBuckedPowerlaw/'\n",
    "\n",
    "for city in cities:\n",
    "    if '.csv' in city:\n",
    "        print(city)\n",
    "        df = pd.read_csv(citiesDir+city)\n",
    "        df.rename(columns={'jobs':'S000jobs', 'residence':'S000residence','flow':'S000flow'}, inplace=True)\n",
    "        predicted_bfpl = unconstrained_bucked_powerlaw(df,'S000', bins=20)\n",
    "        predicted_bfpl[['origin', 'destination','S000flow','S000pred']].to_csv(outputDir+city,index=False)\n",
    "        grouped_bfpl = predicted_bfpl.groupby('bin').agg({'S000f': 'min'})\n",
    "        grouped_bfpl = grouped_bfpl.reset_index()\n",
    "        fdf += [grouped_bfpl]\n"
   ]
  },
  {
   "cell_type": "code",
   "execution_count": 56,
   "metadata": {},
   "outputs": [
    {
     "data": {
      "image/png": "[encoded data removed]",
      "text/plain": [
       "<Figure size 432x288 with 1 Axes>"
      ]
     },
     "metadata": {
      "needs_background": "light"
     },
     "output_type": "display_data"
    }
   ],
   "source": [
    "for grouped_bfpl in fdf:\n",
    "    plt.plot(grouped_bfpl['S000f'])"
   ]
  },
  {
   "cell_type": "code",
   "execution_count": null,
   "metadata": {},
   "outputs": [],
   "source": []
  }
 ],
 "metadata": {
  "kernelspec": {
   "display_name": "py38",
   "language": "python",
   "name": "py38"
  },
  "language_info": {
   "codemirror_mode": {
    "name": "ipython",
    "version": 3
   },
   "file_extension": ".py",
   "mimetype": "text/x-python",
   "name": "python",
   "nbconvert_exporter": "python",
   "pygments_lexer": "ipython3",
   "version": "3.8.10"
  }
 },
 "nbformat": 4,
 "nbformat_minor": 2
}
