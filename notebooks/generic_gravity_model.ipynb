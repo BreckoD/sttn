{
 "cells": [
  {
   "cell_type": "code",
   "execution_count": 1,
   "metadata": {},
   "outputs": [],
   "source": [
    "import warnings\n",
    "warnings.filterwarnings('ignore')\n",
    "\n",
    "import pandas as pd\n",
    "import statsmodels.api as sm\n",
    "import numpy as np\n",
    "import geopandas as gpd\n",
    "from matplotlib import pyplot as plt\n",
    "from haversine import haversine_vector, Unit\n",
    "pd.options.mode.chained_assignment = None  # default='warn'\n",
    "from sttn.data.lehd import OriginDestinationEmploymentDataProvider\n",
    "from sklearn.metrics import mean_squared_error\n",
    "from sklearn.preprocessing import MinMaxScaler\n",
    "from sklearn.model_selection import train_test_split\n",
    "provider = OriginDestinationEmploymentDataProvider()\n",
    "from sklearn.model_selection import StratifiedKFold\n",
    "import scipy.optimize as optimize\n",
    "\n",
    "import math\n",
    "from sttn.network import SpatioTemporalNetwork\n",
    "from sttn.utils import add_distance\n",
    "import os\n",
    "%matplotlib inline"
   ]
  },
  {
   "cell_type": "code",
   "execution_count": 2,
   "metadata": {},
   "outputs": [],
   "source": [
    "cities = [\n",
    "    ('New York City', 'ny', ['New York County, NY', 'Queens County, NY','Kings County, NY','Bronx County, NY','Richmond County, NY']),\n",
    "    ('Los Angeles', 'ca', ['Los Angeles County, CA']),\n",
    "    ('Chicago', 'il', ['Cook County, IL']),\n",
    "    ('Houston', 'tx', ['Harris County, TX']),\n",
    "    ('Boston', 'ma', ['Suffolk County, MA', 'Middlesex County, MA']),\n",
    "    ('Phoenix', 'az', ['Maricopa County, AZ']),\n",
    "    ('Philadelphia', 'pa', ['Philadelphia County, PA']),\n",
    "    ('San Antonio', 'tx', ['Bexar County, TX']),\n",
    "    ('San Diego', 'ca', ['San Diego County, CA']),\n",
    "    ('Dallas', 'tx', ['Dallas County, TX']),\n",
    "    ('San Jose', 'ca', ['Santa Clara County, CA']),\n",
    "    ('Austin', 'tx', ['Travis County, TX']),\n",
    "]"
   ]
  },
  {
   "cell_type": "code",
   "execution_count": 3,
   "metadata": {},
   "outputs": [],
   "source": [
    "def build_training_set(network, target_column):\n",
    "    # explode the dataset to include all node pairs\n",
    "    node_ids = network.nodes.index.values\n",
    "    origins = pd.DataFrame(node_ids, columns = ['origin'])\n",
    "    destinations = pd.DataFrame(node_ids, columns = ['destination'])\n",
    "    cartesian_product = origins.merge(destinations, how='cross')\n",
    "    \n",
    "    # compute distnace between all pairs\n",
    "    centroid = network.nodes.centroid\n",
    "    centroid_long = centroid.x\n",
    "    centroid_long.name = 'long'\n",
    "    centroid_lat = centroid.y\n",
    "    centroid_lat.name = 'lat'\n",
    "    centroids = pd.concat([centroid_long, centroid_lat], axis=1)\n",
    "    centroid_from = cartesian_product.join(centroids, on=network._origin).rename(columns={'long': 'long_from', 'lat': 'lat_from'})\n",
    "    centroid_all = centroid_from.join(centroids, on=network._destination).rename(columns={'long': 'long_to', 'lat': 'lat_to'})\n",
    "    from_points = list(zip(centroid_all.lat_from, centroid_all.long_from))\n",
    "    to_points = list(zip(centroid_all.lat_to, centroid_all.long_to))\n",
    "    centroid_all['distance'] = haversine_vector(from_points, to_points, Unit.KILOMETERS)\n",
    "    centroid_all.drop(['long_from', 'lat_from', 'long_to', 'lat_to'], axis=1, inplace=True)\n",
    "    centroid_all.loc[centroid_all.distance == 0, 'distance'] = 0.2\n",
    "    \n",
    "    # compute jobs and residence\n",
    "    comp_aggs={target_column: 'sum'}\n",
    "    jobs = city_network.agg_adjacent_edges(aggs=comp_aggs, outgoing=False).rename(columns={target_column: 'jobs'})\n",
    "    residence = city_network.agg_adjacent_edges(aggs=comp_aggs, outgoing=True).rename(columns={target_column: 'residence'})\n",
    "    features = centroid_all.join(residence, on='origin').join(jobs, on='destination')\n",
    "    \n",
    "    # merge flow data\n",
    "    flow = network.edges.rename(columns={target_column: 'flow'})[['origin', 'destination', 'flow']]\n",
    "    combined = features.merge(flow, how='left', on=['origin', 'destination']).fillna(0)\n",
    "    \n",
    "    return combined"
   ]
  },
  {
   "cell_type": "code",
   "execution_count": 5,
   "metadata": {},
   "outputs": [
    {
     "name": "stdout",
     "output_type": "stream",
     "text": [
      "New York City\n"
     ]
    }
   ],
   "source": [
    "target_columns = ['S000']\n",
    "for city, state, conties in cities:\n",
    "    print(city)\n",
    "    state_network = provider.get_data(state=state, year=2018)\n",
    "    city_network = state_network.filter_nodes(state_network.nodes.county.isin(conties))\n",
    "    for target_column in target_columns:\n",
    "        training_set = build_training_set(city_network, target_column)\n",
    "    training_set.to_csv('cities/%s.csv'%city,index=False)"
   ]
  },
  {
   "cell_type": "markdown",
   "metadata": {},
   "source": [
    "### doubly constrained, fit u,v together in iterations"
   ]
  },
  {
   "cell_type": "code",
   "execution_count": 4,
   "metadata": {},
   "outputs": [],
   "source": [
    "def getbins(df, nbins=20):     \n",
    "    df['bin'] = pd.qcut(df['distance'], q=20)\n",
    "    df.sort_values(by='bin', inplace=True)\n",
    "    df.rename(columns={'jobs':'S000jobs', 'residence':'S000residence','flow':'S000flow'}, inplace=True)\n",
    "    \n",
    "    return df\n",
    "def balancing(test,target,iterationNum,iteration = 20):\n",
    "#     print(target,'iteration', iterationNum)\n",
    "    if target+'B' not in test.columns:\n",
    "        test[target+'B'] = 1\n",
    "    test[target+'BDF'] = test[target+'jobs']*test[target+'f(d)']*test[target+'B']\n",
    "    if target+'A' in test.columns:\n",
    "        del test[target+'A']\n",
    "    del test[target+'B']\n",
    "    test = test.groupby(['origin']).agg({target+'BDF':sum}).\\\n",
    "    rename(columns={target+'BDF':target+'A'}).reset_index().\\\n",
    "    merge(test,on=['origin'],how='right')\n",
    "    test[target+'A'] = 1/test[target+'A']\n",
    "    test[target+'AOF'] = test[target+'residence']*test[target+'f(d)']*test[target+'A']\n",
    "    test = test.groupby(['destination']).agg({target+'AOF':sum}).\\\n",
    "    rename(columns={target+'AOF':target+'B'}).reset_index().\\\n",
    "    merge(test,on=['destination'],how='right')\n",
    "    test[target+'B'] = 1/test[target+'B']\n",
    "    test[target+'pred'] = test[target+'residence']*test[target+'jobs']*test[target+'f(d)']*\\\n",
    "                        test[target+'A']*test[target+'B']\n",
    "    \n",
    "    resultO = test[['origin',target+'residence']].drop_duplicates().\\\n",
    "    merge(test.groupby(['origin'])[[target+'pred']].sum().reset_index(),on=['origin'],how='left')\n",
    "    resultO['percentage'] = np.abs(resultO[target+'residence'] - resultO[target+'pred'])/resultO[target+'residence']\n",
    "    resultO = resultO['percentage'].mean()\n",
    "\n",
    "    resultD = test[['destination',target+'jobs']].drop_duplicates().\\\n",
    "    merge(test.groupby(['destination'])[[target+'pred']].sum().reset_index(),on=['destination'],how='left')\n",
    "    resultD['percentage'] = np.abs(resultD[target+'jobs'] - resultD[target+'pred'])/resultD[target+'jobs']\n",
    "    resultD = resultD['percentage'].mean()\n",
    "#     print(resultO,resultD)\n",
    "    if resultO < 0.02 and resultD < 0.02:\n",
    "        return test\n",
    "    else:\n",
    "        if iterationNum < iteration:\n",
    "            return balancing(test,target,iterationNum = iterationNum+1,iteration = 20)\n",
    "        else:\n",
    "            return test\n",
    "        \n",
    "def doubly_constrained_model_AB(data,target):\n",
    "    \n",
    "\n",
    "    binoutput = pd.DataFrame()\n",
    "    # estimate F for each bin\n",
    "    for b in data['bin'].unique():\n",
    "        subData = data[data['bin'] == b]\n",
    "        X = subData[target+'residence'] * subData[target+'jobs']\n",
    "\n",
    "        y = subData[target+'flow']\n",
    "\n",
    "        model = sm.OLS(y,X).fit()\n",
    "\n",
    "        subData[target+'f(d)'] = model.params[0]       \n",
    "        binoutput = pd.concat([binoutput,subData])\n",
    "    binoutput = balancing(binoutput,target,iterationNum=1,iteration = 20)\n",
    "    binoutput = binoutput[['origin','destination',target+'flow',target+'pred',target+'f(d)','bin']]\n",
    "\n",
    "#         binoutput = binoutput[['origin','destination',target+'flow',target+'A',target+'B',target+'f(d)','bin',target+'flowPred']]\n",
    "       \n",
    "\n",
    "    return binoutput"
   ]
  },
  {
   "cell_type": "code",
   "execution_count": 71,
   "metadata": {},
   "outputs": [
    {
     "name": "stdout",
     "output_type": "stream",
     "text": [
      "mkdir: cannot create directory ‘constrainCTdistbinsAB’: File exists\r\n"
     ]
    }
   ],
   "source": [
    "!mkdir constrainCTdistbinsAB\n",
    "fdf = []\n",
    "outputDir = 'constrainCTdistbinsAB/'\n",
    "cities = os.listdir('cities/')\n",
    "separate_income = False\n",
    "target = 'S000'\n",
    "for city in cities:\n",
    "    if '.csv' in city:\n",
    "        df = pd.read_csv('cities/'+city)\n",
    "        dataUV = doubly_constrained_model_AB(getbins(df),target)\n",
    "        dataUV[['origin','destination',target+'flow',target+'pred']].to_csv(outputDir+city,index=False)\n",
    "        grouped_bfpl = dataUV.groupby('bin').agg({target+'f(d)': 'min'})\n",
    "        grouped_bfpl = grouped_bfpl.reset_index()\n",
    "        fdf += [grouped_bfpl]"
   ]
  },
  {
   "cell_type": "code",
   "execution_count": 73,
   "metadata": {},
   "outputs": [
    {
     "data": {
      "image/png": "[encoded data removed]",
      "text/plain": [
       "<Figure size 432x288 with 1 Axes>"
      ]
     },
     "metadata": {
      "needs_background": "light"
     },
     "output_type": "display_data"
    }
   ],
   "source": [
    "for grouped_bfpl in fdf:\n",
    "    plt.plot(grouped_bfpl[target+'f(d)'])\n",
    "#     break"
   ]
  },
  {
   "cell_type": "markdown",
   "metadata": {},
   "source": [
    "# baseline"
   ]
  },
  {
   "cell_type": "markdown",
   "metadata": {},
   "source": [
    "### unconstrain model, power law"
   ]
  },
  {
   "cell_type": "code",
   "execution_count": 29,
   "metadata": {},
   "outputs": [],
   "source": [
    "\n",
    "def power_law(x,k,a):\n",
    "    return k*((x[:,0]**a)*x[:,1]*x[:,2])\n",
    "def baseline_fit(df,target):\n",
    "    X = ['distance',target+'jobs',target+'residence']\n",
    "    y = target+'flow'\n",
    "    pars, cov = optimize.curve_fit(f=power_law, xdata=df[X].values, ydata=df[y].values, bounds=(-np.inf, np.inf))\n",
    "    return pars\n",
    "def baseline_predict(test,target,pars):\n",
    "    test[target+'k'] = pars[0]\n",
    "    test[target+'a'] = pars[1]\n",
    "    test[target+'pred'] = test[target+'k']*(test['distance']**test[target+'a'])*test[target+'jobs']*test[target+'residence']\n",
    "    return test\n",
    "def crossvalidation(df,target):\n",
    "    mseList = []\n",
    "    for i in range(5):\n",
    "        train, test = train_test_split(df)\n",
    "        pars = baseline(train)\n",
    "        test = baseline_fit(test)\n",
    "        mseList += [mean_squared_error(test[target+'flow'],test[target+'pred'])]\n",
    "    return np.mean(mseList)"
   ]
  },
  {
   "cell_type": "code",
   "execution_count": 8,
   "metadata": {},
   "outputs": [
    {
     "name": "stdout",
     "output_type": "stream",
     "text": [
      "Chicago.csv\n",
      "Phoenix.csv\n",
      "New York City.csv\n",
      "San Diego.csv\n",
      "San Jose.csv\n",
      "Austin.csv\n",
      "San Antonio.csv\n",
      "Philadelphia.csv\n",
      "Dallas.csv\n"
     ]
    },
    {
     "ename": "KeyboardInterrupt",
     "evalue": "",
     "output_type": "error",
     "traceback": [
      "\u001b[0;31m---------------------------------------------------------------------------\u001b[0m",
      "\u001b[0;31mKeyboardInterrupt\u001b[0m                         Traceback (most recent call last)",
      "\u001b[0;32m<ipython-input-8-44073667f3bc>\u001b[0m in \u001b[0;36m<module>\u001b[0;34m\u001b[0m\n\u001b[1;32m      9\u001b[0m         \u001b[0mdf\u001b[0m \u001b[0;34m=\u001b[0m \u001b[0mpd\u001b[0m\u001b[0;34m.\u001b[0m\u001b[0mread_csv\u001b[0m\u001b[0;34m(\u001b[0m\u001b[0mcitiesDir\u001b[0m\u001b[0;34m+\u001b[0m\u001b[0mcity\u001b[0m\u001b[0;34m)\u001b[0m\u001b[0;34m\u001b[0m\u001b[0;34m\u001b[0m\u001b[0m\n\u001b[1;32m     10\u001b[0m         \u001b[0mdf\u001b[0m\u001b[0;34m.\u001b[0m\u001b[0mrename\u001b[0m\u001b[0;34m(\u001b[0m\u001b[0mcolumns\u001b[0m\u001b[0;34m=\u001b[0m\u001b[0;34m{\u001b[0m\u001b[0;34m'jobs'\u001b[0m\u001b[0;34m:\u001b[0m\u001b[0;34m'S000jobs'\u001b[0m\u001b[0;34m,\u001b[0m \u001b[0;34m'residence'\u001b[0m\u001b[0;34m:\u001b[0m\u001b[0;34m'S000residence'\u001b[0m\u001b[0;34m,\u001b[0m\u001b[0;34m'flow'\u001b[0m\u001b[0;34m:\u001b[0m\u001b[0;34m'S000flow'\u001b[0m\u001b[0;34m}\u001b[0m\u001b[0;34m,\u001b[0m \u001b[0minplace\u001b[0m\u001b[0;34m=\u001b[0m\u001b[0;32mTrue\u001b[0m\u001b[0;34m)\u001b[0m\u001b[0;34m\u001b[0m\u001b[0;34m\u001b[0m\u001b[0m\n\u001b[0;32m---> 11\u001b[0;31m         \u001b[0mmseDir\u001b[0m\u001b[0;34m[\u001b[0m\u001b[0mcity\u001b[0m\u001b[0;34m]\u001b[0m \u001b[0;34m=\u001b[0m \u001b[0mcrossvalidation\u001b[0m\u001b[0;34m(\u001b[0m\u001b[0mdf\u001b[0m\u001b[0;34m,\u001b[0m\u001b[0mtarget\u001b[0m\u001b[0;34m=\u001b[0m\u001b[0;34m'S000'\u001b[0m\u001b[0;34m)\u001b[0m\u001b[0;34m\u001b[0m\u001b[0;34m\u001b[0m\u001b[0m\n\u001b[0m\u001b[1;32m     12\u001b[0m         \u001b[0mprint\u001b[0m\u001b[0;34m(\u001b[0m\u001b[0mcity\u001b[0m\u001b[0;34m)\u001b[0m\u001b[0;34m\u001b[0m\u001b[0;34m\u001b[0m\u001b[0m\n",
      "\u001b[0;32m<ipython-input-7-4d68d01c5771>\u001b[0m in \u001b[0;36mcrossvalidation\u001b[0;34m(df, target)\u001b[0m\n\u001b[1;32m      7\u001b[0m         \u001b[0my_train\u001b[0m \u001b[0;34m=\u001b[0m \u001b[0mtrain\u001b[0m\u001b[0;34m[\u001b[0m\u001b[0mtarget\u001b[0m\u001b[0;34m+\u001b[0m\u001b[0;34m'flow'\u001b[0m\u001b[0;34m]\u001b[0m\u001b[0;34m.\u001b[0m\u001b[0mvalues\u001b[0m\u001b[0;34m\u001b[0m\u001b[0;34m\u001b[0m\u001b[0m\n\u001b[1;32m      8\u001b[0m         \u001b[0my_test\u001b[0m \u001b[0;34m=\u001b[0m \u001b[0mtest\u001b[0m\u001b[0;34m[\u001b[0m\u001b[0mtarget\u001b[0m\u001b[0;34m+\u001b[0m\u001b[0;34m'flow'\u001b[0m\u001b[0;34m]\u001b[0m\u001b[0;34m.\u001b[0m\u001b[0mvalues\u001b[0m\u001b[0;34m\u001b[0m\u001b[0;34m\u001b[0m\u001b[0m\n\u001b[0;32m----> 9\u001b[0;31m         \u001b[0mpars\u001b[0m\u001b[0;34m,\u001b[0m \u001b[0mcov\u001b[0m \u001b[0;34m=\u001b[0m \u001b[0moptimize\u001b[0m\u001b[0;34m.\u001b[0m\u001b[0mcurve_fit\u001b[0m\u001b[0;34m(\u001b[0m\u001b[0mf\u001b[0m\u001b[0;34m=\u001b[0m\u001b[0mpower_law\u001b[0m\u001b[0;34m,\u001b[0m \u001b[0mxdata\u001b[0m\u001b[0;34m=\u001b[0m\u001b[0mX_train\u001b[0m\u001b[0;34m,\u001b[0m \u001b[0mydata\u001b[0m\u001b[0;34m=\u001b[0m\u001b[0my_train\u001b[0m\u001b[0;34m,\u001b[0m \u001b[0mbounds\u001b[0m\u001b[0;34m=\u001b[0m\u001b[0;34m(\u001b[0m\u001b[0;34m-\u001b[0m\u001b[0mnp\u001b[0m\u001b[0;34m.\u001b[0m\u001b[0minf\u001b[0m\u001b[0;34m,\u001b[0m \u001b[0mnp\u001b[0m\u001b[0;34m.\u001b[0m\u001b[0minf\u001b[0m\u001b[0;34m)\u001b[0m\u001b[0;34m)\u001b[0m\u001b[0;34m\u001b[0m\u001b[0;34m\u001b[0m\u001b[0m\n\u001b[0m\u001b[1;32m     10\u001b[0m         \u001b[0mtest\u001b[0m\u001b[0;34m[\u001b[0m\u001b[0mtarget\u001b[0m\u001b[0;34m+\u001b[0m\u001b[0;34m'k'\u001b[0m\u001b[0;34m]\u001b[0m \u001b[0;34m=\u001b[0m \u001b[0mpars\u001b[0m\u001b[0;34m[\u001b[0m\u001b[0;36m0\u001b[0m\u001b[0;34m]\u001b[0m\u001b[0;34m\u001b[0m\u001b[0;34m\u001b[0m\u001b[0m\n\u001b[1;32m     11\u001b[0m         \u001b[0mtest\u001b[0m\u001b[0;34m[\u001b[0m\u001b[0mtarget\u001b[0m\u001b[0;34m+\u001b[0m\u001b[0;34m'a'\u001b[0m\u001b[0;34m]\u001b[0m \u001b[0;34m=\u001b[0m \u001b[0mpars\u001b[0m\u001b[0;34m[\u001b[0m\u001b[0;36m1\u001b[0m\u001b[0;34m]\u001b[0m\u001b[0;34m\u001b[0m\u001b[0;34m\u001b[0m\u001b[0m\n",
      "\u001b[0;32m~/anaconda3/envs/py38/lib/python3.8/site-packages/scipy/optimize/minpack.py\u001b[0m in \u001b[0;36mcurve_fit\u001b[0;34m(f, xdata, ydata, p0, sigma, absolute_sigma, check_finite, bounds, method, jac, **kwargs)\u001b[0m\n\u001b[1;32m    782\u001b[0m         \u001b[0;31m# Remove full_output from kwargs, otherwise we're passing it in twice.\u001b[0m\u001b[0;34m\u001b[0m\u001b[0;34m\u001b[0m\u001b[0;34m\u001b[0m\u001b[0m\n\u001b[1;32m    783\u001b[0m         \u001b[0mreturn_full\u001b[0m \u001b[0;34m=\u001b[0m \u001b[0mkwargs\u001b[0m\u001b[0;34m.\u001b[0m\u001b[0mpop\u001b[0m\u001b[0;34m(\u001b[0m\u001b[0;34m'full_output'\u001b[0m\u001b[0;34m,\u001b[0m \u001b[0;32mFalse\u001b[0m\u001b[0;34m)\u001b[0m\u001b[0;34m\u001b[0m\u001b[0;34m\u001b[0m\u001b[0m\n\u001b[0;32m--> 784\u001b[0;31m         \u001b[0mres\u001b[0m \u001b[0;34m=\u001b[0m \u001b[0mleastsq\u001b[0m\u001b[0;34m(\u001b[0m\u001b[0mfunc\u001b[0m\u001b[0;34m,\u001b[0m \u001b[0mp0\u001b[0m\u001b[0;34m,\u001b[0m \u001b[0mDfun\u001b[0m\u001b[0;34m=\u001b[0m\u001b[0mjac\u001b[0m\u001b[0;34m,\u001b[0m \u001b[0mfull_output\u001b[0m\u001b[0;34m=\u001b[0m\u001b[0;36m1\u001b[0m\u001b[0;34m,\u001b[0m \u001b[0;34m**\u001b[0m\u001b[0mkwargs\u001b[0m\u001b[0;34m)\u001b[0m\u001b[0;34m\u001b[0m\u001b[0;34m\u001b[0m\u001b[0m\n\u001b[0m\u001b[1;32m    785\u001b[0m         \u001b[0mpopt\u001b[0m\u001b[0;34m,\u001b[0m \u001b[0mpcov\u001b[0m\u001b[0;34m,\u001b[0m \u001b[0minfodict\u001b[0m\u001b[0;34m,\u001b[0m \u001b[0merrmsg\u001b[0m\u001b[0;34m,\u001b[0m \u001b[0mier\u001b[0m \u001b[0;34m=\u001b[0m \u001b[0mres\u001b[0m\u001b[0;34m\u001b[0m\u001b[0;34m\u001b[0m\u001b[0m\n\u001b[1;32m    786\u001b[0m         \u001b[0mysize\u001b[0m \u001b[0;34m=\u001b[0m \u001b[0mlen\u001b[0m\u001b[0;34m(\u001b[0m\u001b[0minfodict\u001b[0m\u001b[0;34m[\u001b[0m\u001b[0;34m'fvec'\u001b[0m\u001b[0;34m]\u001b[0m\u001b[0;34m)\u001b[0m\u001b[0;34m\u001b[0m\u001b[0;34m\u001b[0m\u001b[0m\n",
      "\u001b[0;32m~/anaconda3/envs/py38/lib/python3.8/site-packages/scipy/optimize/minpack.py\u001b[0m in \u001b[0;36mleastsq\u001b[0;34m(func, x0, args, Dfun, full_output, col_deriv, ftol, xtol, gtol, maxfev, epsfcn, factor, diag)\u001b[0m\n\u001b[1;32m    420\u001b[0m         \u001b[0;32mif\u001b[0m \u001b[0mmaxfev\u001b[0m \u001b[0;34m==\u001b[0m \u001b[0;36m0\u001b[0m\u001b[0;34m:\u001b[0m\u001b[0;34m\u001b[0m\u001b[0;34m\u001b[0m\u001b[0m\n\u001b[1;32m    421\u001b[0m             \u001b[0mmaxfev\u001b[0m \u001b[0;34m=\u001b[0m \u001b[0;36m200\u001b[0m\u001b[0;34m*\u001b[0m\u001b[0;34m(\u001b[0m\u001b[0mn\u001b[0m \u001b[0;34m+\u001b[0m \u001b[0;36m1\u001b[0m\u001b[0;34m)\u001b[0m\u001b[0;34m\u001b[0m\u001b[0;34m\u001b[0m\u001b[0m\n\u001b[0;32m--> 422\u001b[0;31m         retval = _minpack._lmdif(func, x0, args, full_output, ftol, xtol,\n\u001b[0m\u001b[1;32m    423\u001b[0m                                  gtol, maxfev, epsfcn, factor, diag)\n\u001b[1;32m    424\u001b[0m     \u001b[0;32melse\u001b[0m\u001b[0;34m:\u001b[0m\u001b[0;34m\u001b[0m\u001b[0;34m\u001b[0m\u001b[0m\n",
      "\u001b[0;32m~/anaconda3/envs/py38/lib/python3.8/site-packages/scipy/optimize/minpack.py\u001b[0m in \u001b[0;36mfunc_wrapped\u001b[0;34m(params)\u001b[0m\n\u001b[1;32m    482\u001b[0m     \u001b[0;32mif\u001b[0m \u001b[0mtransform\u001b[0m \u001b[0;32mis\u001b[0m \u001b[0;32mNone\u001b[0m\u001b[0;34m:\u001b[0m\u001b[0;34m\u001b[0m\u001b[0;34m\u001b[0m\u001b[0m\n\u001b[1;32m    483\u001b[0m         \u001b[0;32mdef\u001b[0m \u001b[0mfunc_wrapped\u001b[0m\u001b[0;34m(\u001b[0m\u001b[0mparams\u001b[0m\u001b[0;34m)\u001b[0m\u001b[0;34m:\u001b[0m\u001b[0;34m\u001b[0m\u001b[0;34m\u001b[0m\u001b[0m\n\u001b[0;32m--> 484\u001b[0;31m             \u001b[0;32mreturn\u001b[0m \u001b[0mfunc\u001b[0m\u001b[0;34m(\u001b[0m\u001b[0mxdata\u001b[0m\u001b[0;34m,\u001b[0m \u001b[0;34m*\u001b[0m\u001b[0mparams\u001b[0m\u001b[0;34m)\u001b[0m \u001b[0;34m-\u001b[0m \u001b[0mydata\u001b[0m\u001b[0;34m\u001b[0m\u001b[0;34m\u001b[0m\u001b[0m\n\u001b[0m\u001b[1;32m    485\u001b[0m     \u001b[0;32melif\u001b[0m \u001b[0mtransform\u001b[0m\u001b[0;34m.\u001b[0m\u001b[0mndim\u001b[0m \u001b[0;34m==\u001b[0m \u001b[0;36m1\u001b[0m\u001b[0;34m:\u001b[0m\u001b[0;34m\u001b[0m\u001b[0;34m\u001b[0m\u001b[0m\n\u001b[1;32m    486\u001b[0m         \u001b[0;32mdef\u001b[0m \u001b[0mfunc_wrapped\u001b[0m\u001b[0;34m(\u001b[0m\u001b[0mparams\u001b[0m\u001b[0;34m)\u001b[0m\u001b[0;34m:\u001b[0m\u001b[0;34m\u001b[0m\u001b[0;34m\u001b[0m\u001b[0m\n",
      "\u001b[0;31mKeyboardInterrupt\u001b[0m: "
     ]
    }
   ],
   "source": [
    "\n",
    "cities = os.listdir('cities/')\n",
    "citiesDir = 'cities/'\n",
    "mseDir = {}\n",
    "\n",
    "for city in cities:\n",
    "    if '.csv' in city:\n",
    "        df = pd.read_csv(citiesDir+city)\n",
    "        df.rename(columns={'jobs':'S000jobs', 'residence':'S000residence','flow':'S000flow'}, inplace=True)\n",
    "        mseDir[city] = crossvalidation(df,target='S000')\n",
    "        print(city)"
   ]
  },
  {
   "cell_type": "code",
   "execution_count": 534,
   "metadata": {},
   "outputs": [
    {
     "data": {
      "text/plain": [
       "{'Chicago.csv': 15.451858943585574,\n",
       " 'Phoenix.csv': 14.697585796076316,\n",
       " 'New York City.csv': 4.684721967212441,\n",
       " 'San Diego.csv': 46.13230610909322,\n",
       " 'San Jose.csv': 57.889232965274154,\n",
       " 'Austin.csv': 147.26938613781525,\n",
       " 'San Antonio.csv': 39.703481618282105,\n",
       " 'Philadelphia.csv': 22.060472064208714,\n",
       " 'Dallas.csv': 27.40118340943202,\n",
       " 'Houston.csv': 41.08473006522449,\n",
       " 'Boston.csv': 49.39656983431756,\n",
       " 'Los Angeles.csv': 5.779911660211235}"
      ]
     },
     "execution_count": 534,
     "metadata": {},
     "output_type": "execute_result"
    }
   ],
   "source": [
    "mseDir"
   ]
  },
  {
   "cell_type": "code",
   "execution_count": null,
   "metadata": {},
   "outputs": [],
   "source": [
    "def power_law(x,k,a):\n",
    "    return k*((x[:,0]**a)*x[:,1]*x[:,2])\n",
    "def unconstrained_powerlaw(data,target):\n",
    "\n",
    "    X = data[['distance',target+'jobs',target+'residence']].values\n",
    "    y = data[target+'flow'].values\n",
    "    pars, cov = optimize.curve_fit(f=power_law, xdata=X, ydata=y, bounds=(-np.inf, np.inf))\n",
    "#         print(pars)\n",
    "    data[target+'k'] = pars[0]\n",
    "    data[target+'a'] = pars[1]\n",
    "    data[target+'pred'] = data[target+'k']*(data['distance']**data[target+'a'])*data[target+'jobs']*data[target+'residence']\n",
    "    #data = data[['origin', 'destination', target+'flow', target+'pred']]\n",
    "    return data"
   ]
  },
  {
   "cell_type": "code",
   "execution_count": null,
   "metadata": {},
   "outputs": [],
   "source": [
    "!mkdir unconstrainCTPowerlaw/\n",
    "cities = os.listdir('cities/')\n",
    "citiesDir = 'cities/'\n",
    "\n",
    "outputDir = 'unconstrainCTPowerlaw/'\n",
    "\n",
    "for city in cities:\n",
    "    if '.csv' in city:\n",
    "        df = pd.read_csv(citiesDir+city)\n",
    "        df.rename(columns={'jobs':'S000jobs', 'residence':'S000residence','flow':'S000flow'}, inplace=True)\n",
    "        dataUV = unconstrained_powerlaw(df,target='S000')\n",
    "        dataUV.to_csv(outputDir+city,index=False)\n"
   ]
  },
  {
   "cell_type": "markdown",
   "metadata": {},
   "source": [
    "# bucked unconstrained power law with distance"
   ]
  },
  {
   "cell_type": "code",
   "execution_count": 24,
   "metadata": {},
   "outputs": [],
   "source": [
    "def power_law(x,k,a):\n",
    "    return k*((x[:,0]**a)*x[:,1]*x[:,2])\n",
    "\n",
    "def fit_unconstrained_powerlaw(data,target):\n",
    "    X = data[['distance', target+'jobs', target+'residence']].values\n",
    "    y = data[target+'flow'].values\n",
    "    pars, cov = optimize.curve_fit(f=power_law, xdata=X, ydata=y, bounds=(-np.inf, np.inf))\n",
    "    return pars\n",
    "\n",
    "def predict_unconstrained_powerlaw(data,target,model):\n",
    "    k = model[0]\n",
    "    a =  model[1]\n",
    "    data[target+'pred'] = (data['distance']**a)*data[target+'jobs']*data[target+'residence']*k\n",
    "    return data\n",
    "\n",
    "def fit_piece_power_law(data,target, bins = 17):\n",
    "    bins_list = data['bin'].unique()    \n",
    "    bin_to_model = {}\n",
    "    for b in bins_list:\n",
    "        subData = data[data['bin'] == b]\n",
    "        model = fit_unconstrained_powerlaw(subData,target)\n",
    "        bin_to_model[b] = model\n",
    "        \n",
    "    return bin_to_model\n",
    "    \n",
    "def predict_piece_power_law(data,target, model):\n",
    "    bins_list = data['bin'].unique()\n",
    "    predictions_all = pd.DataFrame()\n",
    "    for b in bins_list:\n",
    "        bin_model = model[b]\n",
    "        subData = data[data['bin'] == b]\n",
    "        predicted = predict_unconstrained_powerlaw(subData, target,bin_model)\n",
    "        predictions_all = pd.concat([predictions_all, predicted])\n",
    "        \n",
    "    return predictions_all"
   ]
  },
  {
   "cell_type": "code",
   "execution_count": null,
   "metadata": {},
   "outputs": [],
   "source": [
    "def crossvalidation(df,target,bins):\n",
    "    df['bin'] = pd.qcut(df['distance'], q=bins)\n",
    "    df['bin'] = df['bin'].astype(str)\n",
    "    df.sort_values(by='bin', inplace=True)\n",
    "    df.rename(columns={'jobs':'S000jobs', 'residence':'S000residence','flow':'S000flow'}, inplace=True)\n",
    "    mseList = []\n",
    "    skf = StratifiedKFold(n_splits=5)\n",
    "    X = df[['origin', 'destination', 'distance', target+'residence',\n",
    "       target+'jobs', target+'flow']].values\n",
    "    y = df[['bin']].values\n",
    "    skf.get_n_splits(X,y)\n",
    "    for train_index, test_index in skf.split(X, y):\n",
    "        train, test = df.loc[train_index], df.loc[test_index]\n",
    "        bin_to_model = fit_bucketed_power_law(train,target)\n",
    "        test = predict_bucketed_power_law(test,target,bin_to_model)\n",
    "        mseList += [mean_squared_error(test[target+'flow'],test[target+'pred'])]\n",
    "    return np.mean(mseList)"
   ]
  },
  {
   "cell_type": "code",
   "execution_count": 99,
   "metadata": {},
   "outputs": [
    {
     "ename": "RuntimeError",
     "evalue": "Optimal parameters not found: Number of calls to function has reached maxfev = 600.",
     "output_type": "error",
     "traceback": [
      "\u001b[0;31m---------------------------------------------------------------------------\u001b[0m",
      "\u001b[0;31mRuntimeError\u001b[0m                              Traceback (most recent call last)",
      "\u001b[0;32m<ipython-input-99-d104f32d97b2>\u001b[0m in \u001b[0;36m<module>\u001b[0;34m\u001b[0m\n\u001b[1;32m      7\u001b[0m         \u001b[0mdf\u001b[0m \u001b[0;34m=\u001b[0m \u001b[0mpd\u001b[0m\u001b[0;34m.\u001b[0m\u001b[0mread_csv\u001b[0m\u001b[0;34m(\u001b[0m\u001b[0mcitiesDir\u001b[0m\u001b[0;34m+\u001b[0m\u001b[0mcity\u001b[0m\u001b[0;34m)\u001b[0m\u001b[0;34m\u001b[0m\u001b[0;34m\u001b[0m\u001b[0m\n\u001b[1;32m      8\u001b[0m         \u001b[0mdf\u001b[0m\u001b[0;34m.\u001b[0m\u001b[0mrename\u001b[0m\u001b[0;34m(\u001b[0m\u001b[0mcolumns\u001b[0m\u001b[0;34m=\u001b[0m\u001b[0;34m{\u001b[0m\u001b[0;34m'jobs'\u001b[0m\u001b[0;34m:\u001b[0m\u001b[0;34m'S000jobs'\u001b[0m\u001b[0;34m,\u001b[0m \u001b[0;34m'residence'\u001b[0m\u001b[0;34m:\u001b[0m\u001b[0;34m'S000residence'\u001b[0m\u001b[0;34m,\u001b[0m\u001b[0;34m'flow'\u001b[0m\u001b[0;34m:\u001b[0m\u001b[0;34m'S000flow'\u001b[0m\u001b[0;34m}\u001b[0m\u001b[0;34m,\u001b[0m \u001b[0minplace\u001b[0m\u001b[0;34m=\u001b[0m\u001b[0;32mTrue\u001b[0m\u001b[0;34m)\u001b[0m\u001b[0;34m\u001b[0m\u001b[0;34m\u001b[0m\u001b[0m\n\u001b[0;32m----> 9\u001b[0;31m         \u001b[0mmseDir\u001b[0m\u001b[0;34m[\u001b[0m\u001b[0mcity\u001b[0m\u001b[0;34m]\u001b[0m \u001b[0;34m=\u001b[0m \u001b[0mcrossvalidation\u001b[0m\u001b[0;34m(\u001b[0m\u001b[0mdf\u001b[0m\u001b[0;34m,\u001b[0m\u001b[0mtarget\u001b[0m\u001b[0;34m=\u001b[0m\u001b[0;34m'S000'\u001b[0m\u001b[0;34m,\u001b[0m\u001b[0mbins\u001b[0m\u001b[0;34m=\u001b[0m\u001b[0;36m17\u001b[0m\u001b[0;34m)\u001b[0m\u001b[0;34m\u001b[0m\u001b[0;34m\u001b[0m\u001b[0m\n\u001b[0m\u001b[1;32m     10\u001b[0m         \u001b[0mprint\u001b[0m\u001b[0;34m(\u001b[0m\u001b[0mcity\u001b[0m\u001b[0;34m)\u001b[0m\u001b[0;34m\u001b[0m\u001b[0;34m\u001b[0m\u001b[0m\n",
      "\u001b[0;32m<ipython-input-98-6b4332379372>\u001b[0m in \u001b[0;36mcrossvalidation\u001b[0;34m(df, target, bins)\u001b[0m\n\u001b[1;32m     12\u001b[0m     \u001b[0;32mfor\u001b[0m \u001b[0mtrain_index\u001b[0m\u001b[0;34m,\u001b[0m \u001b[0mtest_index\u001b[0m \u001b[0;32min\u001b[0m \u001b[0mskf\u001b[0m\u001b[0;34m.\u001b[0m\u001b[0msplit\u001b[0m\u001b[0;34m(\u001b[0m\u001b[0mX\u001b[0m\u001b[0;34m,\u001b[0m \u001b[0my\u001b[0m\u001b[0;34m)\u001b[0m\u001b[0;34m:\u001b[0m\u001b[0;34m\u001b[0m\u001b[0;34m\u001b[0m\u001b[0m\n\u001b[1;32m     13\u001b[0m         \u001b[0mtrain\u001b[0m\u001b[0;34m,\u001b[0m \u001b[0mtest\u001b[0m \u001b[0;34m=\u001b[0m \u001b[0mdf\u001b[0m\u001b[0;34m.\u001b[0m\u001b[0mloc\u001b[0m\u001b[0;34m[\u001b[0m\u001b[0mtrain_index\u001b[0m\u001b[0;34m]\u001b[0m\u001b[0;34m,\u001b[0m \u001b[0mdf\u001b[0m\u001b[0;34m.\u001b[0m\u001b[0mloc\u001b[0m\u001b[0;34m[\u001b[0m\u001b[0mtest_index\u001b[0m\u001b[0;34m]\u001b[0m\u001b[0;34m\u001b[0m\u001b[0;34m\u001b[0m\u001b[0m\n\u001b[0;32m---> 14\u001b[0;31m         \u001b[0mbin_to_model\u001b[0m \u001b[0;34m=\u001b[0m \u001b[0mfit_bucketed_power_law\u001b[0m\u001b[0;34m(\u001b[0m\u001b[0mtrain\u001b[0m\u001b[0;34m,\u001b[0m\u001b[0mtarget\u001b[0m\u001b[0;34m)\u001b[0m\u001b[0;34m\u001b[0m\u001b[0;34m\u001b[0m\u001b[0m\n\u001b[0m\u001b[1;32m     15\u001b[0m         \u001b[0mtest\u001b[0m \u001b[0;34m=\u001b[0m \u001b[0mpredict_bucketed_power_law\u001b[0m\u001b[0;34m(\u001b[0m\u001b[0mtest\u001b[0m\u001b[0;34m,\u001b[0m\u001b[0mtarget\u001b[0m\u001b[0;34m,\u001b[0m\u001b[0mbin_to_model\u001b[0m\u001b[0;34m)\u001b[0m\u001b[0;34m\u001b[0m\u001b[0;34m\u001b[0m\u001b[0m\n\u001b[1;32m     16\u001b[0m         \u001b[0mmseList\u001b[0m \u001b[0;34m+=\u001b[0m \u001b[0;34m[\u001b[0m\u001b[0mmean_squared_error\u001b[0m\u001b[0;34m(\u001b[0m\u001b[0mtest\u001b[0m\u001b[0;34m[\u001b[0m\u001b[0mtarget\u001b[0m\u001b[0;34m+\u001b[0m\u001b[0;34m'flow'\u001b[0m\u001b[0;34m]\u001b[0m\u001b[0;34m,\u001b[0m\u001b[0mtest\u001b[0m\u001b[0;34m[\u001b[0m\u001b[0mtarget\u001b[0m\u001b[0;34m+\u001b[0m\u001b[0;34m'pred'\u001b[0m\u001b[0;34m]\u001b[0m\u001b[0;34m)\u001b[0m\u001b[0;34m]\u001b[0m\u001b[0;34m\u001b[0m\u001b[0;34m\u001b[0m\u001b[0m\n",
      "\u001b[0;32m<ipython-input-95-8886d7d47744>\u001b[0m in \u001b[0;36mfit_bucketed_power_law\u001b[0;34m(data, target, bins)\u001b[0m\n\u001b[1;32m     19\u001b[0m     \u001b[0;32mfor\u001b[0m \u001b[0mb\u001b[0m \u001b[0;32min\u001b[0m \u001b[0mbins_list\u001b[0m\u001b[0;34m:\u001b[0m\u001b[0;34m\u001b[0m\u001b[0;34m\u001b[0m\u001b[0m\n\u001b[1;32m     20\u001b[0m         \u001b[0msubData\u001b[0m \u001b[0;34m=\u001b[0m \u001b[0mdata\u001b[0m\u001b[0;34m[\u001b[0m\u001b[0mdata\u001b[0m\u001b[0;34m[\u001b[0m\u001b[0;34m'bin'\u001b[0m\u001b[0;34m]\u001b[0m \u001b[0;34m==\u001b[0m \u001b[0mb\u001b[0m\u001b[0;34m]\u001b[0m\u001b[0;34m\u001b[0m\u001b[0;34m\u001b[0m\u001b[0m\n\u001b[0;32m---> 21\u001b[0;31m         \u001b[0mmodel\u001b[0m \u001b[0;34m=\u001b[0m \u001b[0mfit_unconstrained_powerlaw\u001b[0m\u001b[0;34m(\u001b[0m\u001b[0msubData\u001b[0m\u001b[0;34m,\u001b[0m\u001b[0mtarget\u001b[0m\u001b[0;34m)\u001b[0m\u001b[0;34m\u001b[0m\u001b[0;34m\u001b[0m\u001b[0m\n\u001b[0m\u001b[1;32m     22\u001b[0m         \u001b[0mbin_to_model\u001b[0m\u001b[0;34m[\u001b[0m\u001b[0mb\u001b[0m\u001b[0;34m]\u001b[0m \u001b[0;34m=\u001b[0m \u001b[0mmodel\u001b[0m\u001b[0;34m\u001b[0m\u001b[0;34m\u001b[0m\u001b[0m\n\u001b[1;32m     23\u001b[0m \u001b[0;34m\u001b[0m\u001b[0m\n",
      "\u001b[0;32m<ipython-input-95-8886d7d47744>\u001b[0m in \u001b[0;36mfit_unconstrained_powerlaw\u001b[0;34m(data, target)\u001b[0m\n\u001b[1;32m      5\u001b[0m     \u001b[0mX\u001b[0m \u001b[0;34m=\u001b[0m \u001b[0mdata\u001b[0m\u001b[0;34m[\u001b[0m\u001b[0;34m[\u001b[0m\u001b[0;34m'distance'\u001b[0m\u001b[0;34m,\u001b[0m \u001b[0mtarget\u001b[0m\u001b[0;34m+\u001b[0m\u001b[0;34m'jobs'\u001b[0m\u001b[0;34m,\u001b[0m \u001b[0mtarget\u001b[0m\u001b[0;34m+\u001b[0m\u001b[0;34m'residence'\u001b[0m\u001b[0;34m]\u001b[0m\u001b[0;34m]\u001b[0m\u001b[0;34m.\u001b[0m\u001b[0mvalues\u001b[0m\u001b[0;34m\u001b[0m\u001b[0;34m\u001b[0m\u001b[0m\n\u001b[1;32m      6\u001b[0m     \u001b[0my\u001b[0m \u001b[0;34m=\u001b[0m \u001b[0mdata\u001b[0m\u001b[0;34m[\u001b[0m\u001b[0mtarget\u001b[0m\u001b[0;34m+\u001b[0m\u001b[0;34m'flow'\u001b[0m\u001b[0;34m]\u001b[0m\u001b[0;34m.\u001b[0m\u001b[0mvalues\u001b[0m\u001b[0;34m\u001b[0m\u001b[0;34m\u001b[0m\u001b[0m\n\u001b[0;32m----> 7\u001b[0;31m     \u001b[0mpars\u001b[0m\u001b[0;34m,\u001b[0m \u001b[0mcov\u001b[0m \u001b[0;34m=\u001b[0m \u001b[0moptimize\u001b[0m\u001b[0;34m.\u001b[0m\u001b[0mcurve_fit\u001b[0m\u001b[0;34m(\u001b[0m\u001b[0mf\u001b[0m\u001b[0;34m=\u001b[0m\u001b[0mpower_law\u001b[0m\u001b[0;34m,\u001b[0m \u001b[0mxdata\u001b[0m\u001b[0;34m=\u001b[0m\u001b[0mX\u001b[0m\u001b[0;34m,\u001b[0m \u001b[0mydata\u001b[0m\u001b[0;34m=\u001b[0m\u001b[0my\u001b[0m\u001b[0;34m,\u001b[0m \u001b[0mbounds\u001b[0m\u001b[0;34m=\u001b[0m\u001b[0;34m(\u001b[0m\u001b[0;34m-\u001b[0m\u001b[0mnp\u001b[0m\u001b[0;34m.\u001b[0m\u001b[0minf\u001b[0m\u001b[0;34m,\u001b[0m \u001b[0mnp\u001b[0m\u001b[0;34m.\u001b[0m\u001b[0minf\u001b[0m\u001b[0;34m)\u001b[0m\u001b[0;34m)\u001b[0m\u001b[0;34m\u001b[0m\u001b[0;34m\u001b[0m\u001b[0m\n\u001b[0m\u001b[1;32m      8\u001b[0m     \u001b[0;32mreturn\u001b[0m \u001b[0mpars\u001b[0m\u001b[0;34m\u001b[0m\u001b[0;34m\u001b[0m\u001b[0m\n\u001b[1;32m      9\u001b[0m \u001b[0;34m\u001b[0m\u001b[0m\n",
      "\u001b[0;32m~/anaconda3/envs/py38/lib/python3.8/site-packages/scipy/optimize/minpack.py\u001b[0m in \u001b[0;36mcurve_fit\u001b[0;34m(f, xdata, ydata, p0, sigma, absolute_sigma, check_finite, bounds, method, jac, **kwargs)\u001b[0m\n\u001b[1;32m    787\u001b[0m         \u001b[0mcost\u001b[0m \u001b[0;34m=\u001b[0m \u001b[0mnp\u001b[0m\u001b[0;34m.\u001b[0m\u001b[0msum\u001b[0m\u001b[0;34m(\u001b[0m\u001b[0minfodict\u001b[0m\u001b[0;34m[\u001b[0m\u001b[0;34m'fvec'\u001b[0m\u001b[0;34m]\u001b[0m \u001b[0;34m**\u001b[0m \u001b[0;36m2\u001b[0m\u001b[0;34m)\u001b[0m\u001b[0;34m\u001b[0m\u001b[0;34m\u001b[0m\u001b[0m\n\u001b[1;32m    788\u001b[0m         \u001b[0;32mif\u001b[0m \u001b[0mier\u001b[0m \u001b[0;32mnot\u001b[0m \u001b[0;32min\u001b[0m \u001b[0;34m[\u001b[0m\u001b[0;36m1\u001b[0m\u001b[0;34m,\u001b[0m \u001b[0;36m2\u001b[0m\u001b[0;34m,\u001b[0m \u001b[0;36m3\u001b[0m\u001b[0;34m,\u001b[0m \u001b[0;36m4\u001b[0m\u001b[0;34m]\u001b[0m\u001b[0;34m:\u001b[0m\u001b[0;34m\u001b[0m\u001b[0;34m\u001b[0m\u001b[0m\n\u001b[0;32m--> 789\u001b[0;31m             \u001b[0;32mraise\u001b[0m \u001b[0mRuntimeError\u001b[0m\u001b[0;34m(\u001b[0m\u001b[0;34m\"Optimal parameters not found: \"\u001b[0m \u001b[0;34m+\u001b[0m \u001b[0merrmsg\u001b[0m\u001b[0;34m)\u001b[0m\u001b[0;34m\u001b[0m\u001b[0;34m\u001b[0m\u001b[0m\n\u001b[0m\u001b[1;32m    790\u001b[0m     \u001b[0;32melse\u001b[0m\u001b[0;34m:\u001b[0m\u001b[0;34m\u001b[0m\u001b[0;34m\u001b[0m\u001b[0m\n\u001b[1;32m    791\u001b[0m         \u001b[0;31m# Rename maxfev (leastsq) to max_nfev (least_squares), if specified.\u001b[0m\u001b[0;34m\u001b[0m\u001b[0;34m\u001b[0m\u001b[0;34m\u001b[0m\u001b[0m\n",
      "\u001b[0;31mRuntimeError\u001b[0m: Optimal parameters not found: Number of calls to function has reached maxfev = 600."
     ]
    }
   ],
   "source": [
    "\n",
    "cities = os.listdir('cities/')\n",
    "citiesDir = 'cities/'\n",
    "mseDir = {}\n",
    "\n",
    "for city in cities:\n",
    "    if '.csv' in city:\n",
    "        df = pd.read_csv(citiesDir+city)\n",
    "        df.rename(columns={'jobs':'S000jobs', 'residence':'S000residence','flow':'S000flow'}, inplace=True)\n",
    "        mseDir[city] = crossvalidation(df,target='S000',bins=17)\n",
    "        print(city)"
   ]
  },
  {
   "cell_type": "markdown",
   "metadata": {},
   "source": [
    "# find the min bucket to make sure bucked gravity model has the same performance as gravity model with distance"
   ]
  },
  {
   "cell_type": "markdown",
   "metadata": {},
   "source": [
    "\n",
    "!mkdir unconstrainCTBuckedPowerlaw/\n",
    "cities = os.listdir('cities/')\n",
    "citiesDir = 'cities/'\n",
    "refDir = 'unconstrainCTPowerlaw/'\n",
    "outputDir = 'unconstrainCTBuckedPowerlaw/'\n",
    "fdf = []\n",
    "binDict = {}\n",
    "for city in cities:\n",
    "    if '.csv' in city:\n",
    "        print(city)\n",
    "        df = pd.read_csv(citiesDir+city)\n",
    "        refdf = pd.read_csv(refDir+city)\n",
    "        refmse = mean_squared_error(refdf['S000flow'],refdf['S000pred'])\n",
    "    \n",
    "        df.rename(columns={'jobs':'S000jobs', 'residence':'S000residence','flow':'S000flow'}, inplace=True)\n",
    "        for i in np.arange(10,10000,5):\n",
    "            predicted_bfpl = unconstrained_bucked_powerlaw(df, 'S000',bins=i)\n",
    "            mse = mean_squared_error(predicted_bfpl['S000flow'],predicted_bfpl['S000pred'])\n",
    "            if mse <= refmse:\n",
    "                print(i)\n",
    "                predicted_bfpl[['origin', 'destination','S000flow','S000pred']].to_csv(outputDir+city,index=False)\n",
    "\n",
    "                grouped_bfpl = predicted_bfpl.groupby('bin').agg({'S000f': 'min'})\n",
    "                grouped_bfpl = grouped_bfpl.reset_index()\n",
    "                fdf += [grouped_bfpl]\n",
    "                binDict[city] = i\n",
    "                break\n"
   ]
  },
  {
   "cell_type": "code",
   "execution_count": 23,
   "metadata": {},
   "outputs": [
    {
     "data": {
      "text/plain": [
       "{'Chicago.csv': 15,\n",
       " 'San Diego.csv': 30,\n",
       " 'San Jose.csv': 40,\n",
       " 'Austin.csv': 65,\n",
       " 'San Antonio.csv': 90,\n",
       " 'Philadelphia.csv': 35,\n",
       " 'Dallas.csv': 25,\n",
       " 'Houston.csv': 45,\n",
       " 'Boston.csv': 180,\n",
       " 'Phoenix.csv': 310,\n",
       " 'New York City.csv': 630,\n",
       " 'Los Angeles.csv': 980}"
      ]
     },
     "execution_count": 23,
     "metadata": {},
     "output_type": "execute_result"
    }
   ],
   "source": [
    "binDict = {'Chicago.csv': 15,\n",
    " 'San Diego.csv': 30,\n",
    " 'San Jose.csv': 40,\n",
    " 'Austin.csv': 65,\n",
    " 'San Antonio.csv': 90,\n",
    " 'Philadelphia.csv': 35,\n",
    " 'Dallas.csv': 25,\n",
    " 'Houston.csv': 45,\n",
    " 'Boston.csv': 180,\n",
    " 'Phoenix.csv': 310,\n",
    " 'New York City.csv': 630,\n",
    " 'Los Angeles.csv': 980}\n",
    "binDict"
   ]
  },
  {
   "cell_type": "code",
   "execution_count": 53,
   "metadata": {},
   "outputs": [],
   "source": [
    "def power_law(x,k,a):\n",
    "    return k*((x[:,0]**a)*x[:,1]*x[:,2])\n",
    "def bucked_power_law(x,f):\n",
    "    return f*(x[:,0]*x[:,1]*x[:,2])\n",
    "def unconstrained_bucked_powerlaw_fit(data, target):\n",
    "    binf = {}\n",
    "    X = data[['distance',target+'jobs',target+'residence']].values\n",
    "    y = data[target+'flow'].values\n",
    "    pars, cov = optimize.curve_fit(f=power_law, xdata=X, ydata=y, bounds=(-np.inf, np.inf))\n",
    "#         print(pars)\n",
    "    data[target+'k'] = pars[0]\n",
    "\n",
    "    # estimate F for each bin\n",
    "    for b in data['bin'].unique():\n",
    "        subData = data[data['bin'] == b]\n",
    "        X = subData[target+'jobs'].values*subData[target+'residence'].values*subData[target+'k'].values\n",
    "        y = subData[target+'flow'].values\n",
    "        model = sm.OLS(y,X)\n",
    "        results = model.fit()\n",
    "        subData[target+'f'] = results.params[0]\n",
    "        binf[b] = results.params[0]\n",
    "    return (pars[0],binf)\n",
    "def unconstrained_bucked_powerlaw_predict(test,target,k,binf):\n",
    "    test[target+'k'] = k\n",
    "    test[target+'f'] = test['bin'].apply(lambda x:binf[x]).astype(float)\n",
    "    test[target+'pred'] = test[target+'k']*test[target+'f']*test[target+'jobs']*test[target+'residence']\n",
    "    return test"
   ]
  },
  {
   "cell_type": "code",
   "execution_count": null,
   "metadata": {},
   "outputs": [],
   "source": []
  },
  {
   "cell_type": "code",
   "execution_count": 13,
   "metadata": {},
   "outputs": [],
   "source": [
    "def crossvalidation(df,target,bins):\n",
    "    df['bin'] = pd.qcut(df['distance'], q=bins)\n",
    "    df['bin'] = df['bin'].astype(str)\n",
    "    df.sort_values(by='bin', inplace=True)\n",
    "    df.rename(columns={'jobs':'S000jobs', 'residence':'S000residence','flow':'S000flow'}, inplace=True)\n",
    "    mseList = []\n",
    "    skf = StratifiedKFold(n_splits=5)\n",
    "    X = df[['origin', 'destination', 'distance', 'S000residence',\n",
    "       'S000jobs', 'S000flow']].values\n",
    "    y = df[['bin']].values\n",
    "    skf.get_n_splits(X,y)\n",
    "    for train_index, test_index in skf.split(X, y):\n",
    "        train, test = df.loc[train_index], df.loc[test_index]\n",
    "        k, binf = unconstrained_bucked_powerlaw(train, target,bins)\n",
    "#         print(len(binf),bins)\n",
    "        test = unconstrained_bucked_powerlaw_fit(test,target,k,binf)\n",
    "        mseList += [mean_squared_error(test[target+'flow'],test[target+'pred'])]\n",
    "    return np.mean(mseList)"
   ]
  },
  {
   "cell_type": "code",
   "execution_count": 63,
   "metadata": {},
   "outputs": [
    {
     "name": "stdout",
     "output_type": "stream",
     "text": [
      "Chicago.csv\n",
      "Phoenix.csv\n",
      "New York City.csv\n",
      "San Diego.csv\n",
      "San Jose.csv\n",
      "Austin.csv\n",
      "San Antonio.csv\n",
      "Philadelphia.csv\n",
      "Dallas.csv\n",
      "Houston.csv\n",
      "Boston.csv\n",
      "Los Angeles.csv\n"
     ]
    }
   ],
   "source": [
    "\n",
    "cities = os.listdir('cities/')\n",
    "citiesDir = 'cities/'\n",
    "mseDir = {}\n",
    "\n",
    "for city in cities:\n",
    "    if '.csv' in city:\n",
    "        df = pd.read_csv(citiesDir+city)\n",
    "        df.rename(columns={'jobs':'S000jobs', 'residence':'S000residence','flow':'S000flow'}, inplace=True)\n",
    "        mseDir[city] = crossvalidation(df,target='S000',bins=binDict[city])\n",
    "        print(city)"
   ]
  },
  {
   "cell_type": "code",
   "execution_count": 67,
   "metadata": {},
   "outputs": [],
   "source": [
    "baselineMSE = {'Chicago.csv': 15.451858943585574,\n",
    " 'Phoenix.csv': 14.697585796076316,\n",
    " 'New York City.csv': 4.684721967212441,\n",
    " 'San Diego.csv': 46.13230610909322,\n",
    " 'San Jose.csv': 57.889232965274154,\n",
    " 'Austin.csv': 147.26938613781525,\n",
    " 'San Antonio.csv': 39.703481618282105,\n",
    " 'Philadelphia.csv': 22.060472064208714,\n",
    " 'Dallas.csv': 27.40118340943202,\n",
    " 'Houston.csv': 41.08473006522449,\n",
    " 'Boston.csv': 49.39656983431756,\n",
    " 'Los Angeles.csv': 5.779911660211235}"
   ]
  },
  {
   "cell_type": "code",
   "execution_count": 69,
   "metadata": {},
   "outputs": [
    {
     "data": {
      "text/html": [
       "<div>\n",
       "<style scoped>\n",
       "    .dataframe tbody tr th:only-of-type {\n",
       "        vertical-align: middle;\n",
       "    }\n",
       "\n",
       "    .dataframe tbody tr th {\n",
       "        vertical-align: top;\n",
       "    }\n",
       "\n",
       "    .dataframe thead th {\n",
       "        text-align: right;\n",
       "    }\n",
       "</style>\n",
       "<table border=\"1\" class=\"dataframe\">\n",
       "  <thead>\n",
       "    <tr style=\"text-align: right;\">\n",
       "      <th></th>\n",
       "      <th>city</th>\n",
       "      <th>baseline</th>\n",
       "      <th>bins</th>\n",
       "    </tr>\n",
       "  </thead>\n",
       "  <tbody>\n",
       "    <tr>\n",
       "      <th>0</th>\n",
       "      <td>Chicago.csv</td>\n",
       "      <td>15.451859</td>\n",
       "      <td>15.789311</td>\n",
       "    </tr>\n",
       "    <tr>\n",
       "      <th>1</th>\n",
       "      <td>Phoenix.csv</td>\n",
       "      <td>14.697586</td>\n",
       "      <td>15.895549</td>\n",
       "    </tr>\n",
       "    <tr>\n",
       "      <th>2</th>\n",
       "      <td>New York City.csv</td>\n",
       "      <td>4.684722</td>\n",
       "      <td>4.545241</td>\n",
       "    </tr>\n",
       "    <tr>\n",
       "      <th>3</th>\n",
       "      <td>San Diego.csv</td>\n",
       "      <td>46.132306</td>\n",
       "      <td>45.574976</td>\n",
       "    </tr>\n",
       "    <tr>\n",
       "      <th>4</th>\n",
       "      <td>San Jose.csv</td>\n",
       "      <td>57.889233</td>\n",
       "      <td>55.243015</td>\n",
       "    </tr>\n",
       "    <tr>\n",
       "      <th>5</th>\n",
       "      <td>Austin.csv</td>\n",
       "      <td>147.269386</td>\n",
       "      <td>115.867285</td>\n",
       "    </tr>\n",
       "    <tr>\n",
       "      <th>6</th>\n",
       "      <td>San Antonio.csv</td>\n",
       "      <td>39.703482</td>\n",
       "      <td>42.728907</td>\n",
       "    </tr>\n",
       "    <tr>\n",
       "      <th>7</th>\n",
       "      <td>Philadelphia.csv</td>\n",
       "      <td>22.060472</td>\n",
       "      <td>20.708266</td>\n",
       "    </tr>\n",
       "    <tr>\n",
       "      <th>8</th>\n",
       "      <td>Dallas.csv</td>\n",
       "      <td>27.401183</td>\n",
       "      <td>27.439487</td>\n",
       "    </tr>\n",
       "    <tr>\n",
       "      <th>9</th>\n",
       "      <td>Houston.csv</td>\n",
       "      <td>41.084730</td>\n",
       "      <td>37.981710</td>\n",
       "    </tr>\n",
       "    <tr>\n",
       "      <th>10</th>\n",
       "      <td>Boston.csv</td>\n",
       "      <td>49.396570</td>\n",
       "      <td>50.534004</td>\n",
       "    </tr>\n",
       "    <tr>\n",
       "      <th>11</th>\n",
       "      <td>Los Angeles.csv</td>\n",
       "      <td>5.779912</td>\n",
       "      <td>6.062410</td>\n",
       "    </tr>\n",
       "  </tbody>\n",
       "</table>\n",
       "</div>"
      ],
      "text/plain": [
       "                 city    baseline        bins\n",
       "0         Chicago.csv   15.451859   15.789311\n",
       "1         Phoenix.csv   14.697586   15.895549\n",
       "2   New York City.csv    4.684722    4.545241\n",
       "3       San Diego.csv   46.132306   45.574976\n",
       "4        San Jose.csv   57.889233   55.243015\n",
       "5          Austin.csv  147.269386  115.867285\n",
       "6     San Antonio.csv   39.703482   42.728907\n",
       "7    Philadelphia.csv   22.060472   20.708266\n",
       "8          Dallas.csv   27.401183   27.439487\n",
       "9         Houston.csv   41.084730   37.981710\n",
       "10         Boston.csv   49.396570   50.534004\n",
       "11    Los Angeles.csv    5.779912    6.062410"
      ]
     },
     "execution_count": 69,
     "metadata": {},
     "output_type": "execute_result"
    }
   ],
   "source": [
    "pd.DataFrame({'city':mseDir.keys(),'baseline':baselineMSE.values(),'bins':mseDir.values()})"
   ]
  },
  {
   "cell_type": "code",
   "execution_count": 152,
   "metadata": {},
   "outputs": [
    {
     "name": "stdout",
     "output_type": "stream",
     "text": [
      "mkdir: cannot create directory ‘unconstrainCTBuckedPowerlaw/’: File exists\n",
      "Chicago.csv\n",
      "Phoenix.csv\n",
      "New York City.csv\n",
      "San Diego.csv\n",
      "San Jose.csv\n",
      "Austin.csv\n",
      "San Antonio.csv\n",
      "Philadelphia.csv\n",
      "Dallas.csv\n",
      "Houston.csv\n",
      "Boston.csv\n",
      "Los Angeles.csv\n"
     ]
    }
   ],
   "source": [
    "\n",
    "!mkdir unconstrainCTBuckedPowerlaw/\n",
    "cities = os.listdir('cities/')\n",
    "citiesDir = 'cities/'\n",
    "refDir = 'unconstrainCTPowerlaw/'\n",
    "outputDir = 'unconstrainCTBuckedPowerlaw/'\n",
    "fdf = []\n",
    "for city in cities:\n",
    "    if '.csv' in city:\n",
    "        print(city)\n",
    "        df = pd.read_csv(citiesDir+city)\n",
    "        df.rename(columns={'jobs':'S000jobs', 'residence':'S000residence','flow':'S000flow'}, inplace=True)\n",
    "\n",
    "        predicted_bfpl = unconstrained_bucked_powerlaw(df, 'S000',bins=binDict[city])\n",
    "        mse = mean_squared_error(predicted_bfpl['S000flow'],predicted_bfpl['S000pred'])\n",
    "        predicted_bfpl[['origin', 'destination','S000flow','S000pred']].to_csv(outputDir+city,index=False)\n",
    "        grouped_bfpl = predicted_bfpl.groupby('bin').agg({'S000f': 'min'})\n",
    "        grouped_bfpl = grouped_bfpl.reset_index()\n",
    "        fdf += [grouped_bfpl]\n",
    "            \n"
   ]
  },
  {
   "cell_type": "code",
   "execution_count": 154,
   "metadata": {},
   "outputs": [
    {
     "data": {
      "image/png": "[encoded data removed]",
      "text/plain": [
       "<Figure size 1080x1080 with 12 Axes>"
      ]
     },
     "metadata": {
      "needs_background": "light"
     },
     "output_type": "display_data"
    }
   ],
   "source": [
    "fig, ax = plt.subplots(4,3,figsize=(15,15))\n",
    "for i,grouped_bfpl in enumerate(fdf):\n",
    "#     print(i)\n",
    "#     ax[1,2].plot(grouped_bfpl['S000f'])\n",
    "    ax[i//3,i%3].plot(grouped_bfpl['S000f'])\n",
    "    ax[i//3,i%3].set_title(cities[i])"
   ]
  },
  {
   "cell_type": "code",
   "execution_count": 162,
   "metadata": {},
   "outputs": [],
   "source": [
    "\n",
    "for city in cities:\n",
    "    if '.csv' in city:\n",
    "        df = pd.read_csv(citiesDir+city)\n",
    "        binDict[city] = [binDict[city],len(df['origin'].unique())]"
   ]
  },
  {
   "cell_type": "code",
   "execution_count": 186,
   "metadata": {},
   "outputs": [
    {
     "data": {
      "text/plain": [
       "Text(0, 0.5, 'census tract')"
      ]
     },
     "execution_count": 186,
     "metadata": {},
     "output_type": "execute_result"
    },
    {
     "data": {
      "image/png": "[encoded data removed]",
      "text/plain": [
       "<Figure size 432x288 with 1 Axes>"
      ]
     },
     "metadata": {
      "needs_background": "light"
     },
     "output_type": "display_data"
    }
   ],
   "source": [
    "plt.plot(np.array(list(binDict.values()))[:,0],np.array(list(binDict.values()))[:,1],'o')\n",
    "plt.title('census tract amount - required least bins')\n",
    "plt.xlabel('bins')\n",
    "plt.ylabel('census tract')"
   ]
  },
  {
   "cell_type": "code",
   "execution_count": 191,
   "metadata": {},
   "outputs": [
    {
     "name": "stdout",
     "output_type": "stream",
     "text": [
      "mkdir: cannot create directory ‘unconstrainCTBuckedPowerlaw/’: File exists\n",
      "Chicago.csv\n",
      "Phoenix.csv\n",
      "New York City.csv\n",
      "San Diego.csv\n",
      "San Jose.csv\n",
      "Austin.csv\n",
      "San Antonio.csv\n",
      "Philadelphia.csv\n",
      "Dallas.csv\n",
      "Houston.csv\n",
      "Boston.csv\n",
      "Los Angeles.csv\n"
     ]
    }
   ],
   "source": [
    "\n",
    "!mkdir unconstrainCTBuckedPowerlaw/\n",
    "cities = os.listdir('cities/')\n",
    "citiesDir = 'cities/'\n",
    "refDir = 'unconstrainCTPowerlaw/'\n",
    "outputDir = 'unconstrainCTBuckedPowerlaw/'\n",
    "\n",
    "for city in cities:\n",
    "    if '.csv' in city:\n",
    "        print(city)\n",
    "        df = pd.read_csv(citiesDir+city)\n",
    "        df.rename(columns={'jobs':'S000jobs', 'residence':'S000residence','flow':'S000flow'}, inplace=True)\n",
    "        leastBin = binDict[city][0]\n",
    "        ct = len(df['origin'].unique())\n",
    "        improvedBin = int((leastBin + ct)/2)\n",
    "        predicted_bfpl = unconstrained_bucked_powerlaw(df, 'S000',bins=improvedBin)\n",
    "        mse = mean_squared_error(predicted_bfpl['S000flow'],predicted_bfpl['S000pred'])\n",
    "        predicted_bfpl[['origin', 'destination','S000flow','S000pred']].to_csv(outputDir+city,index=False)\n",
    "        grouped_bfpl = predicted_bfpl.groupby('bin').agg({'S000f': 'min'})\n",
    "        grouped_bfpl = grouped_bfpl.reset_index()\n",
    "            \n"
   ]
  },
  {
   "cell_type": "code",
   "execution_count": 200,
   "metadata": {},
   "outputs": [
    {
     "name": "stdout",
     "output_type": "stream",
     "text": [
      "city      ordinary bucket\n",
      "Chicago 15.6    11.78\n",
      "Phoenix 15.69    15.2\n",
      "New York City 4.48    4.37\n",
      "San Diego 44.48    39.17\n",
      "San Jose 54.92    51.82\n",
      "Austin 109.42    102.26\n",
      "San Antonio 40.87    38.68\n",
      "Philadelphia 20.22    18.93\n",
      "Dallas 27.12    25.16\n",
      "Houston 37.23    33.56\n",
      "Boston 49.55    48.66\n",
      "Los Angeles 5.76    5.41\n"
     ]
    }
   ],
   "source": [
    "\n",
    "cities = os.listdir('cities/')\n",
    "citiesDir = 'cities/'\n",
    "refDir = 'unconstrainCTPowerlaw/'\n",
    "outputDir = 'unconstrainCTBuckedPowerlaw/'\n",
    "print('city','     ordinary','bucket')\n",
    "for city in cities:\n",
    "    if '.csv' in city:\n",
    "#         print(city)\n",
    "        df = pd.read_csv(outputDir+city)\n",
    "        refdf = pd.read_csv(refDir+city)\n",
    "        refmse = mean_squared_error(refdf['S000flow'],refdf['S000pred'])\n",
    "        mse = mean_squared_error(df['S000flow'],df['S000pred'])\n",
    "        print(city.split('.')[0], round(refmse,2),'  ',round(mse,2))\n"
   ]
  },
  {
   "cell_type": "markdown",
   "metadata": {},
   "source": [
    "## simple train test split for all three models"
   ]
  },
  {
   "cell_type": "code",
   "execution_count": 17,
   "metadata": {},
   "outputs": [],
   "source": [
    "binDict = {'Chicago.csv': 15,\n",
    " 'San Diego.csv': 30,\n",
    " 'San Jose.csv': 40,\n",
    " 'Austin.csv': 65,\n",
    " 'San Antonio.csv': 90,\n",
    " 'Philadelphia.csv': 35,\n",
    " 'Dallas.csv': 25,\n",
    " 'Houston.csv': 45,\n",
    " 'Boston.csv': 180,\n",
    " 'Phoenix.csv': 310,\n",
    " 'New York City.csv': 630,\n",
    " 'Los Angeles.csv': 980}"
   ]
  },
  {
   "cell_type": "code",
   "execution_count": 15,
   "metadata": {},
   "outputs": [],
   "source": [
    "def splitcut(df,bins):\n",
    "    df['bin'] = pd.qcut(df['distance'], q=bins)\n",
    "    df.rename(columns={'jobs':'S000jobs', 'residence':'S000residence','flow':'S000flow'}, inplace=True)\n",
    "    test_set = df.sample(frac=0.2, random_state=1)\n",
    "    train_set = df.drop(test_set.index)\n",
    "    return (train_set,test_set)"
   ]
  },
  {
   "cell_type": "code",
   "execution_count": 59,
   "metadata": {},
   "outputs": [
    {
     "name": "stdout",
     "output_type": "stream",
     "text": [
      "Chicago.csv\n",
      "Phoenix.csv\n",
      "New York City.csv\n",
      "San Diego.csv\n",
      "San Jose.csv\n",
      "Austin.csv\n",
      "San Antonio.csv\n",
      "Philadelphia.csv\n",
      "Dallas.csv\n",
      "Houston.csv\n",
      "Boston.csv\n",
      "Los Angeles.csv\n"
     ]
    }
   ],
   "source": [
    "\n",
    "mseDict = {}\n",
    "cities = os.listdir('cities/')\n",
    "citiesDir = 'cities/'\n",
    "target = 'S000'\n",
    "for city in cities:\n",
    "    if '.csv' in city:\n",
    "        print(city)\n",
    "        df = pd.read_csv(citiesDir+city)\n",
    "\n",
    "        bins = 17\n",
    "        train_set,test_set = splitcut(df,bins)\n",
    "        #baseline\n",
    "        pars = baseline_fit(train_set,target)\n",
    "        test_baseline = baseline_predict(test_set,target,pars)\n",
    "        mseBaseline = mean_squared_error(test_baseline[target+'flow'],test_baseline[target+'pred'])\n",
    "\n",
    "        # piecewise\n",
    "        model = fit_piece_power_law(train_set, target='S000')\n",
    "        prediction_results = predict_piece_power_law(test_set, 'S000', model)\n",
    "        msePiece = mean_squared_error(prediction_results.S000flow, prediction_results.S000pred)\n",
    "\n",
    "        # fd\n",
    "        train_set,test_set = splitcut(df,binDict[city])\n",
    "        k,binf = unconstrained_bucked_powerlaw_fit(train_set, target)\n",
    "        test_fd = unconstrained_bucked_powerlaw_predict(test_set,target,k,binf)\n",
    "        msefd = mean_squared_error(test_fd[target+'flow'],test_fd[target+'pred'])\n",
    "\n",
    "        mseDict[city] = [mseBaseline,msePiece,msefd]\n"
   ]
  },
  {
   "cell_type": "code",
   "execution_count": 63,
   "metadata": {},
   "outputs": [
    {
     "data": {
      "text/html": [
       "<div>\n",
       "<style scoped>\n",
       "    .dataframe tbody tr th:only-of-type {\n",
       "        vertical-align: middle;\n",
       "    }\n",
       "\n",
       "    .dataframe tbody tr th {\n",
       "        vertical-align: top;\n",
       "    }\n",
       "\n",
       "    .dataframe thead th {\n",
       "        text-align: right;\n",
       "    }\n",
       "</style>\n",
       "<table border=\"1\" class=\"dataframe\">\n",
       "  <thead>\n",
       "    <tr style=\"text-align: right;\">\n",
       "      <th></th>\n",
       "      <th>baseline</th>\n",
       "      <th>piecewise</th>\n",
       "      <th>f(d)</th>\n",
       "    </tr>\n",
       "  </thead>\n",
       "  <tbody>\n",
       "    <tr>\n",
       "      <th>Chicago.csv</th>\n",
       "      <td>16.091383</td>\n",
       "      <td>15.425268</td>\n",
       "      <td>15.577988</td>\n",
       "    </tr>\n",
       "    <tr>\n",
       "      <th>Phoenix.csv</th>\n",
       "      <td>17.416064</td>\n",
       "      <td>16.651787</td>\n",
       "      <td>16.926388</td>\n",
       "    </tr>\n",
       "    <tr>\n",
       "      <th>New York City.csv</th>\n",
       "      <td>4.553596</td>\n",
       "      <td>4.541836</td>\n",
       "      <td>4.662974</td>\n",
       "    </tr>\n",
       "    <tr>\n",
       "      <th>San Diego.csv</th>\n",
       "      <td>53.784579</td>\n",
       "      <td>50.413354</td>\n",
       "      <td>55.838157</td>\n",
       "    </tr>\n",
       "    <tr>\n",
       "      <th>San Jose.csv</th>\n",
       "      <td>46.910848</td>\n",
       "      <td>46.291922</td>\n",
       "      <td>47.987857</td>\n",
       "    </tr>\n",
       "    <tr>\n",
       "      <th>Austin.csv</th>\n",
       "      <td>81.152318</td>\n",
       "      <td>78.463243</td>\n",
       "      <td>88.041297</td>\n",
       "    </tr>\n",
       "    <tr>\n",
       "      <th>San Antonio.csv</th>\n",
       "      <td>40.675587</td>\n",
       "      <td>41.292987</td>\n",
       "      <td>45.001992</td>\n",
       "    </tr>\n",
       "    <tr>\n",
       "      <th>Philadelphia.csv</th>\n",
       "      <td>18.166327</td>\n",
       "      <td>18.109687</td>\n",
       "      <td>19.074656</td>\n",
       "    </tr>\n",
       "    <tr>\n",
       "      <th>Dallas.csv</th>\n",
       "      <td>24.922147</td>\n",
       "      <td>25.598960</td>\n",
       "      <td>27.572746</td>\n",
       "    </tr>\n",
       "    <tr>\n",
       "      <th>Houston.csv</th>\n",
       "      <td>33.315030</td>\n",
       "      <td>31.992327</td>\n",
       "      <td>32.373133</td>\n",
       "    </tr>\n",
       "    <tr>\n",
       "      <th>Boston.csv</th>\n",
       "      <td>61.033454</td>\n",
       "      <td>60.808485</td>\n",
       "      <td>55.984105</td>\n",
       "    </tr>\n",
       "    <tr>\n",
       "      <th>Los Angeles.csv</th>\n",
       "      <td>5.437171</td>\n",
       "      <td>5.402263</td>\n",
       "      <td>5.815213</td>\n",
       "    </tr>\n",
       "  </tbody>\n",
       "</table>\n",
       "</div>"
      ],
      "text/plain": [
       "                    baseline  piecewise       f(d)\n",
       "Chicago.csv        16.091383  15.425268  15.577988\n",
       "Phoenix.csv        17.416064  16.651787  16.926388\n",
       "New York City.csv   4.553596   4.541836   4.662974\n",
       "San Diego.csv      53.784579  50.413354  55.838157\n",
       "San Jose.csv       46.910848  46.291922  47.987857\n",
       "Austin.csv         81.152318  78.463243  88.041297\n",
       "San Antonio.csv    40.675587  41.292987  45.001992\n",
       "Philadelphia.csv   18.166327  18.109687  19.074656\n",
       "Dallas.csv         24.922147  25.598960  27.572746\n",
       "Houston.csv        33.315030  31.992327  32.373133\n",
       "Boston.csv         61.033454  60.808485  55.984105\n",
       "Los Angeles.csv     5.437171   5.402263   5.815213"
      ]
     },
     "execution_count": 63,
     "metadata": {},
     "output_type": "execute_result"
    }
   ],
   "source": [
    "results = pd.DataFrame.from_dict(mseDict).T\n",
    "results.columns = ['baseline','piecewise','f(d)']\n",
    "results"
   ]
  },
  {
   "cell_type": "code",
   "execution_count": null,
   "metadata": {},
   "outputs": [],
   "source": []
  }
 ],
 "metadata": {
  "kernelspec": {
   "display_name": "py38",
   "language": "python",
   "name": "py38"
  },
  "language_info": {
   "codemirror_mode": {
    "name": "ipython",
    "version": 3
   },
   "file_extension": ".py",
   "mimetype": "text/x-python",
   "name": "python",
   "nbconvert_exporter": "python",
   "pygments_lexer": "ipython3",
   "version": "3.8.10"
  }
 },
 "nbformat": 4,
 "nbformat_minor": 2
}
