{
 "cells": [
  {
   "cell_type": "code",
   "execution_count": 1,
   "id": "amber-comment",
   "metadata": {},
   "outputs": [],
   "source": [
    "# data format: city, state usps code, list of counties\n",
    "cities = [\n",
    "    ('New York City', 'ny', ['New York County, NY', 'Queens County, NY','Kings County, NY','Bronx County, NY','Richmond County, NY']),\n",
    "    ('Los Angeles', 'ca', ['Los Angeles County, CA']),\n",
    "    ('Chicago', 'il', ['Cook County, IL']),\n",
    "    ('Houston', 'tx', ['Harris County, TX']),\n",
    "    ('Boston', 'ma', ['Suffolk County, MA', 'Middlesex County, MA']),\n",
    "    ('Phoenix', 'az', ['Maricopa County, AZ']),\n",
    "    ('Philadelphia', 'pa', ['Philadelphia County, PA']),\n",
    "    ('San Antonio', 'tx', ['Bexar County, TX']),\n",
    "    ('San Diego', 'ca', ['San Diego County, CA']),\n",
    "    ('Dallas', 'tx', ['Dallas County, TX']),\n",
    "    ('San Jose', 'ca', ['Santa Clara County, CA']),\n",
    "    ('Austin', 'tx', ['Travis County, TX']),\n",
    "]"
   ]
  },
  {
   "cell_type": "code",
   "execution_count": 2,
   "id": "coastal-generation",
   "metadata": {},
   "outputs": [],
   "source": [
    "import math\n",
    "import pandas as pd\n",
    "import numpy as np\n",
    "import matplotlib.pyplot as plt\n",
    "import statsmodels.api as sm\n",
    "from sttn.network import SpatioTemporalNetwork\n",
    "from sttn.utils import add_distance\n",
    "from sklearn.metrics import mean_squared_error\n",
    "from skmob.models import Gravity\n",
    "import statsmodels.api as sm\n",
    "\n",
    "def compute_weights(network, job_column):\n",
    "    comp_aggs={job_column: 'sum'}\n",
    "    # outgoing=False corresponds to jobs, outgoing=True corresponds to population \n",
    "    jobs = network.agg_adjacent_edges(aggs=comp_aggs, outgoing=False).rename(columns={job_column: 'jobs'})\n",
    "    residence = network.agg_adjacent_edges(aggs=comp_aggs, outgoing=True).rename(columns={job_column: 'residence'})\n",
    "    edges = network.edges\n",
    "    \n",
    "    edges_with_weights = edges.join(residence, on='origin').join(jobs, on='destination')\n",
    "    return edges_with_weights\n",
    "    \n",
    "def fit_gravity_model(edges, job_column):\n",
    "    copy = edges.copy()\n",
    "    # replace zero values with 1\n",
    "    copy.loc[(copy['jobs'] == 0), 'jobs'] = 1 \n",
    "    copy.loc[(copy['residence'] == 0), 'residence'] = 1 \n",
    "    copy.loc[(copy['distance'] == 0), 'distance'] = 1 \n",
    "    \n",
    "    X = sm.add_constant(np.log(copy.distance))\n",
    "    y = np.log(copy[job_column]) - np.log(copy.jobs) - np.log(copy.distance)\n",
    "    \n",
    "    model = sm.OLS(y, X).fit()\n",
    "    return model\n",
    "\n",
    "def extract_model_exponents(network):\n",
    "    columns = ['SE01', 'SE03']\n",
    "    with_distance = add_distance(network)\n",
    "    filtered_network = with_distance.filter_edges((with_distance.edges.SE01 > 0) & (with_distance.edges.SE03 > 0))\n",
    "                                             \n",
    "    result = {}\n",
    "    for column in columns:\n",
    "        with_weights = compute_weights(filtered_network, column)\n",
    "        model = fit_gravity_model(with_weights, column)\n",
    "        conf_interval = model.conf_int(alpha=0.05, cols=None).loc['distance']\n",
    "        result[column] = model.params[1]\n",
    "        result[column + '_error'] = model.params[1] - conf_interval[0]\n",
    "    \n",
    "    return result"
   ]
  },
  {
   "cell_type": "code",
   "execution_count": null,
   "id": "miniature-classics",
   "metadata": {
    "scrolled": false
   },
   "outputs": [],
   "source": [
    "from sttn.data.lehd import OriginDestinationEmploymentDataProvider\n",
    "provider = OriginDestinationEmploymentDataProvider()\n",
    "\n",
    "model_weights = {}\n",
    "for city, state, conties in cities:\n",
    "    print('Processing {city}'.format(city=city))\n",
    "    state_network = provider.get_data(state=state, year=2018)\n",
    "    city_network = state_network.filter_nodes(state_network.nodes.county.isin(conties))\n",
    "    zip_city_network = city_network.group_nodes('zip')\n",
    "    city_network = zip_city_network.agg_parallel_edges(column_aggs={'S000': 'sum', 'SE01': 'sum', 'SE02': 'sum', 'SE03': 'sum'})\n",
    "    exponents = extract_model_exponents(city_network)\n",
    "    model_weights[city] = exponents"
   ]
  },
  {
   "cell_type": "markdown",
   "id": "imposed-jefferson",
   "metadata": {},
   "source": [
    "## Visualize exponents and confidence intervals"
   ]
  },
  {
   "cell_type": "code",
   "execution_count": 11,
   "id": "2b90f9bc",
   "metadata": {},
   "outputs": [],
   "source": [
    "df = pd.DataFrame(model_weights).transpose()\n",
    "exponents = df[['SE01', 'SE03']].copy()\n",
    "exponents.SE01 = -exponents.SE01\n",
    "exponents.SE03 = -exponents.SE03\n",
    "exponents = exponents.rename(columns={'SE01':'low income', 'SE03':'high income'})\n",
    "errors = df[['SE01_error', 'SE03_error']].rename(columns={'SE01_error':'low income','SE03_error':'high income'})\n",
    "exponents.to_clipboard()"
   ]
  },
  {
   "cell_type": "code",
   "execution_count": 6,
   "id": "e3a4e205",
   "metadata": {},
   "outputs": [
    {
     "data": {
      "image/png": "[encoded data removed]",
      "text/plain": [
       "<Figure size 1152x576 with 1 Axes>"
      ]
     },
     "metadata": {
      "needs_background": "light"
     },
     "output_type": "display_data"
    }
   ],
   "source": [
    "fig, ax = plt.subplots(figsize=(16,8))\n",
    "exponents.plot.bar(yerr=errors, ax=ax, capsize=4, rot=0);"
   ]
  },
  {
   "cell_type": "markdown",
   "id": "47e9c38a",
   "metadata": {},
   "source": [
    "## Visualize the difference between low and high income exponents"
   ]
  },
  {
   "cell_type": "code",
   "execution_count": 10,
   "id": "ebe28520",
   "metadata": {},
   "outputs": [
    {
     "data": {
      "text/plain": [
       "<AxesSubplot:xlabel='City'>"
      ]
     },
     "execution_count": 10,
     "metadata": {},
     "output_type": "execute_result"
    },
    {
     "data": {
      "image/png": "[encoded data removed]",
      "text/plain": [
       "<Figure size 1152x576 with 1 Axes>"
      ]
     },
     "metadata": {
      "needs_background": "light"
     },
     "output_type": "display_data"
    }
   ],
   "source": [
    "exponents['low_minus_high'] = exponents['low income'] - exponents['high income']\n",
    "delta = exponents.sort_values('low_minus_high').reset_index().rename(columns={'index':'City'})\n",
    "fig, ax = plt.subplots(figsize=(16,8))\n",
    "delta.plot.bar(x='City', y='low_minus_high', ax=ax, capsize=4, rot=0)"
   ]
  }
 ],
 "metadata": {
  "kernelspec": {
   "display_name": "Python 3",
   "language": "python",
   "name": "python3"
  },
  "language_info": {
   "codemirror_mode": {
    "name": "ipython",
    "version": 3
   },
   "file_extension": ".py",
   "mimetype": "text/x-python",
   "name": "python",
   "nbconvert_exporter": "python",
   "pygments_lexer": "ipython3",
   "version": "3.8.6"
  }
 },
 "nbformat": 4,
 "nbformat_minor": 5
}
